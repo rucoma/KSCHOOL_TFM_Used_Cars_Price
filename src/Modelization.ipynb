{
 "cells": [
  {
   "cell_type": "markdown",
   "metadata": {},
   "source": [
    "# Modelization\n"
   ]
  },
  {
   "cell_type": "markdown",
   "metadata": {},
   "source": [
    "### Importing libraries"
   ]
  },
  {
   "cell_type": "code",
   "execution_count": 2,
   "metadata": {},
   "outputs": [],
   "source": [
    "import pandas as pd\n",
    "pd.set_option(\"max_columns\", 50)\n",
    "import numpy as np\n",
    "import matplotlib.pyplot as plt\n",
    "from scipy import stats\n",
    "from sklearn import tree\n",
    "from sklearn import neighbors\n",
    "from sklearn.ensemble import RandomForestRegressor\n",
    "from sklearn.ensemble import GradientBoostingRegressor\n",
    "from sklearn.model_selection import GridSearchCV, train_test_split\n",
    "from sklearn.preprocessing import LabelEncoder\n",
    "from sklearn.datasets import make_classification\n",
    "from collections import OrderedDict, defaultdict\n",
    "from sklearn.externals import joblib\n",
    "from sklearn.metrics import r2_score, mean_squared_error"
   ]
  },
  {
   "cell_type": "markdown",
   "metadata": {},
   "source": [
    "### Convenience functions\n",
    "* Chart Results: Compares target with predicted data:"
   ]
  },
  {
   "cell_type": "code",
   "execution_count": 3,
   "metadata": {},
   "outputs": [],
   "source": [
    "def chartResults(y, predBest, trainTest, model=None):\n",
    "    \n",
    "    '''\n",
    "    Example of use\n",
    "    chartResults(y=y_train, predBest=predTrain, trainTest='Train', model='Decision Trees')\n",
    "    '''\n",
    "    \n",
    "    plt.figure(figsize=(6, 4))\n",
    "    plt.scatter(y, predBest, s=20,alpha=0.1)\n",
    "    plt.title(model + '\\nPredicted Price vs. Real Price. \\n' + trainTest + ' dataset')\n",
    "    plt.xlabel('Real Price')\n",
    "    plt.ylabel('Predicted Price')\n",
    "    plt.plot([min(y), max(y)], [min(y), max(y)], 'y')\n",
    "    \n",
    "#    return plt.tight_layout()\n",
    "    return plt.show()"
   ]
  },
  {
   "cell_type": "markdown",
   "metadata": {},
   "source": [
    "* Results data frame:"
   ]
  },
  {
   "cell_type": "code",
   "execution_count": 4,
   "metadata": {},
   "outputs": [
    {
     "data": {
      "text/html": [
       "<div>\n",
       "<style scoped>\n",
       "    .dataframe tbody tr th:only-of-type {\n",
       "        vertical-align: middle;\n",
       "    }\n",
       "\n",
       "    .dataframe tbody tr th {\n",
       "        vertical-align: top;\n",
       "    }\n",
       "\n",
       "    .dataframe thead th {\n",
       "        text-align: right;\n",
       "    }\n",
       "</style>\n",
       "<table border=\"1\" class=\"dataframe\">\n",
       "  <thead>\n",
       "    <tr style=\"text-align: right;\">\n",
       "      <th></th>\n",
       "      <th>Algorithm</th>\n",
       "      <th>Fine_Tuning</th>\n",
       "      <th>R2_Train</th>\n",
       "      <th>R2_Test</th>\n",
       "      <th>MSE_Train</th>\n",
       "      <th>MSE_Test</th>\n",
       "    </tr>\n",
       "  </thead>\n",
       "  <tbody>\n",
       "  </tbody>\n",
       "</table>\n",
       "</div>"
      ],
      "text/plain": [
       "Empty DataFrame\n",
       "Columns: [Algorithm, Fine_Tuning, R2_Train, R2_Test, MSE_Train, MSE_Test]\n",
       "Index: []"
      ]
     },
     "execution_count": 4,
     "metadata": {},
     "output_type": "execute_result"
    }
   ],
   "source": [
    "modelizationResults = pd.DataFrame({'Algorithm': [], \n",
    "                                    'Fine_Tuning': [],\n",
    "                                    'R2_Train': [], \n",
    "                                    'R2_Test': [], \n",
    "                                    'MSE_Train': [], \n",
    "                                    'MSE_Test': []})\n",
    "modelizationResults"
   ]
  },
  {
   "cell_type": "code",
   "execution_count": 5,
   "metadata": {},
   "outputs": [],
   "source": [
    "def rowOfResults(Algorithm, Fine_Tuning, R2_Train, R2_Test, MSE_Train, MSE_Test):\n",
    "    '''\n",
    "    Example:\n",
    "    rowOfResults('Decision trees', True, 2, 3, 4, 5)\n",
    "    '''\n",
    "    tempResults = pd.DataFrame({'Algorithm': [Algorithm], \n",
    "                                'Fine_Tuning': [Fine_Tuning],\n",
    "                                'R2_Train': [np.round(R2_Train, 3)],\n",
    "                                'R2_Test': [np.round(R2_Test, 3)],\n",
    "                                'MSE_Train': [np.round(MSE_Train, 0)],\n",
    "                                'MSE_Test': [np.round(MSE_Test, 0)]})\n",
    "    return tempResults"
   ]
  },
  {
   "cell_type": "markdown",
   "metadata": {},
   "source": [
    "### Reading clean dataset\n"
   ]
  },
  {
   "cell_type": "code",
   "execution_count": 6,
   "metadata": {},
   "outputs": [],
   "source": [
    "datasetCarsFinal = pd.read_csv('../data/autosFinal.csv',\n",
    "                               usecols=[\n",
    "                                      #'brand', \n",
    "                                      #'model', \n",
    "                                      'brandModel',\n",
    "                                      'vehicleType', \n",
    "                                      'gearbox', \n",
    "                                      'yearOfRegistration',\n",
    "                                      'fuelType',\n",
    "                                      'powerPS',\n",
    "                                      'kilometer',\n",
    "                                      #'kilometerCategorical',\n",
    "                                      #'kilometer000',\n",
    "                                      'notRepairedDamage',\n",
    "                                      #'postalCode',\n",
    "                                      'state',\n",
    "                                      #'community',\n",
    "                                      'price'\n",
    "                                      ],\n",
    "                               dtype={\n",
    "                                      #'brand': 'str', \n",
    "                                      #'model': 'str', \n",
    "                                      'brandModel': 'str', \n",
    "                                      'vehicleType': 'str', \n",
    "                                      'gearbox': 'str', \n",
    "                                      'yearOfRegistration': np.int64,\n",
    "                                      'fuelType': 'str',\n",
    "                                      'powerPS': np.int64,\n",
    "                                      'kilometer': np.int64,\n",
    "                                      #'kilometerCategorical': 'str',\n",
    "                                      #'kilometer000': np.int64,\n",
    "                                      'notRepairedDamage': 'str',\n",
    "                                      #'postalCode': 'str',\n",
    "                                      'state': 'str',\n",
    "                                      #'community':'str',\n",
    "                                      'price': np.int64\n",
    "                                      })"
   ]
  },
  {
   "cell_type": "code",
   "execution_count": 7,
   "metadata": {},
   "outputs": [
    {
     "data": {
      "text/plain": [
       "Index(['state', 'price', 'vehicleType', 'yearOfRegistration', 'gearbox',\n",
       "       'powerPS', 'fuelType', 'notRepairedDamage', 'kilometer', 'brandModel'],\n",
       "      dtype='object')"
      ]
     },
     "execution_count": 7,
     "metadata": {},
     "output_type": "execute_result"
    }
   ],
   "source": [
    "datasetCarsFinal.columns"
   ]
  },
  {
   "cell_type": "code",
   "execution_count": 8,
   "metadata": {
    "scrolled": true
   },
   "outputs": [
    {
     "data": {
      "text/html": [
       "<div>\n",
       "<style scoped>\n",
       "    .dataframe tbody tr th:only-of-type {\n",
       "        vertical-align: middle;\n",
       "    }\n",
       "\n",
       "    .dataframe tbody tr th {\n",
       "        vertical-align: top;\n",
       "    }\n",
       "\n",
       "    .dataframe thead th {\n",
       "        text-align: right;\n",
       "    }\n",
       "</style>\n",
       "<table border=\"1\" class=\"dataframe\">\n",
       "  <thead>\n",
       "    <tr style=\"text-align: right;\">\n",
       "      <th></th>\n",
       "      <th>state</th>\n",
       "      <th>price</th>\n",
       "      <th>vehicleType</th>\n",
       "      <th>yearOfRegistration</th>\n",
       "      <th>gearbox</th>\n",
       "      <th>powerPS</th>\n",
       "      <th>fuelType</th>\n",
       "      <th>notRepairedDamage</th>\n",
       "      <th>kilometer</th>\n",
       "      <th>brandModel</th>\n",
       "    </tr>\n",
       "  </thead>\n",
       "  <tbody>\n",
       "    <tr>\n",
       "      <th>0</th>\n",
       "      <td>Bayern</td>\n",
       "      <td>9800</td>\n",
       "      <td>suv</td>\n",
       "      <td>2004</td>\n",
       "      <td>automatik</td>\n",
       "      <td>163</td>\n",
       "      <td>diesel</td>\n",
       "      <td>nein</td>\n",
       "      <td>125000</td>\n",
       "      <td>jeep grand</td>\n",
       "    </tr>\n",
       "    <tr>\n",
       "      <th>1</th>\n",
       "      <td>Bayern</td>\n",
       "      <td>1500</td>\n",
       "      <td>kleinwagen</td>\n",
       "      <td>2001</td>\n",
       "      <td>manuell</td>\n",
       "      <td>75</td>\n",
       "      <td>benzin</td>\n",
       "      <td>nein</td>\n",
       "      <td>150000</td>\n",
       "      <td>volkswagen golf</td>\n",
       "    </tr>\n",
       "    <tr>\n",
       "      <th>2</th>\n",
       "      <td>Hessen</td>\n",
       "      <td>3600</td>\n",
       "      <td>kleinwagen</td>\n",
       "      <td>2008</td>\n",
       "      <td>manuell</td>\n",
       "      <td>69</td>\n",
       "      <td>diesel</td>\n",
       "      <td>nein</td>\n",
       "      <td>90000</td>\n",
       "      <td>skoda fabia</td>\n",
       "    </tr>\n",
       "    <tr>\n",
       "      <th>3</th>\n",
       "      <td>Nordrhein-Westfalen</td>\n",
       "      <td>650</td>\n",
       "      <td>limousine</td>\n",
       "      <td>1995</td>\n",
       "      <td>manuell</td>\n",
       "      <td>102</td>\n",
       "      <td>benzin</td>\n",
       "      <td>ja</td>\n",
       "      <td>150000</td>\n",
       "      <td>bmw 3er</td>\n",
       "    </tr>\n",
       "    <tr>\n",
       "      <th>4</th>\n",
       "      <td>Rheinland-Pfalz</td>\n",
       "      <td>2200</td>\n",
       "      <td>cabrio</td>\n",
       "      <td>2004</td>\n",
       "      <td>manuell</td>\n",
       "      <td>109</td>\n",
       "      <td>benzin</td>\n",
       "      <td>nein</td>\n",
       "      <td>150000</td>\n",
       "      <td>peugeot 2_reihe</td>\n",
       "    </tr>\n",
       "  </tbody>\n",
       "</table>\n",
       "</div>"
      ],
      "text/plain": [
       "                 state  price vehicleType  yearOfRegistration    gearbox  \\\n",
       "0               Bayern   9800         suv                2004  automatik   \n",
       "1               Bayern   1500  kleinwagen                2001    manuell   \n",
       "2               Hessen   3600  kleinwagen                2008    manuell   \n",
       "3  Nordrhein-Westfalen    650   limousine                1995    manuell   \n",
       "4      Rheinland-Pfalz   2200      cabrio                2004    manuell   \n",
       "\n",
       "   powerPS fuelType notRepairedDamage  kilometer       brandModel  \n",
       "0      163   diesel              nein     125000       jeep grand  \n",
       "1       75   benzin              nein     150000  volkswagen golf  \n",
       "2       69   diesel              nein      90000      skoda fabia  \n",
       "3      102   benzin                ja     150000          bmw 3er  \n",
       "4      109   benzin              nein     150000  peugeot 2_reihe  "
      ]
     },
     "execution_count": 8,
     "metadata": {},
     "output_type": "execute_result"
    }
   ],
   "source": [
    "datasetCarsFinal.head()"
   ]
  },
  {
   "cell_type": "markdown",
   "metadata": {},
   "source": [
    "***"
   ]
  },
  {
   "cell_type": "markdown",
   "metadata": {},
   "source": [
    "## Data setup\n",
    "### Splitting dataset into target, and numerical and categorical predictors\n",
    "This is necessary in order to use LabelEncoder only on categorical features"
   ]
  },
  {
   "cell_type": "code",
   "execution_count": 9,
   "metadata": {},
   "outputs": [],
   "source": [
    "target = datasetCarsFinal['price']\n",
    "numerical = datasetCarsFinal[['yearOfRegistration', 'powerPS']]\n",
    "categorical = datasetCarsFinal.drop(['yearOfRegistration', 'powerPS', 'price'], axis=1)"
   ]
  },
  {
   "cell_type": "markdown",
   "metadata": {},
   "source": [
    "Now, we can apply Label encoder to each categorical column and rejoin columns in a new data frame"
   ]
  },
  {
   "cell_type": "code",
   "execution_count": 10,
   "metadata": {},
   "outputs": [],
   "source": [
    "d = defaultdict(LabelEncoder)\n",
    "categorical_encoded = categorical.apply(lambda x: d[x.name].fit_transform(x))\n",
    "datasetCarsFinalConcat = pd.concat([categorical_encoded, numerical], axis=1)"
   ]
  },
  {
   "cell_type": "markdown",
   "metadata": {},
   "source": [
    "For later use, we will save label encoding using joblib"
   ]
  },
  {
   "cell_type": "code",
   "execution_count": 11,
   "metadata": {},
   "outputs": [
    {
     "data": {
      "text/plain": [
       "['../output/carsLabelEncoder.pkl']"
      ]
     },
     "execution_count": 11,
     "metadata": {},
     "output_type": "execute_result"
    }
   ],
   "source": [
    "joblib.dump(d, '../output/carsLabelEncoder.pkl')"
   ]
  },
  {
   "cell_type": "markdown",
   "metadata": {},
   "source": [
    "### Create train and test datasets"
   ]
  },
  {
   "cell_type": "code",
   "execution_count": 12,
   "metadata": {},
   "outputs": [],
   "source": [
    "np.random.seed(42)\n",
    "train, test = train_test_split(datasetCarsFinalConcat.index, test_size = 0.2)\n",
    "\n",
    "X_train = datasetCarsFinalConcat.loc[train]\n",
    "y_train = target.loc[train]\n",
    "\n",
    "X_test = datasetCarsFinalConcat.loc[test]\n",
    "y_test = target.loc[test]"
   ]
  },
  {
   "cell_type": "code",
   "execution_count": 13,
   "metadata": {},
   "outputs": [
    {
     "data": {
      "text/plain": [
       "((205724, 9), (205724,))"
      ]
     },
     "execution_count": 13,
     "metadata": {},
     "output_type": "execute_result"
    }
   ],
   "source": [
    "X_train.shape, y_train.shape "
   ]
  },
  {
   "cell_type": "code",
   "execution_count": 14,
   "metadata": {},
   "outputs": [
    {
     "data": {
      "text/plain": [
       "((51431, 9), (51431,))"
      ]
     },
     "execution_count": 14,
     "metadata": {},
     "output_type": "execute_result"
    }
   ],
   "source": [
    "X_test.shape, y_test.shape"
   ]
  },
  {
   "cell_type": "markdown",
   "metadata": {},
   "source": [
    "Now, data is ready to modelization process"
   ]
  },
  {
   "cell_type": "markdown",
   "metadata": {},
   "source": [
    "***"
   ]
  },
  {
   "cell_type": "markdown",
   "metadata": {},
   "source": [
    "## Decision Trees\n",
    "Our first try will be Decision Trees algorithm. No hyperparameters will be tuned for the moment:"
   ]
  },
  {
   "cell_type": "code",
   "execution_count": 15,
   "metadata": {},
   "outputs": [],
   "source": [
    "regrDT = tree.DecisionTreeRegressor().fit(X_train, y_train)"
   ]
  },
  {
   "cell_type": "code",
   "execution_count": 16,
   "metadata": {},
   "outputs": [],
   "source": [
    "predDTTrain = regrDT.predict(X_train)\n",
    "predDTTest = regrDT.predict(X_test)"
   ]
  },
  {
   "cell_type": "markdown",
   "metadata": {},
   "source": [
    "### Model scores:  \n",
    "* $R^2$ Score:"
   ]
  },
  {
   "cell_type": "code",
   "execution_count": 17,
   "metadata": {
    "scrolled": true
   },
   "outputs": [
    {
     "name": "stdout",
     "output_type": "stream",
     "text": [
      "R2 Train: 0.991 \n",
      "R2 Test:  0.812\n"
     ]
    }
   ],
   "source": [
    "R2DTTrain = r2_score(y_train, predDTTrain)\n",
    "R2DTTest = r2_score(y_test, predDTTest)\n",
    "print('R2 Train: %.3f' % R2DTTrain, '\\nR2 Test:  %.3f' % R2DTTest)"
   ]
  },
  {
   "cell_type": "markdown",
   "metadata": {},
   "source": [
    "* MSE Score:"
   ]
  },
  {
   "cell_type": "code",
   "execution_count": 18,
   "metadata": {
    "scrolled": true
   },
   "outputs": [
    {
     "name": "stdout",
     "output_type": "stream",
     "text": [
      "MSE Train: 544,289.062484 \n",
      "MSE Test: 12,328,599.888800\n"
     ]
    }
   ],
   "source": [
    "MSEDTTrain = mean_squared_error(y_train, predDTTrain)\n",
    "MSEDTTest = mean_squared_error(y_test, predDTTest)\n",
    "print('MSE Train:', format(MSEDTTrain, ',f'), '\\nMSE Test:', format(MSEDTTest, ',f'))"
   ]
  },
  {
   "cell_type": "code",
   "execution_count": 19,
   "metadata": {
    "scrolled": true
   },
   "outputs": [
    {
     "data": {
      "text/html": [
       "<div>\n",
       "<style scoped>\n",
       "    .dataframe tbody tr th:only-of-type {\n",
       "        vertical-align: middle;\n",
       "    }\n",
       "\n",
       "    .dataframe tbody tr th {\n",
       "        vertical-align: top;\n",
       "    }\n",
       "\n",
       "    .dataframe thead th {\n",
       "        text-align: right;\n",
       "    }\n",
       "</style>\n",
       "<table border=\"1\" class=\"dataframe\">\n",
       "  <thead>\n",
       "    <tr style=\"text-align: right;\">\n",
       "      <th></th>\n",
       "      <th>Algorithm</th>\n",
       "      <th>Fine_Tuning</th>\n",
       "      <th>R2_Train</th>\n",
       "      <th>R2_Test</th>\n",
       "      <th>MSE_Train</th>\n",
       "      <th>MSE_Test</th>\n",
       "    </tr>\n",
       "  </thead>\n",
       "  <tbody>\n",
       "    <tr>\n",
       "      <th>0</th>\n",
       "      <td>Decision trees</td>\n",
       "      <td>False</td>\n",
       "      <td>0.991</td>\n",
       "      <td>0.812</td>\n",
       "      <td>544289.0</td>\n",
       "      <td>12328600.0</td>\n",
       "    </tr>\n",
       "  </tbody>\n",
       "</table>\n",
       "</div>"
      ],
      "text/plain": [
       "        Algorithm  Fine_Tuning  R2_Train  R2_Test  MSE_Train    MSE_Test\n",
       "0  Decision trees        False     0.991    0.812   544289.0  12328600.0"
      ]
     },
     "execution_count": 19,
     "metadata": {},
     "output_type": "execute_result"
    }
   ],
   "source": [
    "DTResults = rowOfResults('Decision trees', False, R2DTTrain, R2DTTest, MSEDTTrain, MSEDTTest)\n",
    "DTResults"
   ]
  },
  {
   "cell_type": "code",
   "execution_count": 20,
   "metadata": {},
   "outputs": [
    {
     "data": {
      "text/html": [
       "<div>\n",
       "<style scoped>\n",
       "    .dataframe tbody tr th:only-of-type {\n",
       "        vertical-align: middle;\n",
       "    }\n",
       "\n",
       "    .dataframe tbody tr th {\n",
       "        vertical-align: top;\n",
       "    }\n",
       "\n",
       "    .dataframe thead th {\n",
       "        text-align: right;\n",
       "    }\n",
       "</style>\n",
       "<table border=\"1\" class=\"dataframe\">\n",
       "  <thead>\n",
       "    <tr style=\"text-align: right;\">\n",
       "      <th></th>\n",
       "      <th>Algorithm</th>\n",
       "      <th>Fine_Tuning</th>\n",
       "      <th>R2_Train</th>\n",
       "      <th>R2_Test</th>\n",
       "      <th>MSE_Train</th>\n",
       "      <th>MSE_Test</th>\n",
       "    </tr>\n",
       "  </thead>\n",
       "  <tbody>\n",
       "    <tr>\n",
       "      <th>0</th>\n",
       "      <td>Decision trees</td>\n",
       "      <td>0.0</td>\n",
       "      <td>0.991</td>\n",
       "      <td>0.812</td>\n",
       "      <td>544289.0</td>\n",
       "      <td>12328600.0</td>\n",
       "    </tr>\n",
       "  </tbody>\n",
       "</table>\n",
       "</div>"
      ],
      "text/plain": [
       "        Algorithm  Fine_Tuning  R2_Train  R2_Test  MSE_Train    MSE_Test\n",
       "0  Decision trees          0.0     0.991    0.812   544289.0  12328600.0"
      ]
     },
     "execution_count": 20,
     "metadata": {},
     "output_type": "execute_result"
    }
   ],
   "source": [
    "modelizationResults = modelizationResults.append(DTResults)\n",
    "modelizationResults"
   ]
  },
  {
   "cell_type": "markdown",
   "metadata": {},
   "source": [
    "Almost perfect with train data, but low $R²$ in test"
   ]
  },
  {
   "cell_type": "markdown",
   "metadata": {},
   "source": [
    "Not bad results, but maybe some signals of overfitting. Let's go to some fine tuning on hyperparameters and cross validation to improve results.  \n",
    "### Hyperparameter tuning"
   ]
  },
  {
   "cell_type": "code",
   "execution_count": 21,
   "metadata": {},
   "outputs": [],
   "source": [
    "paramGridDT = {\n",
    "        'criterion': ['mse'],\n",
    "        'splitter': ['best', 'random'],\n",
    "        'max_depth': list(range(1, 20 + 1)),\n",
    "        'min_samples_split': [5, 10, 15],\n",
    "        'min_samples_leaf': [1],\n",
    "        'max_features': ['auto']\n",
    "        }"
   ]
  },
  {
   "cell_type": "markdown",
   "metadata": {},
   "source": [
    "**ATTENTION**: With this paramGrid cross validation takes 2 minutes to complete"
   ]
  },
  {
   "cell_type": "code",
   "execution_count": 22,
   "metadata": {
    "scrolled": false
   },
   "outputs": [
    {
     "name": "stdout",
     "output_type": "stream",
     "text": [
      "Fitting 10 folds for each of 120 candidates, totalling 1200 fits\n"
     ]
    },
    {
     "name": "stderr",
     "output_type": "stream",
     "text": [
      "[Parallel(n_jobs=-1)]: Done  52 tasks      | elapsed:    1.5s\n",
      "[Parallel(n_jobs=-1)]: Done 327 tasks      | elapsed:   14.5s\n",
      "[Parallel(n_jobs=-1)]: Done 577 tasks      | elapsed:   34.0s\n",
      "[Parallel(n_jobs=-1)]: Done 927 tasks      | elapsed:  1.2min\n",
      "[Parallel(n_jobs=-1)]: Done 1200 out of 1200 | elapsed:  1.8min finished\n"
     ]
    }
   ],
   "source": [
    "cvDT = GridSearchCV(\n",
    "        estimator = tree.DecisionTreeRegressor(),\n",
    "        param_grid=paramGridDT,\n",
    "        n_jobs=-1,\n",
    "        cv=10,\n",
    "        refit=False,\n",
    "        verbose=1,\n",
    "        return_train_score=True).fit(X_train, y_train)"
   ]
  },
  {
   "cell_type": "markdown",
   "metadata": {},
   "source": [
    "These are the best parameters:"
   ]
  },
  {
   "cell_type": "code",
   "execution_count": 23,
   "metadata": {
    "scrolled": true
   },
   "outputs": [
    {
     "data": {
      "text/plain": [
       "{'criterion': 'mse',\n",
       " 'max_depth': 18,\n",
       " 'max_features': 'auto',\n",
       " 'min_samples_leaf': 1,\n",
       " 'min_samples_split': 15,\n",
       " 'splitter': 'best'}"
      ]
     },
     "execution_count": 23,
     "metadata": {},
     "output_type": "execute_result"
    }
   ],
   "source": [
    "cvDT.best_params_"
   ]
  },
  {
   "cell_type": "code",
   "execution_count": 24,
   "metadata": {},
   "outputs": [],
   "source": [
    "bestDecisionTree = tree.DecisionTreeRegressor(criterion=cvDT.best_params_['criterion'],\n",
    "                                              max_depth=cvDT.best_params_['max_depth'],\n",
    "                                              max_features=cvDT.best_params_['max_features'],\n",
    "                                              min_samples_leaf=cvDT.best_params_['min_samples_leaf'],\n",
    "                                              min_samples_split=cvDT.best_params_['min_samples_split'],\n",
    "                                              splitter=cvDT.best_params_['splitter']).fit(X_train, y_train)"
   ]
  },
  {
   "cell_type": "code",
   "execution_count": 25,
   "metadata": {},
   "outputs": [],
   "source": [
    "predBestDTTrain = bestDecisionTree.predict(X_train)\n",
    "predBestDTTest = bestDecisionTree.predict(X_test)"
   ]
  },
  {
   "cell_type": "markdown",
   "metadata": {},
   "source": [
    "And the scores now are:"
   ]
  },
  {
   "cell_type": "markdown",
   "metadata": {},
   "source": [
    "* $R^2$ Score:"
   ]
  },
  {
   "cell_type": "code",
   "execution_count": 26,
   "metadata": {
    "scrolled": true
   },
   "outputs": [
    {
     "name": "stdout",
     "output_type": "stream",
     "text": [
      "R2 Train: 0.932 \n",
      "R2 Test: 0.852\n"
     ]
    }
   ],
   "source": [
    "R2BestDTTrain = r2_score(y_train, predBestDTTrain)\n",
    "R2BestDTTest = r2_score(y_test, predBestDTTest)\n",
    "print('R2 Train: %.3f' % R2BestDTTrain, '\\nR2 Test: %.3f' % R2BestDTTest)"
   ]
  },
  {
   "cell_type": "markdown",
   "metadata": {},
   "source": [
    "* MSE Score:"
   ]
  },
  {
   "cell_type": "code",
   "execution_count": 27,
   "metadata": {},
   "outputs": [
    {
     "name": "stdout",
     "output_type": "stream",
     "text": [
      "MSE Train: 4,301,121.631663 \n",
      "MSE Test: 9,734,721.706079\n"
     ]
    }
   ],
   "source": [
    "MSEBestDTTrain = mean_squared_error(y_train, predBestDTTrain)\n",
    "MSEBestDTTest = mean_squared_error(y_test, predBestDTTest)\n",
    "print('MSE Train:', format(MSEBestDTTrain, ',f'), '\\nMSE Test:', format(MSEBestDTTest, ',f'))"
   ]
  },
  {
   "cell_type": "code",
   "execution_count": 28,
   "metadata": {
    "scrolled": false
   },
   "outputs": [
    {
     "data": {
      "text/html": [
       "<div>\n",
       "<style scoped>\n",
       "    .dataframe tbody tr th:only-of-type {\n",
       "        vertical-align: middle;\n",
       "    }\n",
       "\n",
       "    .dataframe tbody tr th {\n",
       "        vertical-align: top;\n",
       "    }\n",
       "\n",
       "    .dataframe thead th {\n",
       "        text-align: right;\n",
       "    }\n",
       "</style>\n",
       "<table border=\"1\" class=\"dataframe\">\n",
       "  <thead>\n",
       "    <tr style=\"text-align: right;\">\n",
       "      <th></th>\n",
       "      <th>Algorithm</th>\n",
       "      <th>Fine_Tuning</th>\n",
       "      <th>R2_Train</th>\n",
       "      <th>R2_Test</th>\n",
       "      <th>MSE_Train</th>\n",
       "      <th>MSE_Test</th>\n",
       "    </tr>\n",
       "  </thead>\n",
       "  <tbody>\n",
       "    <tr>\n",
       "      <th>0</th>\n",
       "      <td>Decision trees</td>\n",
       "      <td>True</td>\n",
       "      <td>0.932</td>\n",
       "      <td>0.852</td>\n",
       "      <td>4301122.0</td>\n",
       "      <td>9734722.0</td>\n",
       "    </tr>\n",
       "  </tbody>\n",
       "</table>\n",
       "</div>"
      ],
      "text/plain": [
       "        Algorithm  Fine_Tuning  R2_Train  R2_Test  MSE_Train   MSE_Test\n",
       "0  Decision trees         True     0.932    0.852  4301122.0  9734722.0"
      ]
     },
     "execution_count": 28,
     "metadata": {},
     "output_type": "execute_result"
    }
   ],
   "source": [
    "DTBestResults = rowOfResults('Decision trees', True, R2BestDTTrain, R2BestDTTest, MSEBestDTTrain, MSEBestDTTest)\n",
    "DTBestResults"
   ]
  },
  {
   "cell_type": "code",
   "execution_count": 29,
   "metadata": {},
   "outputs": [
    {
     "data": {
      "text/html": [
       "<div>\n",
       "<style scoped>\n",
       "    .dataframe tbody tr th:only-of-type {\n",
       "        vertical-align: middle;\n",
       "    }\n",
       "\n",
       "    .dataframe tbody tr th {\n",
       "        vertical-align: top;\n",
       "    }\n",
       "\n",
       "    .dataframe thead th {\n",
       "        text-align: right;\n",
       "    }\n",
       "</style>\n",
       "<table border=\"1\" class=\"dataframe\">\n",
       "  <thead>\n",
       "    <tr style=\"text-align: right;\">\n",
       "      <th></th>\n",
       "      <th>Algorithm</th>\n",
       "      <th>Fine_Tuning</th>\n",
       "      <th>R2_Train</th>\n",
       "      <th>R2_Test</th>\n",
       "      <th>MSE_Train</th>\n",
       "      <th>MSE_Test</th>\n",
       "    </tr>\n",
       "  </thead>\n",
       "  <tbody>\n",
       "    <tr>\n",
       "      <th>0</th>\n",
       "      <td>Decision trees</td>\n",
       "      <td>0.0</td>\n",
       "      <td>0.991</td>\n",
       "      <td>0.812</td>\n",
       "      <td>544289.0</td>\n",
       "      <td>12328600.0</td>\n",
       "    </tr>\n",
       "    <tr>\n",
       "      <th>0</th>\n",
       "      <td>Decision trees</td>\n",
       "      <td>1.0</td>\n",
       "      <td>0.932</td>\n",
       "      <td>0.852</td>\n",
       "      <td>4301122.0</td>\n",
       "      <td>9734722.0</td>\n",
       "    </tr>\n",
       "  </tbody>\n",
       "</table>\n",
       "</div>"
      ],
      "text/plain": [
       "        Algorithm  Fine_Tuning  R2_Train  R2_Test  MSE_Train    MSE_Test\n",
       "0  Decision trees          0.0     0.991    0.812   544289.0  12328600.0\n",
       "0  Decision trees          1.0     0.932    0.852  4301122.0   9734722.0"
      ]
     },
     "execution_count": 29,
     "metadata": {},
     "output_type": "execute_result"
    }
   ],
   "source": [
    "modelizationResults = modelizationResults.append(DTBestResults)\n",
    "modelizationResults"
   ]
  },
  {
   "cell_type": "markdown",
   "metadata": {},
   "source": [
    "We have improved test results but losing precision in test data."
   ]
  },
  {
   "cell_type": "markdown",
   "metadata": {},
   "source": [
    "## Charting results"
   ]
  },
  {
   "cell_type": "code",
   "execution_count": 30,
   "metadata": {
    "scrolled": false
   },
   "outputs": [
    {
     "data": {
      "image/png": "[encoded data removed]",
      "text/plain": [
       "<Figure size 432x288 with 1 Axes>"
      ]
     },
     "metadata": {},
     "output_type": "display_data"
    }
   ],
   "source": [
    "chartResults(y=y_train, predBest=predBestDTTrain, trainTest='Train', model='Decision trees')"
   ]
  },
  {
   "cell_type": "code",
   "execution_count": 31,
   "metadata": {
    "scrolled": false
   },
   "outputs": [
    {
     "data": {
      "image/png": "[encoded data removed]",
      "text/plain": [
       "<Figure size 432x288 with 1 Axes>"
      ]
     },
     "metadata": {},
     "output_type": "display_data"
    }
   ],
   "source": [
    "chartResults(y=y_test, predBest=predBestDTTest, trainTest='Test', model='Decision trees')"
   ]
  },
  {
   "cell_type": "code",
   "execution_count": 32,
   "metadata": {
    "scrolled": true
   },
   "outputs": [
    {
     "data": {
      "text/plain": [
       "<BarContainer object of 9 artists>"
      ]
     },
     "execution_count": 32,
     "metadata": {},
     "output_type": "execute_result"
    },
    {
     "data": {
      "image/png": "[encoded data removed]",
      "text/plain": [
       "<Figure size 432x288 with 1 Axes>"
      ]
     },
     "metadata": {},
     "output_type": "display_data"
    }
   ],
   "source": [
    "plt.barh(X_train.columns, bestDecisionTree.feature_importances_)"
   ]
  },
  {
   "cell_type": "markdown",
   "metadata": {},
   "source": [
    "### Saving the model for later use"
   ]
  },
  {
   "cell_type": "code",
   "execution_count": 33,
   "metadata": {},
   "outputs": [
    {
     "data": {
      "text/plain": [
       "['../output/bestDecisionTree.pkl']"
      ]
     },
     "execution_count": 33,
     "metadata": {},
     "output_type": "execute_result"
    }
   ],
   "source": [
    "joblib.dump(bestDecisionTree, filename='../output/bestDecisionTree.pkl')"
   ]
  },
  {
   "cell_type": "markdown",
   "metadata": {},
   "source": [
    "***"
   ]
  },
  {
   "cell_type": "markdown",
   "metadata": {},
   "source": [
    "# Random forest\n",
    "This will be the second algorithm we are going to use in order to improve results obtained with Decision Trees. Let's try to model without hyperparamenter tuning."
   ]
  },
  {
   "cell_type": "code",
   "execution_count": 34,
   "metadata": {
    "scrolled": true
   },
   "outputs": [
    {
     "name": "stderr",
     "output_type": "stream",
     "text": [
      "[Parallel(n_jobs=-1)]: Done   6 out of  10 | elapsed:    1.1s remaining:    0.7s\n",
      "[Parallel(n_jobs=-1)]: Done  10 out of  10 | elapsed:    1.7s finished\n"
     ]
    }
   ],
   "source": [
    "regrRF = RandomForestRegressor(n_jobs=-1,\n",
    "                               verbose=1).fit(X_train,\n",
    "                                              y_train)"
   ]
  },
  {
   "cell_type": "code",
   "execution_count": 35,
   "metadata": {
    "scrolled": true
   },
   "outputs": [
    {
     "name": "stderr",
     "output_type": "stream",
     "text": [
      "[Parallel(n_jobs=8)]: Done   6 out of  10 | elapsed:    0.2s remaining:    0.1s\n",
      "[Parallel(n_jobs=8)]: Done  10 out of  10 | elapsed:    0.3s finished\n",
      "[Parallel(n_jobs=8)]: Done   6 out of  10 | elapsed:    0.1s remaining:    0.1s\n",
      "[Parallel(n_jobs=8)]: Done  10 out of  10 | elapsed:    0.2s finished\n"
     ]
    }
   ],
   "source": [
    "predRFTrain = regrRF.predict(X_train)\n",
    "predRFTest = regrRF.predict(X_test)"
   ]
  },
  {
   "cell_type": "markdown",
   "metadata": {},
   "source": [
    "### Model scores:  \n",
    "* $R^2$ Score:"
   ]
  },
  {
   "cell_type": "code",
   "execution_count": 36,
   "metadata": {},
   "outputs": [
    {
     "name": "stdout",
     "output_type": "stream",
     "text": [
      "R2 Train: 0.973 \n",
      "R2 Test:  0.876\n"
     ]
    }
   ],
   "source": [
    "R2RFTrain = r2_score(y_train, predRFTrain)\n",
    "R2RFTest = r2_score(y_test, predRFTest)\n",
    "print('R2 Train: %.3f' % R2RFTrain, '\\nR2 Test:  %.3f' % R2RFTest)"
   ]
  },
  {
   "cell_type": "markdown",
   "metadata": {},
   "source": [
    "* MSE Score:"
   ]
  },
  {
   "cell_type": "code",
   "execution_count": 37,
   "metadata": {
    "scrolled": true
   },
   "outputs": [
    {
     "name": "stdout",
     "output_type": "stream",
     "text": [
      "MSE Train: 1,723,044.025080 \n",
      "MSE Test: 8,129,881.490745\n"
     ]
    }
   ],
   "source": [
    "MSERFTrain = mean_squared_error(y_train, predRFTrain)\n",
    "MSERFTest = mean_squared_error(y_test, predRFTest)\n",
    "print('MSE Train:', format(MSERFTrain, ',f'), '\\nMSE Test:', format(MSERFTest, ',f'))"
   ]
  },
  {
   "cell_type": "code",
   "execution_count": 38,
   "metadata": {
    "scrolled": true
   },
   "outputs": [
    {
     "data": {
      "text/html": [
       "<div>\n",
       "<style scoped>\n",
       "    .dataframe tbody tr th:only-of-type {\n",
       "        vertical-align: middle;\n",
       "    }\n",
       "\n",
       "    .dataframe tbody tr th {\n",
       "        vertical-align: top;\n",
       "    }\n",
       "\n",
       "    .dataframe thead th {\n",
       "        text-align: right;\n",
       "    }\n",
       "</style>\n",
       "<table border=\"1\" class=\"dataframe\">\n",
       "  <thead>\n",
       "    <tr style=\"text-align: right;\">\n",
       "      <th></th>\n",
       "      <th>Algorithm</th>\n",
       "      <th>Fine_Tuning</th>\n",
       "      <th>R2_Train</th>\n",
       "      <th>R2_Test</th>\n",
       "      <th>MSE_Train</th>\n",
       "      <th>MSE_Test</th>\n",
       "    </tr>\n",
       "  </thead>\n",
       "  <tbody>\n",
       "    <tr>\n",
       "      <th>0</th>\n",
       "      <td>Random Forest</td>\n",
       "      <td>False</td>\n",
       "      <td>0.973</td>\n",
       "      <td>0.876</td>\n",
       "      <td>1723044.0</td>\n",
       "      <td>8129881.0</td>\n",
       "    </tr>\n",
       "  </tbody>\n",
       "</table>\n",
       "</div>"
      ],
      "text/plain": [
       "       Algorithm  Fine_Tuning  R2_Train  R2_Test  MSE_Train   MSE_Test\n",
       "0  Random Forest        False     0.973    0.876  1723044.0  8129881.0"
      ]
     },
     "execution_count": 38,
     "metadata": {},
     "output_type": "execute_result"
    }
   ],
   "source": [
    "RFResults = rowOfResults('Random Forest', False, R2RFTrain, R2RFTest, MSERFTrain, MSERFTest)\n",
    "RFResults"
   ]
  },
  {
   "cell_type": "code",
   "execution_count": 39,
   "metadata": {
    "scrolled": false
   },
   "outputs": [
    {
     "data": {
      "text/html": [
       "<div>\n",
       "<style scoped>\n",
       "    .dataframe tbody tr th:only-of-type {\n",
       "        vertical-align: middle;\n",
       "    }\n",
       "\n",
       "    .dataframe tbody tr th {\n",
       "        vertical-align: top;\n",
       "    }\n",
       "\n",
       "    .dataframe thead th {\n",
       "        text-align: right;\n",
       "    }\n",
       "</style>\n",
       "<table border=\"1\" class=\"dataframe\">\n",
       "  <thead>\n",
       "    <tr style=\"text-align: right;\">\n",
       "      <th></th>\n",
       "      <th>Algorithm</th>\n",
       "      <th>Fine_Tuning</th>\n",
       "      <th>R2_Train</th>\n",
       "      <th>R2_Test</th>\n",
       "      <th>MSE_Train</th>\n",
       "      <th>MSE_Test</th>\n",
       "    </tr>\n",
       "  </thead>\n",
       "  <tbody>\n",
       "    <tr>\n",
       "      <th>0</th>\n",
       "      <td>Decision trees</td>\n",
       "      <td>0.0</td>\n",
       "      <td>0.991</td>\n",
       "      <td>0.812</td>\n",
       "      <td>544289.0</td>\n",
       "      <td>12328600.0</td>\n",
       "    </tr>\n",
       "    <tr>\n",
       "      <th>0</th>\n",
       "      <td>Decision trees</td>\n",
       "      <td>1.0</td>\n",
       "      <td>0.932</td>\n",
       "      <td>0.852</td>\n",
       "      <td>4301122.0</td>\n",
       "      <td>9734722.0</td>\n",
       "    </tr>\n",
       "    <tr>\n",
       "      <th>0</th>\n",
       "      <td>Random Forest</td>\n",
       "      <td>0.0</td>\n",
       "      <td>0.973</td>\n",
       "      <td>0.876</td>\n",
       "      <td>1723044.0</td>\n",
       "      <td>8129881.0</td>\n",
       "    </tr>\n",
       "  </tbody>\n",
       "</table>\n",
       "</div>"
      ],
      "text/plain": [
       "        Algorithm  Fine_Tuning  R2_Train  R2_Test  MSE_Train    MSE_Test\n",
       "0  Decision trees          0.0     0.991    0.812   544289.0  12328600.0\n",
       "0  Decision trees          1.0     0.932    0.852  4301122.0   9734722.0\n",
       "0   Random Forest          0.0     0.973    0.876  1723044.0   8129881.0"
      ]
     },
     "execution_count": 39,
     "metadata": {},
     "output_type": "execute_result"
    }
   ],
   "source": [
    "modelizationResults = modelizationResults.append(RFResults)\n",
    "modelizationResults"
   ]
  },
  {
   "cell_type": "markdown",
   "metadata": {},
   "source": [
    "### Hyperparameter tuning\n",
    "Test the optimum number of features"
   ]
  },
  {
   "cell_type": "code",
   "execution_count": 40,
   "metadata": {},
   "outputs": [],
   "source": [
    "np.random.seed(123)\n",
    "scores = {}\n",
    "\n",
    "rf = None\n",
    "\n",
    "for max_features in [2,4,8, 'auto', None]:\n",
    "    if rf is None:\n",
    "        rf = RandomForestRegressor(n_estimators=50,\n",
    "                                   max_features=max_features)\n",
    "    else:\n",
    "        rf.warm_start = False\n",
    "        rf.max_features = max_features\n",
    "    \n",
    "    rf = rf.fit(X_train, y_train)\n",
    "    scores[max_features] = rf.score(X_test, y_test)"
   ]
  },
  {
   "cell_type": "code",
   "execution_count": 41,
   "metadata": {
    "scrolled": false
   },
   "outputs": [
    {
     "data": {
      "text/plain": [
       "<matplotlib.lines.Line2D at 0x7f33e1174e48>"
      ]
     },
     "execution_count": 41,
     "metadata": {},
     "output_type": "execute_result"
    },
    {
     "data": {
      "image/png": "[encoded data removed]",
      "text/plain": [
       "<Figure size 432x288 with 1 Axes>"
      ]
     },
     "metadata": {},
     "output_type": "display_data"
    }
   ],
   "source": [
    "plt.plot([2, 4, 8, 'Auto', 'None'], scores.values())\n",
    "plt.axhline(bestDecisionTree.score(X_test, y_test), linestyle='dashed', color='red')"
   ]
  },
  {
   "cell_type": "code",
   "execution_count": 42,
   "metadata": {},
   "outputs": [],
   "source": [
    "paramsRF = {\n",
    "        'n_estimators': [50, 100, 200],\n",
    "        'max_features': [4],\n",
    "        'max_depth': list(range(1, 10 + 1)),\n",
    "        'min_samples_split': [5, 10, 15],\n",
    "        'min_samples_leaf':[1]\n",
    "        }"
   ]
  },
  {
   "cell_type": "markdown",
   "metadata": {},
   "source": [
    "This param grid takes 1 hours"
   ]
  },
  {
   "cell_type": "code",
   "execution_count": 43,
   "metadata": {},
   "outputs": [
    {
     "name": "stdout",
     "output_type": "stream",
     "text": [
      "Fitting 10 folds for each of 90 candidates, totalling 900 fits\n"
     ]
    },
    {
     "name": "stderr",
     "output_type": "stream",
     "text": [
      "[Parallel(n_jobs=-1)]: Done  34 tasks      | elapsed:   32.3s\n",
      "[Parallel(n_jobs=-1)]: Done 184 tasks      | elapsed:  4.2min\n",
      "[Parallel(n_jobs=-1)]: Done 434 tasks      | elapsed: 15.8min\n",
      "[Parallel(n_jobs=-1)]: Done 784 tasks      | elapsed: 42.4min\n",
      "[Parallel(n_jobs=-1)]: Done 900 out of 900 | elapsed: 53.5min finished\n"
     ]
    }
   ],
   "source": [
    "cvRF = GridSearchCV(\n",
    "        estimator=RandomForestRegressor(oob_score=True),\n",
    "        param_grid=paramsRF,\n",
    "        n_jobs=-1,\n",
    "        cv=10,\n",
    "        verbose=1,\n",
    "        return_train_score=True).fit(X_train, y_train)"
   ]
  },
  {
   "cell_type": "code",
   "execution_count": 44,
   "metadata": {},
   "outputs": [
    {
     "data": {
      "text/plain": [
       "{'max_depth': 10,\n",
       " 'max_features': 4,\n",
       " 'min_samples_leaf': 1,\n",
       " 'min_samples_split': 5,\n",
       " 'n_estimators': 200}"
      ]
     },
     "execution_count": 44,
     "metadata": {},
     "output_type": "execute_result"
    }
   ],
   "source": [
    "cvRF.best_params_"
   ]
  },
  {
   "cell_type": "code",
   "execution_count": 45,
   "metadata": {},
   "outputs": [],
   "source": [
    "bestRandomForest = RandomForestRegressor(max_depth=cvRF.best_params_['max_depth'], \n",
    "                                        max_features=cvRF.best_params_['max_features'], \n",
    "                                        min_samples_leaf=cvRF.best_params_['min_samples_leaf'], \n",
    "                                        min_samples_split=cvRF.best_params_['min_samples_split'], \n",
    "                                        n_estimators=cvRF.best_params_['n_estimators']).fit(X_train, y_train)"
   ]
  },
  {
   "cell_type": "code",
   "execution_count": 46,
   "metadata": {},
   "outputs": [],
   "source": [
    "predBestRFTrain = bestRandomForest.predict(X_train)\n",
    "predBestRFTest = bestRandomForest.predict(X_test)"
   ]
  },
  {
   "cell_type": "markdown",
   "metadata": {},
   "source": [
    "### Model scores:  \n",
    "* $R^2$ Score:"
   ]
  },
  {
   "cell_type": "code",
   "execution_count": 47,
   "metadata": {
    "scrolled": true
   },
   "outputs": [
    {
     "name": "stdout",
     "output_type": "stream",
     "text": [
      "R2 Train: 0.895 \n",
      "R2 Test: 0.859\n"
     ]
    }
   ],
   "source": [
    "R2BestRFTrain = r2_score(y_train, predBestRFTrain)\n",
    "R2BestRFTest = r2_score(y_test, predBestRFTest)\n",
    "print('R2 Train: %.3f' % R2BestRFTrain, '\\nR2 Test: %.3f' % R2BestRFTest)"
   ]
  },
  {
   "cell_type": "markdown",
   "metadata": {},
   "source": [
    "* MSE Score:"
   ]
  },
  {
   "cell_type": "code",
   "execution_count": 48,
   "metadata": {
    "scrolled": false
   },
   "outputs": [
    {
     "name": "stdout",
     "output_type": "stream",
     "text": [
      "MSE Train: 6,671,635.386052 \n",
      "MSE Test: 9,241,547.256228\n"
     ]
    }
   ],
   "source": [
    "MSEBestRFTrain = mean_squared_error(y_train, predBestRFTrain)\n",
    "MSEBestRFTest = mean_squared_error(y_test, predBestRFTest)\n",
    "print('MSE Train:', format(MSEBestRFTrain, ',f'), '\\nMSE Test:', format(MSEBestRFTest, ',f'))"
   ]
  },
  {
   "cell_type": "code",
   "execution_count": 49,
   "metadata": {
    "scrolled": false
   },
   "outputs": [
    {
     "data": {
      "text/html": [
       "<div>\n",
       "<style scoped>\n",
       "    .dataframe tbody tr th:only-of-type {\n",
       "        vertical-align: middle;\n",
       "    }\n",
       "\n",
       "    .dataframe tbody tr th {\n",
       "        vertical-align: top;\n",
       "    }\n",
       "\n",
       "    .dataframe thead th {\n",
       "        text-align: right;\n",
       "    }\n",
       "</style>\n",
       "<table border=\"1\" class=\"dataframe\">\n",
       "  <thead>\n",
       "    <tr style=\"text-align: right;\">\n",
       "      <th></th>\n",
       "      <th>Algorithm</th>\n",
       "      <th>Fine_Tuning</th>\n",
       "      <th>R2_Train</th>\n",
       "      <th>R2_Test</th>\n",
       "      <th>MSE_Train</th>\n",
       "      <th>MSE_Test</th>\n",
       "    </tr>\n",
       "  </thead>\n",
       "  <tbody>\n",
       "    <tr>\n",
       "      <th>0</th>\n",
       "      <td>Random Forest</td>\n",
       "      <td>True</td>\n",
       "      <td>0.895</td>\n",
       "      <td>0.859</td>\n",
       "      <td>6671635.0</td>\n",
       "      <td>9241547.0</td>\n",
       "    </tr>\n",
       "  </tbody>\n",
       "</table>\n",
       "</div>"
      ],
      "text/plain": [
       "       Algorithm  Fine_Tuning  R2_Train  R2_Test  MSE_Train   MSE_Test\n",
       "0  Random Forest         True     0.895    0.859  6671635.0  9241547.0"
      ]
     },
     "execution_count": 49,
     "metadata": {},
     "output_type": "execute_result"
    }
   ],
   "source": [
    "RFBestResults = rowOfResults('Random Forest', True, R2BestRFTrain, R2BestRFTest, MSEBestRFTrain, MSEBestRFTest)\n",
    "RFBestResults"
   ]
  },
  {
   "cell_type": "code",
   "execution_count": 50,
   "metadata": {
    "scrolled": false
   },
   "outputs": [
    {
     "data": {
      "text/html": [
       "<div>\n",
       "<style scoped>\n",
       "    .dataframe tbody tr th:only-of-type {\n",
       "        vertical-align: middle;\n",
       "    }\n",
       "\n",
       "    .dataframe tbody tr th {\n",
       "        vertical-align: top;\n",
       "    }\n",
       "\n",
       "    .dataframe thead th {\n",
       "        text-align: right;\n",
       "    }\n",
       "</style>\n",
       "<table border=\"1\" class=\"dataframe\">\n",
       "  <thead>\n",
       "    <tr style=\"text-align: right;\">\n",
       "      <th></th>\n",
       "      <th>Algorithm</th>\n",
       "      <th>Fine_Tuning</th>\n",
       "      <th>R2_Train</th>\n",
       "      <th>R2_Test</th>\n",
       "      <th>MSE_Train</th>\n",
       "      <th>MSE_Test</th>\n",
       "    </tr>\n",
       "  </thead>\n",
       "  <tbody>\n",
       "    <tr>\n",
       "      <th>0</th>\n",
       "      <td>Decision trees</td>\n",
       "      <td>0.0</td>\n",
       "      <td>0.991</td>\n",
       "      <td>0.812</td>\n",
       "      <td>544289.0</td>\n",
       "      <td>12328600.0</td>\n",
       "    </tr>\n",
       "    <tr>\n",
       "      <th>0</th>\n",
       "      <td>Decision trees</td>\n",
       "      <td>1.0</td>\n",
       "      <td>0.932</td>\n",
       "      <td>0.852</td>\n",
       "      <td>4301122.0</td>\n",
       "      <td>9734722.0</td>\n",
       "    </tr>\n",
       "    <tr>\n",
       "      <th>0</th>\n",
       "      <td>Random Forest</td>\n",
       "      <td>0.0</td>\n",
       "      <td>0.973</td>\n",
       "      <td>0.876</td>\n",
       "      <td>1723044.0</td>\n",
       "      <td>8129881.0</td>\n",
       "    </tr>\n",
       "    <tr>\n",
       "      <th>0</th>\n",
       "      <td>Random Forest</td>\n",
       "      <td>1.0</td>\n",
       "      <td>0.895</td>\n",
       "      <td>0.859</td>\n",
       "      <td>6671635.0</td>\n",
       "      <td>9241547.0</td>\n",
       "    </tr>\n",
       "  </tbody>\n",
       "</table>\n",
       "</div>"
      ],
      "text/plain": [
       "        Algorithm  Fine_Tuning  R2_Train  R2_Test  MSE_Train    MSE_Test\n",
       "0  Decision trees          0.0     0.991    0.812   544289.0  12328600.0\n",
       "0  Decision trees          1.0     0.932    0.852  4301122.0   9734722.0\n",
       "0   Random Forest          0.0     0.973    0.876  1723044.0   8129881.0\n",
       "0   Random Forest          1.0     0.895    0.859  6671635.0   9241547.0"
      ]
     },
     "execution_count": 50,
     "metadata": {},
     "output_type": "execute_result"
    }
   ],
   "source": [
    "modelizationResults = modelizationResults.append(RFBestResults)\n",
    "modelizationResults"
   ]
  },
  {
   "cell_type": "markdown",
   "metadata": {},
   "source": [
    "## Charting results"
   ]
  },
  {
   "cell_type": "code",
   "execution_count": 51,
   "metadata": {
    "scrolled": true
   },
   "outputs": [
    {
     "data": {
      "image/png": "[encoded data removed]",
      "text/plain": [
       "<Figure size 432x288 with 1 Axes>"
      ]
     },
     "metadata": {},
     "output_type": "display_data"
    }
   ],
   "source": [
    "chartResults(y=y_train, predBest=predBestRFTrain, trainTest='Train', model='Random Forest')"
   ]
  },
  {
   "cell_type": "code",
   "execution_count": 52,
   "metadata": {
    "scrolled": true
   },
   "outputs": [
    {
     "data": {
      "image/png": "[encoded data removed]",
      "text/plain": [
       "<Figure size 432x288 with 1 Axes>"
      ]
     },
     "metadata": {},
     "output_type": "display_data"
    }
   ],
   "source": [
    "chartResults(y=y_test, predBest=predBestRFTest, trainTest='Test', model='Random Forest')"
   ]
  },
  {
   "cell_type": "code",
   "execution_count": 53,
   "metadata": {
    "scrolled": false
   },
   "outputs": [
    {
     "data": {
      "text/plain": [
       "<BarContainer object of 9 artists>"
      ]
     },
     "execution_count": 53,
     "metadata": {},
     "output_type": "execute_result"
    },
    {
     "data": {
      "image/png": "[encoded data removed]",
      "text/plain": [
       "<Figure size 432x288 with 1 Axes>"
      ]
     },
     "metadata": {},
     "output_type": "display_data"
    }
   ],
   "source": [
    "plt.barh(X_train.columns, bestRandomForest.feature_importances_)"
   ]
  },
  {
   "cell_type": "markdown",
   "metadata": {},
   "source": [
    "### Saving the model for later use"
   ]
  },
  {
   "cell_type": "code",
   "execution_count": 55,
   "metadata": {
    "scrolled": false
   },
   "outputs": [
    {
     "data": {
      "text/plain": [
       "['../output/bestRandomForest.pkl']"
      ]
     },
     "execution_count": 55,
     "metadata": {},
     "output_type": "execute_result"
    }
   ],
   "source": [
    "joblib.dump(bestRandomForest, filename='../output/bestRandomForest.pkl')"
   ]
  },
  {
   "cell_type": "markdown",
   "metadata": {},
   "source": [
    "***"
   ]
  },
  {
   "cell_type": "markdown",
   "metadata": {},
   "source": [
    "# K-nearest neighbours"
   ]
  },
  {
   "cell_type": "markdown",
   "metadata": {},
   "source": [
    "First try, no hyperparameter tuning"
   ]
  },
  {
   "cell_type": "code",
   "execution_count": 56,
   "metadata": {},
   "outputs": [],
   "source": [
    "regrKNN = neighbors.KNeighborsRegressor(n_jobs=-1).fit(X_train, y_train)"
   ]
  },
  {
   "cell_type": "code",
   "execution_count": 57,
   "metadata": {
    "scrolled": false
   },
   "outputs": [],
   "source": [
    "predKNNTrain = regrKNN.predict(X_train)\n",
    "predKNNTest = regrKNN.predict(X_test)"
   ]
  },
  {
   "cell_type": "markdown",
   "metadata": {},
   "source": [
    "### Model score:  \n",
    "* $R^2$ Score:"
   ]
  },
  {
   "cell_type": "code",
   "execution_count": 58,
   "metadata": {},
   "outputs": [
    {
     "name": "stdout",
     "output_type": "stream",
     "text": [
      "R2 Train: 0.915 \n",
      "R2 Test:  0.851\n"
     ]
    }
   ],
   "source": [
    "R2KNNTrain = r2_score(y_train, predKNNTrain)\n",
    "R2KNNTest = r2_score(y_test, predKNNTest)\n",
    "print('R2 Train: %.3f' % R2KNNTrain, '\\nR2 Test:  %.3f' % R2KNNTest)"
   ]
  },
  {
   "cell_type": "markdown",
   "metadata": {},
   "source": [
    "* MSE Score:"
   ]
  },
  {
   "cell_type": "code",
   "execution_count": 59,
   "metadata": {
    "scrolled": false
   },
   "outputs": [
    {
     "name": "stdout",
     "output_type": "stream",
     "text": [
      "MSE Train: 5,399,807.711443 \n",
      "MSE Test: 9,747,325.276314\n"
     ]
    }
   ],
   "source": [
    "MSEKNNTrain = mean_squared_error(y_train, predKNNTrain)\n",
    "MSEKNNTest = mean_squared_error(y_test, predKNNTest)\n",
    "print('MSE Train:', format(MSEKNNTrain, ',f'), '\\nMSE Test:', format(MSEKNNTest, ',f'))"
   ]
  },
  {
   "cell_type": "code",
   "execution_count": 60,
   "metadata": {
    "scrolled": true
   },
   "outputs": [
    {
     "data": {
      "text/html": [
       "<div>\n",
       "<style scoped>\n",
       "    .dataframe tbody tr th:only-of-type {\n",
       "        vertical-align: middle;\n",
       "    }\n",
       "\n",
       "    .dataframe tbody tr th {\n",
       "        vertical-align: top;\n",
       "    }\n",
       "\n",
       "    .dataframe thead th {\n",
       "        text-align: right;\n",
       "    }\n",
       "</style>\n",
       "<table border=\"1\" class=\"dataframe\">\n",
       "  <thead>\n",
       "    <tr style=\"text-align: right;\">\n",
       "      <th></th>\n",
       "      <th>Algorithm</th>\n",
       "      <th>Fine_Tuning</th>\n",
       "      <th>R2_Train</th>\n",
       "      <th>R2_Test</th>\n",
       "      <th>MSE_Train</th>\n",
       "      <th>MSE_Test</th>\n",
       "    </tr>\n",
       "  </thead>\n",
       "  <tbody>\n",
       "    <tr>\n",
       "      <th>0</th>\n",
       "      <td>K-nearest neighbours</td>\n",
       "      <td>False</td>\n",
       "      <td>0.915</td>\n",
       "      <td>0.851</td>\n",
       "      <td>5399808.0</td>\n",
       "      <td>9747325.0</td>\n",
       "    </tr>\n",
       "  </tbody>\n",
       "</table>\n",
       "</div>"
      ],
      "text/plain": [
       "              Algorithm  Fine_Tuning  R2_Train  R2_Test  MSE_Train   MSE_Test\n",
       "0  K-nearest neighbours        False     0.915    0.851  5399808.0  9747325.0"
      ]
     },
     "execution_count": 60,
     "metadata": {},
     "output_type": "execute_result"
    }
   ],
   "source": [
    "KNNResults = rowOfResults('K-nearest neighbours', False, R2KNNTrain, R2KNNTest, MSEKNNTrain, MSEKNNTest)\n",
    "KNNResults"
   ]
  },
  {
   "cell_type": "code",
   "execution_count": 61,
   "metadata": {},
   "outputs": [
    {
     "data": {
      "text/html": [
       "<div>\n",
       "<style scoped>\n",
       "    .dataframe tbody tr th:only-of-type {\n",
       "        vertical-align: middle;\n",
       "    }\n",
       "\n",
       "    .dataframe tbody tr th {\n",
       "        vertical-align: top;\n",
       "    }\n",
       "\n",
       "    .dataframe thead th {\n",
       "        text-align: right;\n",
       "    }\n",
       "</style>\n",
       "<table border=\"1\" class=\"dataframe\">\n",
       "  <thead>\n",
       "    <tr style=\"text-align: right;\">\n",
       "      <th></th>\n",
       "      <th>Algorithm</th>\n",
       "      <th>Fine_Tuning</th>\n",
       "      <th>R2_Train</th>\n",
       "      <th>R2_Test</th>\n",
       "      <th>MSE_Train</th>\n",
       "      <th>MSE_Test</th>\n",
       "    </tr>\n",
       "  </thead>\n",
       "  <tbody>\n",
       "    <tr>\n",
       "      <th>0</th>\n",
       "      <td>Decision trees</td>\n",
       "      <td>0.0</td>\n",
       "      <td>0.991</td>\n",
       "      <td>0.812</td>\n",
       "      <td>544289.0</td>\n",
       "      <td>12328600.0</td>\n",
       "    </tr>\n",
       "    <tr>\n",
       "      <th>0</th>\n",
       "      <td>Decision trees</td>\n",
       "      <td>1.0</td>\n",
       "      <td>0.932</td>\n",
       "      <td>0.852</td>\n",
       "      <td>4301122.0</td>\n",
       "      <td>9734722.0</td>\n",
       "    </tr>\n",
       "    <tr>\n",
       "      <th>0</th>\n",
       "      <td>Random Forest</td>\n",
       "      <td>0.0</td>\n",
       "      <td>0.973</td>\n",
       "      <td>0.876</td>\n",
       "      <td>1723044.0</td>\n",
       "      <td>8129881.0</td>\n",
       "    </tr>\n",
       "    <tr>\n",
       "      <th>0</th>\n",
       "      <td>Random Forest</td>\n",
       "      <td>1.0</td>\n",
       "      <td>0.895</td>\n",
       "      <td>0.859</td>\n",
       "      <td>6671635.0</td>\n",
       "      <td>9241547.0</td>\n",
       "    </tr>\n",
       "    <tr>\n",
       "      <th>0</th>\n",
       "      <td>K-nearest neighbours</td>\n",
       "      <td>0.0</td>\n",
       "      <td>0.915</td>\n",
       "      <td>0.851</td>\n",
       "      <td>5399808.0</td>\n",
       "      <td>9747325.0</td>\n",
       "    </tr>\n",
       "  </tbody>\n",
       "</table>\n",
       "</div>"
      ],
      "text/plain": [
       "              Algorithm  Fine_Tuning  R2_Train  R2_Test  MSE_Train    MSE_Test\n",
       "0        Decision trees          0.0     0.991    0.812   544289.0  12328600.0\n",
       "0        Decision trees          1.0     0.932    0.852  4301122.0   9734722.0\n",
       "0         Random Forest          0.0     0.973    0.876  1723044.0   8129881.0\n",
       "0         Random Forest          1.0     0.895    0.859  6671635.0   9241547.0\n",
       "0  K-nearest neighbours          0.0     0.915    0.851  5399808.0   9747325.0"
      ]
     },
     "execution_count": 61,
     "metadata": {},
     "output_type": "execute_result"
    }
   ],
   "source": [
    "modelizationResults = modelizationResults.append(KNNResults)\n",
    "modelizationResults"
   ]
  },
  {
   "cell_type": "markdown",
   "metadata": {},
   "source": [
    "### Hyperparameter tuning"
   ]
  },
  {
   "cell_type": "code",
   "execution_count": 62,
   "metadata": {},
   "outputs": [],
   "source": [
    "# Cross Validation\n",
    "paramsKNN = {\n",
    "        'n_neighbors': [5, 10, 20],\n",
    "        'weights': ['distance', 'uniform'],\n",
    "        'algorithm': ['auto'],\n",
    "        'leaf_size': [2,3,4],\n",
    "        }"
   ]
  },
  {
   "cell_type": "markdown",
   "metadata": {},
   "source": [
    "This params grid takes 5 minutes"
   ]
  },
  {
   "cell_type": "code",
   "execution_count": 63,
   "metadata": {},
   "outputs": [
    {
     "name": "stdout",
     "output_type": "stream",
     "text": [
      "Fitting 10 folds for each of 18 candidates, totalling 180 fits\n"
     ]
    },
    {
     "name": "stderr",
     "output_type": "stream",
     "text": [
      "[Parallel(n_jobs=-1)]: Done  34 tasks      | elapsed:  1.3min\n",
      "[Parallel(n_jobs=-1)]: Done 180 out of 180 | elapsed:  6.3min finished\n"
     ]
    }
   ],
   "source": [
    "cvKNN = GridSearchCV(\n",
    "        estimator=neighbors.KNeighborsRegressor(),\n",
    "        param_grid=paramsKNN,\n",
    "        n_jobs=-1,\n",
    "        cv=10,\n",
    "        verbose=1,\n",
    "        return_train_score=True).fit(X_train, y_train)"
   ]
  },
  {
   "cell_type": "code",
   "execution_count": 64,
   "metadata": {},
   "outputs": [
    {
     "data": {
      "text/plain": [
       "{'algorithm': 'auto', 'leaf_size': 2, 'n_neighbors': 5, 'weights': 'distance'}"
      ]
     },
     "execution_count": 64,
     "metadata": {},
     "output_type": "execute_result"
    }
   ],
   "source": [
    "cvKNN.best_params_"
   ]
  },
  {
   "cell_type": "code",
   "execution_count": 65,
   "metadata": {},
   "outputs": [],
   "source": [
    "bestKNN = neighbors.KNeighborsRegressor(algorithm=cvKNN.best_params_['algorithm'], \n",
    "                                        leaf_size=cvKNN.best_params_['leaf_size'],\n",
    "                                        n_neighbors=cvKNN.best_params_['n_neighbors'],\n",
    "                                        weights=cvKNN.best_params_['weights']).fit(X_train, y_train)"
   ]
  },
  {
   "cell_type": "code",
   "execution_count": 66,
   "metadata": {},
   "outputs": [],
   "source": [
    "predBestKNNTrain = bestKNN.predict(X_train)\n",
    "predBestKNNTest = bestKNN.predict(X_test)"
   ]
  },
  {
   "cell_type": "markdown",
   "metadata": {},
   "source": [
    "### Model score:  \n",
    "* $R^2$ Score:"
   ]
  },
  {
   "cell_type": "code",
   "execution_count": 67,
   "metadata": {
    "scrolled": true
   },
   "outputs": [
    {
     "name": "stdout",
     "output_type": "stream",
     "text": [
      "R2 Train: 0.991 \n",
      "R2 Test: 0.864\n"
     ]
    }
   ],
   "source": [
    "R2BestKNNTrain = r2_score(y_train, predBestKNNTrain)\n",
    "R2BestKNNTest = r2_score(y_test, predBestKNNTest)\n",
    "print('R2 Train: %.3f' % R2BestKNNTrain, '\\nR2 Test: %.3f' % R2BestKNNTest)"
   ]
  },
  {
   "cell_type": "markdown",
   "metadata": {},
   "source": [
    "* MSE Score:"
   ]
  },
  {
   "cell_type": "code",
   "execution_count": 68,
   "metadata": {
    "scrolled": true
   },
   "outputs": [
    {
     "name": "stdout",
     "output_type": "stream",
     "text": [
      "MSE Train: 560,582.008456 \n",
      "MSE Test: 8,912,374.565797\n"
     ]
    }
   ],
   "source": [
    "MSEBestKNNTrain = mean_squared_error(y_train, predBestKNNTrain)\n",
    "MSEBestKNNTest = mean_squared_error(y_test, predBestKNNTest)\n",
    "print('MSE Train:', format(MSEBestKNNTrain, ',f'), '\\nMSE Test:', format(MSEBestKNNTest, ',f'))"
   ]
  },
  {
   "cell_type": "code",
   "execution_count": 69,
   "metadata": {
    "scrolled": true
   },
   "outputs": [
    {
     "data": {
      "text/html": [
       "<div>\n",
       "<style scoped>\n",
       "    .dataframe tbody tr th:only-of-type {\n",
       "        vertical-align: middle;\n",
       "    }\n",
       "\n",
       "    .dataframe tbody tr th {\n",
       "        vertical-align: top;\n",
       "    }\n",
       "\n",
       "    .dataframe thead th {\n",
       "        text-align: right;\n",
       "    }\n",
       "</style>\n",
       "<table border=\"1\" class=\"dataframe\">\n",
       "  <thead>\n",
       "    <tr style=\"text-align: right;\">\n",
       "      <th></th>\n",
       "      <th>Algorithm</th>\n",
       "      <th>Fine_Tuning</th>\n",
       "      <th>R2_Train</th>\n",
       "      <th>R2_Test</th>\n",
       "      <th>MSE_Train</th>\n",
       "      <th>MSE_Test</th>\n",
       "    </tr>\n",
       "  </thead>\n",
       "  <tbody>\n",
       "    <tr>\n",
       "      <th>0</th>\n",
       "      <td>K-nearest neighbours</td>\n",
       "      <td>True</td>\n",
       "      <td>0.991</td>\n",
       "      <td>0.864</td>\n",
       "      <td>560582.0</td>\n",
       "      <td>8912375.0</td>\n",
       "    </tr>\n",
       "  </tbody>\n",
       "</table>\n",
       "</div>"
      ],
      "text/plain": [
       "              Algorithm  Fine_Tuning  R2_Train  R2_Test  MSE_Train   MSE_Test\n",
       "0  K-nearest neighbours         True     0.991    0.864   560582.0  8912375.0"
      ]
     },
     "execution_count": 69,
     "metadata": {},
     "output_type": "execute_result"
    }
   ],
   "source": [
    "KNNBestResults = rowOfResults('K-nearest neighbours', True, R2BestKNNTrain, R2BestKNNTest, MSEBestKNNTrain, MSEBestKNNTest)\n",
    "KNNBestResults"
   ]
  },
  {
   "cell_type": "code",
   "execution_count": 70,
   "metadata": {},
   "outputs": [
    {
     "data": {
      "text/html": [
       "<div>\n",
       "<style scoped>\n",
       "    .dataframe tbody tr th:only-of-type {\n",
       "        vertical-align: middle;\n",
       "    }\n",
       "\n",
       "    .dataframe tbody tr th {\n",
       "        vertical-align: top;\n",
       "    }\n",
       "\n",
       "    .dataframe thead th {\n",
       "        text-align: right;\n",
       "    }\n",
       "</style>\n",
       "<table border=\"1\" class=\"dataframe\">\n",
       "  <thead>\n",
       "    <tr style=\"text-align: right;\">\n",
       "      <th></th>\n",
       "      <th>Algorithm</th>\n",
       "      <th>Fine_Tuning</th>\n",
       "      <th>R2_Train</th>\n",
       "      <th>R2_Test</th>\n",
       "      <th>MSE_Train</th>\n",
       "      <th>MSE_Test</th>\n",
       "    </tr>\n",
       "  </thead>\n",
       "  <tbody>\n",
       "    <tr>\n",
       "      <th>0</th>\n",
       "      <td>Decision trees</td>\n",
       "      <td>0.0</td>\n",
       "      <td>0.991</td>\n",
       "      <td>0.812</td>\n",
       "      <td>544289.0</td>\n",
       "      <td>12328600.0</td>\n",
       "    </tr>\n",
       "    <tr>\n",
       "      <th>0</th>\n",
       "      <td>Decision trees</td>\n",
       "      <td>1.0</td>\n",
       "      <td>0.932</td>\n",
       "      <td>0.852</td>\n",
       "      <td>4301122.0</td>\n",
       "      <td>9734722.0</td>\n",
       "    </tr>\n",
       "    <tr>\n",
       "      <th>0</th>\n",
       "      <td>Random Forest</td>\n",
       "      <td>0.0</td>\n",
       "      <td>0.973</td>\n",
       "      <td>0.876</td>\n",
       "      <td>1723044.0</td>\n",
       "      <td>8129881.0</td>\n",
       "    </tr>\n",
       "    <tr>\n",
       "      <th>0</th>\n",
       "      <td>Random Forest</td>\n",
       "      <td>1.0</td>\n",
       "      <td>0.895</td>\n",
       "      <td>0.859</td>\n",
       "      <td>6671635.0</td>\n",
       "      <td>9241547.0</td>\n",
       "    </tr>\n",
       "    <tr>\n",
       "      <th>0</th>\n",
       "      <td>K-nearest neighbours</td>\n",
       "      <td>0.0</td>\n",
       "      <td>0.915</td>\n",
       "      <td>0.851</td>\n",
       "      <td>5399808.0</td>\n",
       "      <td>9747325.0</td>\n",
       "    </tr>\n",
       "    <tr>\n",
       "      <th>0</th>\n",
       "      <td>K-nearest neighbours</td>\n",
       "      <td>1.0</td>\n",
       "      <td>0.991</td>\n",
       "      <td>0.864</td>\n",
       "      <td>560582.0</td>\n",
       "      <td>8912375.0</td>\n",
       "    </tr>\n",
       "  </tbody>\n",
       "</table>\n",
       "</div>"
      ],
      "text/plain": [
       "              Algorithm  Fine_Tuning  R2_Train  R2_Test  MSE_Train    MSE_Test\n",
       "0        Decision trees          0.0     0.991    0.812   544289.0  12328600.0\n",
       "0        Decision trees          1.0     0.932    0.852  4301122.0   9734722.0\n",
       "0         Random Forest          0.0     0.973    0.876  1723044.0   8129881.0\n",
       "0         Random Forest          1.0     0.895    0.859  6671635.0   9241547.0\n",
       "0  K-nearest neighbours          0.0     0.915    0.851  5399808.0   9747325.0\n",
       "0  K-nearest neighbours          1.0     0.991    0.864   560582.0   8912375.0"
      ]
     },
     "execution_count": 70,
     "metadata": {},
     "output_type": "execute_result"
    }
   ],
   "source": [
    "modelizationResults = modelizationResults.append(KNNBestResults)\n",
    "modelizationResults"
   ]
  },
  {
   "cell_type": "markdown",
   "metadata": {},
   "source": [
    "## Charting results\n",
    "Train data"
   ]
  },
  {
   "cell_type": "code",
   "execution_count": 71,
   "metadata": {
    "scrolled": false
   },
   "outputs": [
    {
     "data": {
      "image/png": "[encoded data removed]",
      "text/plain": [
       "<Figure size 432x288 with 1 Axes>"
      ]
     },
     "metadata": {},
     "output_type": "display_data"
    }
   ],
   "source": [
    "chartResults(y=y_train, predBest=predBestKNNTrain, trainTest='Train', model='K-nearest Neighbours')"
   ]
  },
  {
   "cell_type": "code",
   "execution_count": 72,
   "metadata": {
    "scrolled": false
   },
   "outputs": [
    {
     "data": {
      "image/png": "[encoded data removed]",
      "text/plain": [
       "<Figure size 432x288 with 1 Axes>"
      ]
     },
     "metadata": {},
     "output_type": "display_data"
    }
   ],
   "source": [
    "chartResults(y=y_test, predBest=predBestKNNTest, trainTest='Test', model='K-nearest Neighbours')"
   ]
  },
  {
   "cell_type": "markdown",
   "metadata": {},
   "source": [
    "### Saving the model for later use"
   ]
  },
  {
   "cell_type": "code",
   "execution_count": 74,
   "metadata": {
    "scrolled": false
   },
   "outputs": [
    {
     "data": {
      "text/plain": [
       "['../output/bestKNN.pkl']"
      ]
     },
     "execution_count": 74,
     "metadata": {},
     "output_type": "execute_result"
    }
   ],
   "source": [
    "joblib.dump(bestKNN, filename='../output/bestKNN.pkl')"
   ]
  },
  {
   "cell_type": "markdown",
   "metadata": {},
   "source": [
    "***"
   ]
  },
  {
   "cell_type": "markdown",
   "metadata": {},
   "source": [
    "# Gradient boosting"
   ]
  },
  {
   "cell_type": "markdown",
   "metadata": {},
   "source": [
    "First try, no hyperparameters tuning"
   ]
  },
  {
   "cell_type": "code",
   "execution_count": 75,
   "metadata": {},
   "outputs": [],
   "source": [
    "regrBoost = GradientBoostingRegressor().fit(X_train, y_train)"
   ]
  },
  {
   "cell_type": "code",
   "execution_count": 76,
   "metadata": {
    "scrolled": false
   },
   "outputs": [],
   "source": [
    "predBoostTrain = regrBoost.predict(X_train)\n",
    "predBoostTest = regrBoost.predict(X_test)"
   ]
  },
  {
   "cell_type": "markdown",
   "metadata": {},
   "source": [
    "### Model score:  \n",
    "* $R^2$ Score:"
   ]
  },
  {
   "cell_type": "code",
   "execution_count": 77,
   "metadata": {},
   "outputs": [
    {
     "name": "stdout",
     "output_type": "stream",
     "text": [
      "R2 Train: 0.823 \n",
      "R2 Test:  0.813\n"
     ]
    }
   ],
   "source": [
    "R2BoostTrain = r2_score(y_train, predBoostTrain)\n",
    "R2BoostTest = r2_score(y_test, predBoostTest)\n",
    "print('R2 Train: %.3f' % R2BoostTrain, '\\nR2 Test:  %.3f' % R2BoostTest)"
   ]
  },
  {
   "cell_type": "markdown",
   "metadata": {},
   "source": [
    "* MSE Score:"
   ]
  },
  {
   "cell_type": "code",
   "execution_count": 78,
   "metadata": {
    "scrolled": false
   },
   "outputs": [
    {
     "name": "stdout",
     "output_type": "stream",
     "text": [
      "MSE Train: 11,192,150.881908 \n",
      "MSE Test: 12,263,594.819168\n"
     ]
    }
   ],
   "source": [
    "MSEBoostTrain = mean_squared_error(y_train, predBoostTrain)\n",
    "MSEBoostTest = mean_squared_error(y_test, predBoostTest)\n",
    "print('MSE Train:', format(MSEBoostTrain, ',f'), '\\nMSE Test:', format(MSEBoostTest, ',f'))"
   ]
  },
  {
   "cell_type": "code",
   "execution_count": 79,
   "metadata": {
    "scrolled": true
   },
   "outputs": [
    {
     "data": {
      "text/html": [
       "<div>\n",
       "<style scoped>\n",
       "    .dataframe tbody tr th:only-of-type {\n",
       "        vertical-align: middle;\n",
       "    }\n",
       "\n",
       "    .dataframe tbody tr th {\n",
       "        vertical-align: top;\n",
       "    }\n",
       "\n",
       "    .dataframe thead th {\n",
       "        text-align: right;\n",
       "    }\n",
       "</style>\n",
       "<table border=\"1\" class=\"dataframe\">\n",
       "  <thead>\n",
       "    <tr style=\"text-align: right;\">\n",
       "      <th></th>\n",
       "      <th>Algorithm</th>\n",
       "      <th>Fine_Tuning</th>\n",
       "      <th>R2_Train</th>\n",
       "      <th>R2_Test</th>\n",
       "      <th>MSE_Train</th>\n",
       "      <th>MSE_Test</th>\n",
       "    </tr>\n",
       "  </thead>\n",
       "  <tbody>\n",
       "    <tr>\n",
       "      <th>0</th>\n",
       "      <td>Gradient Boosting</td>\n",
       "      <td>False</td>\n",
       "      <td>0.823</td>\n",
       "      <td>0.813</td>\n",
       "      <td>11192151.0</td>\n",
       "      <td>12263595.0</td>\n",
       "    </tr>\n",
       "  </tbody>\n",
       "</table>\n",
       "</div>"
      ],
      "text/plain": [
       "           Algorithm  Fine_Tuning  R2_Train  R2_Test   MSE_Train    MSE_Test\n",
       "0  Gradient Boosting        False     0.823    0.813  11192151.0  12263595.0"
      ]
     },
     "execution_count": 79,
     "metadata": {},
     "output_type": "execute_result"
    }
   ],
   "source": [
    "BoostResults = rowOfResults('Gradient Boosting', False, R2BoostTrain, R2BoostTest, MSEBoostTrain, MSEBoostTest)\n",
    "BoostResults"
   ]
  },
  {
   "cell_type": "code",
   "execution_count": 80,
   "metadata": {},
   "outputs": [
    {
     "data": {
      "text/html": [
       "<div>\n",
       "<style scoped>\n",
       "    .dataframe tbody tr th:only-of-type {\n",
       "        vertical-align: middle;\n",
       "    }\n",
       "\n",
       "    .dataframe tbody tr th {\n",
       "        vertical-align: top;\n",
       "    }\n",
       "\n",
       "    .dataframe thead th {\n",
       "        text-align: right;\n",
       "    }\n",
       "</style>\n",
       "<table border=\"1\" class=\"dataframe\">\n",
       "  <thead>\n",
       "    <tr style=\"text-align: right;\">\n",
       "      <th></th>\n",
       "      <th>Algorithm</th>\n",
       "      <th>Fine_Tuning</th>\n",
       "      <th>R2_Train</th>\n",
       "      <th>R2_Test</th>\n",
       "      <th>MSE_Train</th>\n",
       "      <th>MSE_Test</th>\n",
       "    </tr>\n",
       "  </thead>\n",
       "  <tbody>\n",
       "    <tr>\n",
       "      <th>0</th>\n",
       "      <td>Decision trees</td>\n",
       "      <td>0.0</td>\n",
       "      <td>0.991</td>\n",
       "      <td>0.812</td>\n",
       "      <td>544289.0</td>\n",
       "      <td>12328600.0</td>\n",
       "    </tr>\n",
       "    <tr>\n",
       "      <th>0</th>\n",
       "      <td>Decision trees</td>\n",
       "      <td>1.0</td>\n",
       "      <td>0.932</td>\n",
       "      <td>0.852</td>\n",
       "      <td>4301122.0</td>\n",
       "      <td>9734722.0</td>\n",
       "    </tr>\n",
       "    <tr>\n",
       "      <th>0</th>\n",
       "      <td>Random Forest</td>\n",
       "      <td>0.0</td>\n",
       "      <td>0.973</td>\n",
       "      <td>0.876</td>\n",
       "      <td>1723044.0</td>\n",
       "      <td>8129881.0</td>\n",
       "    </tr>\n",
       "    <tr>\n",
       "      <th>0</th>\n",
       "      <td>Random Forest</td>\n",
       "      <td>1.0</td>\n",
       "      <td>0.895</td>\n",
       "      <td>0.859</td>\n",
       "      <td>6671635.0</td>\n",
       "      <td>9241547.0</td>\n",
       "    </tr>\n",
       "    <tr>\n",
       "      <th>0</th>\n",
       "      <td>K-nearest neighbours</td>\n",
       "      <td>0.0</td>\n",
       "      <td>0.915</td>\n",
       "      <td>0.851</td>\n",
       "      <td>5399808.0</td>\n",
       "      <td>9747325.0</td>\n",
       "    </tr>\n",
       "    <tr>\n",
       "      <th>0</th>\n",
       "      <td>K-nearest neighbours</td>\n",
       "      <td>1.0</td>\n",
       "      <td>0.991</td>\n",
       "      <td>0.864</td>\n",
       "      <td>560582.0</td>\n",
       "      <td>8912375.0</td>\n",
       "    </tr>\n",
       "    <tr>\n",
       "      <th>0</th>\n",
       "      <td>Gradient Boosting</td>\n",
       "      <td>0.0</td>\n",
       "      <td>0.823</td>\n",
       "      <td>0.813</td>\n",
       "      <td>11192151.0</td>\n",
       "      <td>12263595.0</td>\n",
       "    </tr>\n",
       "  </tbody>\n",
       "</table>\n",
       "</div>"
      ],
      "text/plain": [
       "              Algorithm  Fine_Tuning  R2_Train  R2_Test   MSE_Train  \\\n",
       "0        Decision trees          0.0     0.991    0.812    544289.0   \n",
       "0        Decision trees          1.0     0.932    0.852   4301122.0   \n",
       "0         Random Forest          0.0     0.973    0.876   1723044.0   \n",
       "0         Random Forest          1.0     0.895    0.859   6671635.0   \n",
       "0  K-nearest neighbours          0.0     0.915    0.851   5399808.0   \n",
       "0  K-nearest neighbours          1.0     0.991    0.864    560582.0   \n",
       "0     Gradient Boosting          0.0     0.823    0.813  11192151.0   \n",
       "\n",
       "     MSE_Test  \n",
       "0  12328600.0  \n",
       "0   9734722.0  \n",
       "0   8129881.0  \n",
       "0   9241547.0  \n",
       "0   9747325.0  \n",
       "0   8912375.0  \n",
       "0  12263595.0  "
      ]
     },
     "execution_count": 80,
     "metadata": {},
     "output_type": "execute_result"
    }
   ],
   "source": [
    "modelizationResults = modelizationResults.append(BoostResults)\n",
    "modelizationResults"
   ]
  },
  {
   "cell_type": "markdown",
   "metadata": {},
   "source": [
    "### Hyperparameter tuning"
   ]
  },
  {
   "cell_type": "markdown",
   "metadata": {},
   "source": [
    "**ATTENTION** This paramgrid takes 3 hours to complete"
   ]
  },
  {
   "cell_type": "code",
   "execution_count": 81,
   "metadata": {},
   "outputs": [],
   "source": [
    "paramsBoost = {\n",
    "        'learning_rate': [0.001, 0.01, 0.1],\n",
    "        'n_estimators': [100, 200, 500],\n",
    "        'max_depth': [1, 3, 5],\n",
    "        'min_samples_split': [2],\n",
    "        'min_samples_leaf': [1],\n",
    "        'max_features': [None, 'auto']\n",
    "        }"
   ]
  },
  {
   "cell_type": "code",
   "execution_count": 82,
   "metadata": {},
   "outputs": [
    {
     "name": "stdout",
     "output_type": "stream",
     "text": [
      "Fitting 10 folds for each of 54 candidates, totalling 540 fits\n"
     ]
    },
    {
     "name": "stderr",
     "output_type": "stream",
     "text": [
      "[Parallel(n_jobs=-1)]: Done  34 tasks      | elapsed:  2.3min\n",
      "[Parallel(n_jobs=-1)]: Done 184 tasks      | elapsed: 56.6min\n",
      "[Parallel(n_jobs=-1)]: Done 434 tasks      | elapsed: 122.7min\n",
      "[Parallel(n_jobs=-1)]: Done 540 out of 540 | elapsed: 169.6min finished\n"
     ]
    }
   ],
   "source": [
    "cvBoost = GridSearchCV(\n",
    "        estimator=GradientBoostingRegressor(),\n",
    "        param_grid=paramsBoost,\n",
    "        n_jobs=-1,\n",
    "        cv=10,\n",
    "        verbose=1,\n",
    "        return_train_score=True).fit(X_train, y_train)"
   ]
  },
  {
   "cell_type": "code",
   "execution_count": 83,
   "metadata": {},
   "outputs": [
    {
     "data": {
      "text/plain": [
       "{'learning_rate': 0.1,\n",
       " 'max_depth': 5,\n",
       " 'max_features': 'auto',\n",
       " 'min_samples_leaf': 1,\n",
       " 'min_samples_split': 2,\n",
       " 'n_estimators': 500}"
      ]
     },
     "execution_count": 83,
     "metadata": {},
     "output_type": "execute_result"
    }
   ],
   "source": [
    "cvBoost.best_params_"
   ]
  },
  {
   "cell_type": "code",
   "execution_count": 84,
   "metadata": {},
   "outputs": [],
   "source": [
    "bestBoost = GradientBoostingRegressor(learning_rate=cvBoost.best_params_['learning_rate'],\n",
    "                                      max_depth=cvBoost.best_params_['max_depth'],\n",
    "                                      max_features=cvBoost.best_params_['max_features'],\n",
    "                                      min_samples_leaf=cvBoost.best_params_['min_samples_leaf'],\n",
    "                                      min_samples_split=cvBoost.best_params_['min_samples_split'],\n",
    "                                      n_estimators=cvBoost.best_params_['n_estimators']).fit(X_train, y_train)"
   ]
  },
  {
   "cell_type": "code",
   "execution_count": 85,
   "metadata": {},
   "outputs": [],
   "source": [
    "predBestBoostTrain = bestBoost.predict(X_train)\n",
    "predBestBoostTest = bestBoost.predict(X_test)"
   ]
  },
  {
   "cell_type": "markdown",
   "metadata": {},
   "source": [
    "* $R^2$ Score:"
   ]
  },
  {
   "cell_type": "code",
   "execution_count": 86,
   "metadata": {
    "scrolled": true
   },
   "outputs": [
    {
     "name": "stdout",
     "output_type": "stream",
     "text": [
      "R2 Train: 0.934 \n",
      "R2 Test: 0.887\n"
     ]
    }
   ],
   "source": [
    "R2BestBoostTrain = r2_score(y_train, predBestBoostTrain)\n",
    "R2BestBoostTest = r2_score(y_test, predBestBoostTest)\n",
    "print('R2 Train: %.3f' % R2BestBoostTrain, '\\nR2 Test: %.3f' % R2BestBoostTest)"
   ]
  },
  {
   "cell_type": "markdown",
   "metadata": {},
   "source": [
    "* MSE Score:"
   ]
  },
  {
   "cell_type": "code",
   "execution_count": 87,
   "metadata": {
    "scrolled": false
   },
   "outputs": [
    {
     "name": "stdout",
     "output_type": "stream",
     "text": [
      "MSE Train: 4,180,363.382948 \n",
      "MSE Test: 7,423,881.925420\n"
     ]
    }
   ],
   "source": [
    "MSEBestBoostTrain = mean_squared_error(y_train, predBestBoostTrain)\n",
    "MSEBestBoostTest = mean_squared_error(y_test, predBestBoostTest)\n",
    "print('MSE Train:', format(MSEBestBoostTrain, ',f'), '\\nMSE Test:', format(MSEBestBoostTest, ',f'))"
   ]
  },
  {
   "cell_type": "code",
   "execution_count": 96,
   "metadata": {
    "scrolled": true
   },
   "outputs": [
    {
     "data": {
      "text/html": [
       "<div>\n",
       "<style scoped>\n",
       "    .dataframe tbody tr th:only-of-type {\n",
       "        vertical-align: middle;\n",
       "    }\n",
       "\n",
       "    .dataframe tbody tr th {\n",
       "        vertical-align: top;\n",
       "    }\n",
       "\n",
       "    .dataframe thead th {\n",
       "        text-align: right;\n",
       "    }\n",
       "</style>\n",
       "<table border=\"1\" class=\"dataframe\">\n",
       "  <thead>\n",
       "    <tr style=\"text-align: right;\">\n",
       "      <th></th>\n",
       "      <th>Algorithm</th>\n",
       "      <th>Fine_Tuning</th>\n",
       "      <th>R2_Train</th>\n",
       "      <th>R2_Test</th>\n",
       "      <th>MSE_Train</th>\n",
       "      <th>MSE_Test</th>\n",
       "    </tr>\n",
       "  </thead>\n",
       "  <tbody>\n",
       "    <tr>\n",
       "      <th>0</th>\n",
       "      <td>Gradient Boosting</td>\n",
       "      <td>True</td>\n",
       "      <td>0.934</td>\n",
       "      <td>0.887</td>\n",
       "      <td>4180363.0</td>\n",
       "      <td>7423882.0</td>\n",
       "    </tr>\n",
       "  </tbody>\n",
       "</table>\n",
       "</div>"
      ],
      "text/plain": [
       "           Algorithm  Fine_Tuning  R2_Train  R2_Test  MSE_Train   MSE_Test\n",
       "0  Gradient Boosting         True     0.934    0.887  4180363.0  7423882.0"
      ]
     },
     "execution_count": 96,
     "metadata": {},
     "output_type": "execute_result"
    }
   ],
   "source": [
    "BoostBestResults = rowOfResults('Gradient Boosting', True, R2BestBoostTrain, R2BestBoostTest, MSEBestBoostTrain, MSEBestBoostTest)\n",
    "BoostBestResults"
   ]
  },
  {
   "cell_type": "code",
   "execution_count": 97,
   "metadata": {},
   "outputs": [
    {
     "data": {
      "text/html": [
       "<div>\n",
       "<style scoped>\n",
       "    .dataframe tbody tr th:only-of-type {\n",
       "        vertical-align: middle;\n",
       "    }\n",
       "\n",
       "    .dataframe tbody tr th {\n",
       "        vertical-align: top;\n",
       "    }\n",
       "\n",
       "    .dataframe thead th {\n",
       "        text-align: right;\n",
       "    }\n",
       "</style>\n",
       "<table border=\"1\" class=\"dataframe\">\n",
       "  <thead>\n",
       "    <tr style=\"text-align: right;\">\n",
       "      <th></th>\n",
       "      <th>Algorithm</th>\n",
       "      <th>Fine_Tuning</th>\n",
       "      <th>R2_Train</th>\n",
       "      <th>R2_Test</th>\n",
       "      <th>MSE_Train</th>\n",
       "      <th>MSE_Test</th>\n",
       "    </tr>\n",
       "  </thead>\n",
       "  <tbody>\n",
       "    <tr>\n",
       "      <th>0</th>\n",
       "      <td>Decision trees</td>\n",
       "      <td>0.0</td>\n",
       "      <td>0.991</td>\n",
       "      <td>0.812</td>\n",
       "      <td>544289.0</td>\n",
       "      <td>12328600.0</td>\n",
       "    </tr>\n",
       "    <tr>\n",
       "      <th>0</th>\n",
       "      <td>Decision trees</td>\n",
       "      <td>1.0</td>\n",
       "      <td>0.932</td>\n",
       "      <td>0.852</td>\n",
       "      <td>4301122.0</td>\n",
       "      <td>9734722.0</td>\n",
       "    </tr>\n",
       "    <tr>\n",
       "      <th>0</th>\n",
       "      <td>Random Forest</td>\n",
       "      <td>0.0</td>\n",
       "      <td>0.973</td>\n",
       "      <td>0.876</td>\n",
       "      <td>1723044.0</td>\n",
       "      <td>8129881.0</td>\n",
       "    </tr>\n",
       "    <tr>\n",
       "      <th>0</th>\n",
       "      <td>Random Forest</td>\n",
       "      <td>1.0</td>\n",
       "      <td>0.895</td>\n",
       "      <td>0.859</td>\n",
       "      <td>6671635.0</td>\n",
       "      <td>9241547.0</td>\n",
       "    </tr>\n",
       "    <tr>\n",
       "      <th>0</th>\n",
       "      <td>K-nearest neighbours</td>\n",
       "      <td>0.0</td>\n",
       "      <td>0.915</td>\n",
       "      <td>0.851</td>\n",
       "      <td>5399808.0</td>\n",
       "      <td>9747325.0</td>\n",
       "    </tr>\n",
       "    <tr>\n",
       "      <th>0</th>\n",
       "      <td>K-nearest neighbours</td>\n",
       "      <td>1.0</td>\n",
       "      <td>0.991</td>\n",
       "      <td>0.864</td>\n",
       "      <td>560582.0</td>\n",
       "      <td>8912375.0</td>\n",
       "    </tr>\n",
       "    <tr>\n",
       "      <th>0</th>\n",
       "      <td>Gradient Boosting</td>\n",
       "      <td>0.0</td>\n",
       "      <td>0.823</td>\n",
       "      <td>0.813</td>\n",
       "      <td>11192151.0</td>\n",
       "      <td>12263595.0</td>\n",
       "    </tr>\n",
       "    <tr>\n",
       "      <th>0</th>\n",
       "      <td>Gradient Boosting</td>\n",
       "      <td>0.0</td>\n",
       "      <td>0.934</td>\n",
       "      <td>0.887</td>\n",
       "      <td>4180363.0</td>\n",
       "      <td>7423882.0</td>\n",
       "    </tr>\n",
       "    <tr>\n",
       "      <th>0</th>\n",
       "      <td>Gradient Boosting</td>\n",
       "      <td>1.0</td>\n",
       "      <td>0.934</td>\n",
       "      <td>0.887</td>\n",
       "      <td>4180363.0</td>\n",
       "      <td>7423882.0</td>\n",
       "    </tr>\n",
       "  </tbody>\n",
       "</table>\n",
       "</div>"
      ],
      "text/plain": [
       "              Algorithm  Fine_Tuning  R2_Train  R2_Test   MSE_Train  \\\n",
       "0        Decision trees          0.0     0.991    0.812    544289.0   \n",
       "0        Decision trees          1.0     0.932    0.852   4301122.0   \n",
       "0         Random Forest          0.0     0.973    0.876   1723044.0   \n",
       "0         Random Forest          1.0     0.895    0.859   6671635.0   \n",
       "0  K-nearest neighbours          0.0     0.915    0.851   5399808.0   \n",
       "0  K-nearest neighbours          1.0     0.991    0.864    560582.0   \n",
       "0     Gradient Boosting          0.0     0.823    0.813  11192151.0   \n",
       "0     Gradient Boosting          0.0     0.934    0.887   4180363.0   \n",
       "0     Gradient Boosting          1.0     0.934    0.887   4180363.0   \n",
       "\n",
       "     MSE_Test  \n",
       "0  12328600.0  \n",
       "0   9734722.0  \n",
       "0   8129881.0  \n",
       "0   9241547.0  \n",
       "0   9747325.0  \n",
       "0   8912375.0  \n",
       "0  12263595.0  \n",
       "0   7423882.0  \n",
       "0   7423882.0  "
      ]
     },
     "execution_count": 97,
     "metadata": {},
     "output_type": "execute_result"
    }
   ],
   "source": [
    "modelizationResults = modelizationResults.append(BoostBestResults)\n",
    "modelizationResults"
   ]
  },
  {
   "cell_type": "markdown",
   "metadata": {},
   "source": [
    "## Charting results"
   ]
  },
  {
   "cell_type": "code",
   "execution_count": 90,
   "metadata": {
    "scrolled": true
   },
   "outputs": [
    {
     "data": {
      "image/png": "[encoded data removed]",
      "text/plain": [
       "<Figure size 432x288 with 1 Axes>"
      ]
     },
     "metadata": {},
     "output_type": "display_data"
    }
   ],
   "source": [
    "chartResults(y=y_train, predBest=predBestBoostTrain, trainTest='Train', model='Gradient boosting')"
   ]
  },
  {
   "cell_type": "code",
   "execution_count": 91,
   "metadata": {
    "scrolled": false
   },
   "outputs": [
    {
     "data": {
      "image/png": "[encoded data removed]",
      "text/plain": [
       "<Figure size 432x288 with 1 Axes>"
      ]
     },
     "metadata": {},
     "output_type": "display_data"
    }
   ],
   "source": [
    "chartResults(y=y_test, predBest=predBestBoostTest, trainTest='Test', model='Gradient boosting')"
   ]
  },
  {
   "cell_type": "code",
   "execution_count": 92,
   "metadata": {
    "scrolled": false
   },
   "outputs": [
    {
     "data": {
      "text/plain": [
       "<BarContainer object of 9 artists>"
      ]
     },
     "execution_count": 92,
     "metadata": {},
     "output_type": "execute_result"
    },
    {
     "data": {
      "image/png": "[encoded data removed]",
      "text/plain": [
       "<Figure size 432x288 with 1 Axes>"
      ]
     },
     "metadata": {},
     "output_type": "display_data"
    }
   ],
   "source": [
    "plt.barh(X_train.columns, bestBoost.feature_importances_)"
   ]
  },
  {
   "cell_type": "markdown",
   "metadata": {},
   "source": [
    "### Saving the model for later use"
   ]
  },
  {
   "cell_type": "code",
   "execution_count": 93,
   "metadata": {
    "scrolled": false
   },
   "outputs": [
    {
     "data": {
      "text/plain": [
       "['../output/bestBoost.pkl']"
      ]
     },
     "execution_count": 93,
     "metadata": {},
     "output_type": "execute_result"
    }
   ],
   "source": [
    "joblib.dump(bestBoost, filename='../output/bestBoost.pkl')"
   ]
  },
  {
   "cell_type": "markdown",
   "metadata": {},
   "source": [
    "***"
   ]
  },
  {
   "cell_type": "markdown",
   "metadata": {},
   "source": [
    "### Saving the results data frame"
   ]
  },
  {
   "cell_type": "code",
   "execution_count": 98,
   "metadata": {},
   "outputs": [],
   "source": [
    "joblib.dump(modelizationResults, filename='../output/modelizationResults.pkl')\n",
    "modelizationResults.to_csv(path_or_buf='../output/modelizationResults.csv')"
   ]
  },
  {
   "cell_type": "code",
   "execution_count": null,
   "metadata": {},
   "outputs": [],
   "source": []
  }
 ],
 "metadata": {
  "kernelspec": {
   "display_name": "Python 3",
   "language": "python",
   "name": "python3"
  },
  "language_info": {
   "codemirror_mode": {
    "name": "ipython",
    "version": 3
   },
   "file_extension": ".py",
   "mimetype": "text/x-python",
   "name": "python",
   "nbconvert_exporter": "python",
   "pygments_lexer": "ipython3",
   "version": "3.6.5"
  }
 },
 "nbformat": 4,
 "nbformat_minor": 2
}
