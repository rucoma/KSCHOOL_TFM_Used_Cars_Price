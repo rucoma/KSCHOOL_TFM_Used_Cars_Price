{
 "cells": [
  {
   "cell_type": "markdown",
   "metadata": {},
   "source": [
    "# Predictive model of the price of used cars"
   ]
  },
  {
   "cell_type": "markdown",
   "metadata": {},
   "source": [
    "## Description of the project"
   ]
  },
  {
   "cell_type": "markdown",
   "metadata": {},
   "source": [
    "### The issue:"
   ]
  },
  {
   "cell_type": "markdown",
   "metadata": {},
   "source": [
    "According to Zentralverband Deutsches Kfz-Gewerbe (ZDK) that stands for Central Association of German Motor Trades, the market os used cars in Germany overcame new cars sales in 2016. Used cars trades supposed €67.6 billion in sales in front of €61.1 billion of new cars. This amount was 17% higher than previous year and confirms the trend observed in the past years: more and more people are considering second hand cars as a good option when they want to acquire or change their vehicle. Only ten years ago, new cars market in Germany doubled used cars, and thirty years ago, tripled.  "
   ]
  },
  {
   "cell_type": "markdown",
   "metadata": {},
   "source": [
    "One of the reasons of this growing market can be found in the economical crisis started in 2008 that forced people to save money in a uncertain scenario. The expansion in penetration of internet over the population helped too to develop secondary markets. I front of organised markets where brands controlled distribution, trade and promotional policies, appeared an infinity of little markets which escaped to brands control. Now, webs or even mobile apps, allow sellers and buyers to find each other and trade freely. Entering in a car dealership you have access to two or three different models according to your budget. Entering in a web portal of used cars puts at your disposal a wide catalog of brands and models, so the business opportunity is huge if you can attract many potential clients."
   ]
  },
  {
   "cell_type": "markdown",
   "metadata": {},
   "source": [
    "Cars are complex products to buy / sell. There are a lot of different variables that that can be taken into account before making a decision: brand, type of car, type of fuel, power of the engine, included equipment or color. When the car is used we can add some more variables to the equation, like kilometers or antique, and even if the car is damaged! So it's very difficult to precise the market price with accuracy. We could set an excessively expensive sale price for our car and never get to sell it, or otherwise, sell it underrated and not make money. Of course we could so some research and getting an estimate average of the sale price for a particular car, but for issues like that machine learning could help better."
   ]
  },
  {
   "cell_type": "markdown",
   "metadata": {},
   "source": [
    "Having a good methodology for estimate a sale price based on the features of the car could give a crucial competitive advantage to the web portal that implements it, because will be able to facilitate potential users to establish the price that best fits the characteristics of their vehicles. So, it can provide a good business opportunity."
   ]
  },
  {
   "cell_type": "markdown",
   "metadata": {},
   "source": [
    "### The data"
   ]
  },
  {
   "cell_type": "markdown",
   "metadata": {},
   "source": [
    "From a dataset from [Kaggle](https://www.kaggle.com/orgesleka/used-cars-database), consisting in 370k samples of used cars on sale on [eBay Classifieds Germany](https://www.ebay-kleinanzeigen.de/) we will try to build a predictive model that gives us information about the approximate sales price at which users should put their cars on our website."
   ]
  },
  {
   "cell_type": "markdown",
   "metadata": {},
   "source": [
    "Dataset contains different descriptive features of the vehicles like brand, model, vehicle type, year of registration, kilometers, etc. These are the features of the original dataset:\n",
    "* **dateCrawled**: when this ad was first crawled, all field-values are taken from this date. Won't be used in the project.\n",
    "* **name**: \"name\" of the ad. Won't be used in the project.\n",
    "* **seller**: private or dealer\n",
    "* **offerType**: Angebot (offer) or Gesuch (petition)\n",
    "* **price**: the price on the ad in Euros\n",
    "* **abtest**: eBay internal data. Won't be used in the project.\n",
    "* **vehicleType**: coupe, SUV, cabrio, limousine, etc\n",
    "* **yearOfRegistration**: at which year the car was first registered\n",
    "* **gearbox**: Type of transmission\n",
    "* **powerPS**: power of the car in PS (Horse Power)\n",
    "* **model**\n",
    "* **kilometer**: how many kilometers the car has driven\n",
    "* **monthOfRegistration**: at which month the car was first registered\n",
    "* **fuelType**: benzin, diesel, elektro, etc\n",
    "* **brand**\n",
    "* **notRepairedDamage**: if the car has a damage which is not repaired yet\n",
    "* **dateCreated**: the date for which the ad at ebay was created. Won't be used in the project.\n",
    "* **nrOfPictures**: number of pictures in the ad (this field contains only 0, won't be used)\n",
    "* **postalCode**\n",
    "* **lastSeenOnline**: when the crawler saw this ad last online. Won't be used in the project."
   ]
  },
  {
   "cell_type": "markdown",
   "metadata": {},
   "source": [
    "### Methodology"
   ]
  },
  {
   "cell_type": "markdown",
   "metadata": {},
   "source": [
    "After a process of data cleaning we will filter all irrelevant features and discard all samples that contain missing values (and cannot be imputed in any way). We will transform numerical features if necessary and add some other features from external sources (geographical info mainly).\n",
    "After that, we will visualize the dataset in different ways to try to understand the composition of the data and get the 'story' behind them.\n",
    "And finally, we will be ready for modeling and getting results (and deploy them in a little web app)."
   ]
  },
  {
   "cell_type": "markdown",
   "metadata": {},
   "source": [
    "The issue we are facing is a classical problem of supervised learning, because we know the outcome in advance. So, we need to find a function that infers the target value from new data. In this case, target variable is continuous, thus we have to use a regressor algorithm."
   ]
  },
  {
   "cell_type": "markdown",
   "metadata": {},
   "source": [
    "Due to nature of data, with multiple categorical features, we consider following regression algorithms could help us to achieve the objective:\n",
    "* Decision trees.\n",
    "* Random forest.\n",
    "* K-nearest neigbours.\n",
    "* Gradient boosting."
   ]
  },
  {
   "cell_type": "markdown",
   "metadata": {},
   "source": [
    "Through these methodologies we will follow a work routine, always the same, as described below:\n",
    "* First, we will run the training phase without any hyperparameter optimization to check if, a priori, the algorithm is able to predict the price with an acceptable accuracy.\n",
    "* If yes, we will implement a grid search with cross validation in order to get the best combination of hyperparameters for the algorithm.\n",
    "* To decide if prediction is good enough, we will use two indicators: *Coefficient of determination* ($R^2$) and *MAE* (Mean Absolute Error). These two scores measured for train and test data, will help us to choose wich algorithm explains better the dataset.\n",
    "* Visual inspection of the results will help us to discover some patterns or caveats we have to keep in mind. Maybe the model is more accurate only in some cases or there is a bias to take into account, etc.\n",
    "* It will be important to measure importance of features also. Do they contribute the same way to explain the data? Or only a few variables get all the credit?"
   ]
  },
  {
   "cell_type": "markdown",
   "metadata": {},
   "source": [
    "With the scores of all trained models, we will decide wich one works best and predicts better the car price. This will be used in the front end application."
   ]
  },
  {
   "cell_type": "markdown",
   "metadata": {},
   "source": [
    "### Then, let's start!"
   ]
  }
 ],
 "metadata": {
  "kernelspec": {
   "display_name": "Python 3",
   "language": "python",
   "name": "python3"
  },
  "language_info": {
   "codemirror_mode": {
    "name": "ipython",
    "version": 3
   },
   "file_extension": ".py",
   "mimetype": "text/x-python",
   "name": "python",
   "nbconvert_exporter": "python",
   "pygments_lexer": "ipython3",
   "version": "3.6.6"
  }
 },
 "nbformat": 4,
 "nbformat_minor": 2
}
