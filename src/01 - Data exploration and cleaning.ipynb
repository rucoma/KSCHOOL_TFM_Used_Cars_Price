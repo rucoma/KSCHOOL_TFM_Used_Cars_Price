{
 "cells": [
  {
   "cell_type": "markdown",
   "metadata": {},
   "source": [
    "# Data exploration and cleaning\n",
    "\n",
    "The first task in a data science project is data acquisition and cleaning. After a visual exploration of features we will be able to discard invalid data, fix errors and transform variables to make easier the modelization process.\n",
    "\n",
    "### Loading required libraries\n",
    "Some of the required data wrangling is easier to do using additional libraries beyond $R$ base like `data.table` or `tidyverse` for working with data frames, `lubridate` dor times and dates, or `forcats` for categorical data. Let's go to load into the environment."
   ]
  },
  {
   "cell_type": "code",
   "execution_count": 1,
   "metadata": {},
   "outputs": [
    {
     "name": "stderr",
     "output_type": "stream",
     "text": [
      "── Attaching packages ─────────────────────────────────────── tidyverse 1.2.1 ──\n",
      "✔ ggplot2 3.0.0     ✔ purrr   0.2.5\n",
      "✔ tibble  1.4.2     ✔ dplyr   0.7.6\n",
      "✔ tidyr   0.8.1     ✔ stringr 1.3.1\n",
      "✔ readr   1.1.1     ✔ forcats 0.3.0\n",
      "── Conflicts ────────────────────────────────────────── tidyverse_conflicts() ──\n",
      "✖ dplyr::between()   masks data.table::between()\n",
      "✖ dplyr::filter()    masks stats::filter()\n",
      "✖ dplyr::first()     masks data.table::first()\n",
      "✖ dplyr::lag()       masks stats::lag()\n",
      "✖ dplyr::last()      masks data.table::last()\n",
      "✖ purrr::transpose() masks data.table::transpose()\n",
      "\n",
      "Attaching package: ‘lubridate’\n",
      "\n",
      "The following objects are masked from ‘package:data.table’:\n",
      "\n",
      "    hour, isoweek, mday, minute, month, quarter, second, wday, week,\n",
      "    yday, year\n",
      "\n",
      "The following object is masked from ‘package:base’:\n",
      "\n",
      "    date\n",
      "\n",
      "Loading required package: Hmisc\n",
      "Loading required package: lattice\n",
      "Loading required package: survival\n",
      "Loading required package: Formula\n",
      "\n",
      "Attaching package: ‘Hmisc’\n",
      "\n",
      "The following objects are masked from ‘package:dplyr’:\n",
      "\n",
      "    src, summarize\n",
      "\n",
      "The following objects are masked from ‘package:base’:\n",
      "\n",
      "    format.pval, units\n",
      "\n",
      "funModeling v.1.6.7 :)\n",
      "Examples and tutorials at livebook.datascienceheroes.com\n",
      "\n",
      "corrplot 0.84 loaded\n"
     ]
    }
   ],
   "source": [
    "# Required libraries\n",
    "listPackages <- c('data.table', 'tidyverse', 'lubridate', 'funModeling', 'forcats', 'corrplot')\n",
    "newPackages <- listPackages[!(listPackages %in% installed.packages()[,'Package'])]\n",
    "if(length(newPackages)) install.packages(newPackages)\n",
    "\n",
    "rm(list = c('listPackages', 'newPackages'))\n",
    "\n",
    "library(data.table)\n",
    "library(tidyverse)\n",
    "library(lubridate)\n",
    "library(funModeling)\n",
    "library(forcats)\n",
    "library(corrplot)\n"
   ]
  },
  {
   "cell_type": "markdown",
   "metadata": {},
   "source": [
    "### Acquiring the data\n",
    "We are going to take the datasets from my [Dropbox](www.dropbox.com) account. We will use two datasets:\n",
    "* `autos.csv` : Main dataset of the project, which contains all the predictors and target.\n",
    "* `zipcodes_de_completo.csv` : Table of german zipcodes with [Länder](https://en.wikipedia.org/wiki/States_of_Germany) correspondence. This table will help to reduce geographical complexity of the dataset."
   ]
  },
  {
   "cell_type": "code",
   "execution_count": 2,
   "metadata": {},
   "outputs": [],
   "source": [
    "# Download dataset from Dropbox\n",
    "download.file(url = \"https://www.dropbox.com/s/3802ph0qspdgtao/autos.csv?dl=1\",\n",
    "              destfile = '../data/autos.csv')\n",
    "download.file(url = \"https://www.dropbox.com/s/uzzhu05061xjm0z/zipcodes_de_completo.csv?dl=1\",\n",
    "              destfile = '../data/zipcodes_de_completo.csv')"
   ]
  },
  {
   "cell_type": "markdown",
   "metadata": {},
   "source": [
    "### Loading autos.csv dataset"
   ]
  },
  {
   "cell_type": "code",
   "execution_count": 3,
   "metadata": {},
   "outputs": [],
   "source": [
    "# Load dataset\n",
    "filename <- '../data/autos.csv'\n",
    "datasetCars <- fread(input = filename, \n",
    "                     stringsAsFactors = TRUE, \n",
    "                     quote = \"\",\n",
    "                     colClasses = c(rep(x = 'factor', 4),\n",
    "                                    'numeric',\n",
    "                                    rep(x = 'factor', 2),\n",
    "                                    'numeric',\n",
    "                                    'factor',\n",
    "                                    'numeric',\n",
    "                                    'factor',\n",
    "                                    rep('numeric', 2),\n",
    "                                    rep('factor', 7)))\n"
   ]
  },
  {
   "cell_type": "markdown",
   "metadata": {},
   "source": [
    "### Dataset inspection"
   ]
  },
  {
   "cell_type": "markdown",
   "metadata": {},
   "source": [
    "The dataset contains more than 370k samples and 20 features."
   ]
  },
  {
   "cell_type": "code",
   "execution_count": 4,
   "metadata": {
    "scrolled": true
   },
   "outputs": [
    {
     "data": {
      "text/html": [
       "<ol class=list-inline>\n",
       "\t<li>371824</li>\n",
       "\t<li>20</li>\n",
       "</ol>\n"
      ],
      "text/latex": [
       "\\begin{enumerate*}\n",
       "\\item 371824\n",
       "\\item 20\n",
       "\\end{enumerate*}\n"
      ],
      "text/markdown": [
       "1. 371824\n",
       "2. 20\n",
       "\n",
       "\n"
      ],
      "text/plain": [
       "[1] 371824     20"
      ]
     },
     "metadata": {},
     "output_type": "display_data"
    }
   ],
   "source": [
    "dim(datasetCars)"
   ]
  },
  {
   "cell_type": "markdown",
   "metadata": {},
   "source": [
    "Let's go to inspect dataset structure. As we can see there are both numerical and categorical features."
   ]
  },
  {
   "cell_type": "code",
   "execution_count": 5,
   "metadata": {
    "scrolled": true
   },
   "outputs": [
    {
     "name": "stdout",
     "output_type": "stream",
     "text": [
      "Classes ‘data.table’ and 'data.frame':\t371824 obs. of  20 variables:\n",
      " $ dateCrawled        : Factor w/ 280652 levels \"2016-03-05 14:06:22\",..: 164643 164374 76603 106256 231281 271106 243057 141578 275651 103170 ...\n",
      " $ name               : Factor w/ 233704 levels \"!!!!!!!!!!!!!!!!!!!!!!!!__GOLF_3_CABRIO___!!!!!!!!!!!!!!!!!!!!!!!\",..: 79381 4241 90746 76767 170696 27488 145497 188560 64366 190608 ...\n",
      " $ seller             : Factor w/ 2 levels \"gewerblich\",\"privat\": 2 2 2 2 2 2 2 2 2 2 ...\n",
      " $ offerType          : Factor w/ 2 levels \"Angebot\",\"Gesuch\": 1 1 1 1 1 1 1 1 1 1 ...\n",
      " $ price              : num  480 18300 9800 1500 3600 650 2200 0 14500 999 ...\n",
      " $ abtest             : Factor w/ 2 levels \"control\",\"test\": 2 2 2 2 2 2 2 2 1 2 ...\n",
      " $ vehicleType        : Factor w/ 9 levels \"\",\"andere\",\"bus\",..: 1 5 9 6 6 8 4 8 3 6 ...\n",
      " $ yearOfRegistration : num  1993 2011 2004 2001 2008 ...\n",
      " $ gearbox            : Factor w/ 3 levels \"\",\"automatik\",..: 3 3 2 3 3 3 3 3 3 3 ...\n",
      " $ powerPS            : num  0 190 163 75 69 102 109 50 125 101 ...\n",
      " $ model              : Factor w/ 252 levels \"\",\"100\",\"145\",..: 120 1 121 120 105 13 10 42 63 120 ...\n",
      " $ kilometer          : num  150000 125000 125000 150000 90000 150000 150000 40000 30000 150000 ...\n",
      " $ monthOfRegistration: num  0 5 8 6 7 10 8 7 8 0 ...\n",
      " $ fuelType           : Factor w/ 8 levels \"\",\"andere\",\"benzin\",..: 3 5 5 3 5 3 3 3 3 1 ...\n",
      " $ brand              : Factor w/ 40 levels \"alfa_romeo\",\"audi\",..: 39 2 15 39 32 3 26 39 11 39 ...\n",
      " $ notRepairedDamage  : Factor w/ 3 levels \"\",\"ja\",\"nein\": 1 2 1 3 3 2 3 3 1 1 ...\n",
      " $ dateCreated        : Factor w/ 114 levels \"2014-03-10 00:00:00\",..: 100 100 90 93 107 111 108 97 111 93 ...\n",
      " $ nrOfPictures       : Factor w/ 1 level \"0\": 1 1 1 1 1 1 1 1 1 1 ...\n",
      " $ postalCode         : Factor w/ 8151 levels \"01067\",\"01068\",..: 4903 4620 7000 7040 4217 2382 4641 1157 7554 1948 ...\n",
      " $ lastSeen           : Factor w/ 182904 levels \"2016-03-05 14:15:08\",..: 178938 178454 163054 45304 172012 175601 165721 89623 157785 126444 ...\n",
      " - attr(*, \".internal.selfref\")=<externalptr> \n"
     ]
    }
   ],
   "source": [
    "str(datasetCars)"
   ]
  },
  {
   "cell_type": "markdown",
   "metadata": {},
   "source": [
    "All features have been imported as desired, but some of them won't be necessary for analysis.\n",
    "We will drop them later."
   ]
  },
  {
   "cell_type": "markdown",
   "metadata": {},
   "source": [
    "A first sight of the dataset show us some empty values."
   ]
  },
  {
   "cell_type": "code",
   "execution_count": 6,
   "metadata": {
    "scrolled": true
   },
   "outputs": [
    {
     "data": {
      "text/html": [
       "<table>\n",
       "<thead><tr><th scope=col>dateCrawled</th><th scope=col>name</th><th scope=col>seller</th><th scope=col>offerType</th><th scope=col>price</th><th scope=col>abtest</th><th scope=col>vehicleType</th><th scope=col>yearOfRegistration</th><th scope=col>gearbox</th><th scope=col>powerPS</th><th scope=col>model</th><th scope=col>kilometer</th><th scope=col>monthOfRegistration</th><th scope=col>fuelType</th><th scope=col>brand</th><th scope=col>notRepairedDamage</th><th scope=col>dateCreated</th><th scope=col>nrOfPictures</th><th scope=col>postalCode</th><th scope=col>lastSeen</th></tr></thead>\n",
       "<tbody>\n",
       "\t<tr><td>2016-03-24 11:52:17           </td><td>Golf_3_1.6                    </td><td>privat                        </td><td>Angebot                       </td><td>  480                         </td><td>test                          </td><td>                              </td><td>1993                          </td><td>manuell                       </td><td>  0                           </td><td>golf                          </td><td>150000                        </td><td>0                             </td><td>benzin                        </td><td>volkswagen                    </td><td>                              </td><td>2016-03-24 00:00:00           </td><td>0                             </td><td>70435                         </td><td>2016-04-07 03:16:57           </td></tr>\n",
       "\t<tr><td>2016-03-24 10:58:45           </td><td>A5_Sportback_2.7_Tdi          </td><td>privat                        </td><td>Angebot                       </td><td>18300                         </td><td>test                          </td><td>coupe                         </td><td>2011                          </td><td>manuell                       </td><td>190                           </td><td>                              </td><td>125000                        </td><td>5                             </td><td>diesel                        </td><td>audi                          </td><td>ja                            </td><td>2016-03-24 00:00:00           </td><td>0                             </td><td>66954                         </td><td>2016-04-07 01:46:50           </td></tr>\n",
       "\t<tr><td>2016-03-14 12:52:21           </td><td>Jeep_Grand_Cherokee_\"Overland\"</td><td>privat                        </td><td>Angebot                       </td><td> 9800                         </td><td>test                          </td><td>suv                           </td><td>2004                          </td><td>automatik                     </td><td>163                           </td><td>grand                         </td><td>125000                        </td><td>8                             </td><td>diesel                        </td><td>jeep                          </td><td>                              </td><td>2016-03-14 00:00:00           </td><td>0                             </td><td>90480                         </td><td>2016-04-05 12:47:46           </td></tr>\n",
       "</tbody>\n",
       "</table>\n"
      ],
      "text/latex": [
       "\\begin{tabular}{r|llllllllllllllllllll}\n",
       " dateCrawled & name & seller & offerType & price & abtest & vehicleType & yearOfRegistration & gearbox & powerPS & model & kilometer & monthOfRegistration & fuelType & brand & notRepairedDamage & dateCreated & nrOfPictures & postalCode & lastSeen\\\\\n",
       "\\hline\n",
       "\t 2016-03-24 11:52:17                & Golf\\_3\\_1.6                     & privat                             & Angebot                            &   480                              & test                               &                                    & 1993                               & manuell                            &   0                                & golf                               & 150000                             & 0                                  & benzin                             & volkswagen                         &                                    & 2016-03-24 00:00:00                & 0                                  & 70435                              & 2016-04-07 03:16:57               \\\\\n",
       "\t 2016-03-24 10:58:45                  & A5\\_Sportback\\_2.7\\_Tdi           & privat                               & Angebot                              & 18300                                & test                                 & coupe                                & 2011                                 & manuell                              & 190                                  &                                      & 125000                               & 5                                    & diesel                               & audi                                 & ja                                   & 2016-03-24 00:00:00                  & 0                                    & 66954                                & 2016-04-07 01:46:50                 \\\\\n",
       "\t 2016-03-14 12:52:21                  & Jeep\\_Grand\\_Cherokee\\_\"Overland\" & privat                               & Angebot                              &  9800                                & test                                 & suv                                  & 2004                                 & automatik                            & 163                                  & grand                                & 125000                               & 8                                    & diesel                               & jeep                                 &                                      & 2016-03-14 00:00:00                  & 0                                    & 90480                                & 2016-04-05 12:47:46                 \\\\\n",
       "\\end{tabular}\n"
      ],
      "text/markdown": [
       "\n",
       "dateCrawled | name | seller | offerType | price | abtest | vehicleType | yearOfRegistration | gearbox | powerPS | model | kilometer | monthOfRegistration | fuelType | brand | notRepairedDamage | dateCreated | nrOfPictures | postalCode | lastSeen | \n",
       "|---|---|---|\n",
       "| 2016-03-24 11:52:17            | Golf_3_1.6                     | privat                         | Angebot                        |   480                          | test                           |                                | 1993                           | manuell                        |   0                            | golf                           | 150000                         | 0                              | benzin                         | volkswagen                     |                                | 2016-03-24 00:00:00            | 0                              | 70435                          | 2016-04-07 03:16:57            | \n",
       "| 2016-03-24 10:58:45            | A5_Sportback_2.7_Tdi           | privat                         | Angebot                        | 18300                          | test                           | coupe                          | 2011                           | manuell                        | 190                            |                                | 125000                         | 5                              | diesel                         | audi                           | ja                             | 2016-03-24 00:00:00            | 0                              | 66954                          | 2016-04-07 01:46:50            | \n",
       "| 2016-03-14 12:52:21            | Jeep_Grand_Cherokee_\"Overland\" | privat                         | Angebot                        |  9800                          | test                           | suv                            | 2004                           | automatik                      | 163                            | grand                          | 125000                         | 8                              | diesel                         | jeep                           |                                | 2016-03-14 00:00:00            | 0                              | 90480                          | 2016-04-05 12:47:46            | \n",
       "\n",
       "\n"
      ],
      "text/plain": [
       "  dateCrawled         name                           seller offerType price\n",
       "1 2016-03-24 11:52:17 Golf_3_1.6                     privat Angebot     480\n",
       "2 2016-03-24 10:58:45 A5_Sportback_2.7_Tdi           privat Angebot   18300\n",
       "3 2016-03-14 12:52:21 Jeep_Grand_Cherokee_\"Overland\" privat Angebot    9800\n",
       "  abtest vehicleType yearOfRegistration gearbox   powerPS model kilometer\n",
       "1 test               1993               manuell     0     golf  150000   \n",
       "2 test   coupe       2011               manuell   190           125000   \n",
       "3 test   suv         2004               automatik 163     grand 125000   \n",
       "  monthOfRegistration fuelType brand      notRepairedDamage dateCreated        \n",
       "1 0                   benzin   volkswagen                   2016-03-24 00:00:00\n",
       "2 5                   diesel   audi       ja                2016-03-24 00:00:00\n",
       "3 8                   diesel   jeep                         2016-03-14 00:00:00\n",
       "  nrOfPictures postalCode lastSeen           \n",
       "1 0            70435      2016-04-07 03:16:57\n",
       "2 0            66954      2016-04-07 01:46:50\n",
       "3 0            90480      2016-04-05 12:47:46"
      ]
     },
     "metadata": {},
     "output_type": "display_data"
    }
   ],
   "source": [
    "head(datasetCars, 3)"
   ]
  },
  {
   "cell_type": "markdown",
   "metadata": {},
   "source": [
    "We can see some empty values at first sight!!\n",
    "An ispection of the composition of the features can show us if there are NAs, zeroes or Inf values:"
   ]
  },
  {
   "cell_type": "code",
   "execution_count": 7,
   "metadata": {
    "scrolled": true
   },
   "outputs": [
    {
     "name": "stdout",
     "output_type": "stream",
     "text": [
      "              variable q_zeros p_zeros q_na p_na q_inf p_inf    type unique\n",
      "1          dateCrawled       0    0.00    0    0     0     0  factor 280652\n",
      "2                 name       0    0.00    0    0     0     0  factor 233704\n",
      "3               seller       0    0.00    0    0     0     0  factor      2\n",
      "4            offerType       0    0.00    0    0     0     0  factor      2\n",
      "5                price   10785    2.90    0    0     0     0 numeric   5597\n",
      "6               abtest       0    0.00    0    0     0     0  factor      2\n",
      "7          vehicleType       0    0.00    0    0     0     0  factor      9\n",
      "8   yearOfRegistration       0    0.00    0    0     0     0 numeric    155\n",
      "9              gearbox       0    0.00    0    0     0     0  factor      3\n",
      "10             powerPS   40860   10.99    0    0     0     0 numeric    794\n",
      "11               model       0    0.00    0    0     0     0  factor    252\n",
      "12           kilometer       0    0.00    0    0     0     0 numeric     13\n",
      "13 monthOfRegistration   37706   10.14    0    0     0     0 numeric     13\n",
      "14            fuelType       0    0.00    0    0     0     0  factor      8\n",
      "15               brand       0    0.00    0    0     0     0  factor     40\n",
      "16   notRepairedDamage       0    0.00    0    0     0     0  factor      3\n",
      "17         dateCreated       0    0.00    0    0     0     0  factor    114\n",
      "18        nrOfPictures  371824  100.00    0    0     0     0  factor      1\n",
      "19          postalCode       0    0.00    0    0     0     0  factor   8151\n",
      "20            lastSeen       0    0.00    0    0     0     0  factor 182904\n"
     ]
    }
   ],
   "source": [
    "df_status(datasetCars)"
   ]
  },
  {
   "cell_type": "markdown",
   "metadata": {},
   "source": [
    "No NA values in the dataset, but a lot of zeroes. We should manage them."
   ]
  },
  {
   "cell_type": "code",
   "execution_count": 8,
   "metadata": {
    "scrolled": true
   },
   "outputs": [
    {
     "data": {
      "text/plain": [
       "              dateCrawled                      name               seller      \n",
       " 2016-03-24 14:49:47:     7   Ford_Fiesta        :   657   gewerblich:     3  \n",
       " 2016-03-19 21:49:56:     6   BMW_318i           :   627   privat    :371821  \n",
       " 2016-03-26 22:57:31:     6   Opel_Corsa         :   624                      \n",
       " 2016-03-05 14:25:23:     5   Volkswagen_Golf_1.4:   605                      \n",
       " 2016-03-05 14:44:30:     5   BMW_316i           :   523                      \n",
       " 2016-03-07 17:36:19:     5   BMW_320i           :   492                      \n",
       " (Other)            :371790   (Other)            :368296                      \n",
       "   offerType          price               abtest           vehicleType   \n",
       " Angebot:371812   Min.   :0.000e+00   control:179091   limousine :95963  \n",
       " Gesuch :    12   1st Qu.:1.150e+03   test   :192733   kleinwagen:80098  \n",
       "                  Median :2.950e+03                    kombi     :67626  \n",
       "                  Mean   :1.729e+04                              :37899  \n",
       "                  3rd Qu.:7.200e+03                    bus       :30220  \n",
       "                  Max.   :2.147e+09                    cabrio    :22914  \n",
       "                                                       (Other)   :37104  \n",
       " yearOfRegistration      gearbox          powerPS            model       \n",
       " Min.   :1000                : 20223   Min.   :    0.0   golf   : 30086  \n",
       " 1st Qu.:1999       automatik: 77169   1st Qu.:   70.0   andere : 26424  \n",
       " Median :2003       manuell  :274432   Median :  105.0   3er    : 20581  \n",
       " Mean   :2005                          Mean   :  115.5          : 20498  \n",
       " 3rd Qu.:2008                          3rd Qu.:  150.0   polo   : 13105  \n",
       " Max.   :9999                          Max.   :20000.0   corsa  : 12584  \n",
       "                                                         (Other):248546  \n",
       "   kilometer      monthOfRegistration    fuelType                brand       \n",
       " Min.   :  5000   Min.   : 0.000      benzin :224038   volkswagen   : 79695  \n",
       " 1st Qu.:125000   1st Qu.: 3.000      diesel :107826   bmw          : 40301  \n",
       " Median :150000   Median : 6.000             : 33415   opel         : 40166  \n",
       " Mean   :125619   Mean   : 5.735      lpg    :  5382   mercedes_benz: 35346  \n",
       " 3rd Qu.:150000   3rd Qu.: 9.000      cng    :   571   audi         : 32897  \n",
       " Max.   :150000   Max.   :12.000      hybrid :   280   ford         : 25593  \n",
       "                                      (Other):   312   (Other)      :117826  \n",
       " notRepairedDamage              dateCreated     nrOfPictures   postalCode    \n",
       "     : 72124       2016-04-03 00:00:00: 14470   0:371824     10115  :   828  \n",
       " ja  : 36310       2016-04-04 00:00:00: 14028                65428  :   638  \n",
       " nein:263390       2016-03-20 00:00:00: 13556                66333  :   349  \n",
       "                   2016-03-12 00:00:00: 13390                38518  :   326  \n",
       "                   2016-03-21 00:00:00: 13317                32257  :   324  \n",
       "                   2016-03-14 00:00:00: 13096                44145  :   323  \n",
       "                   (Other)            :289967                (Other):369036  \n",
       "                lastSeen     \n",
       " 2016-04-06 13:45:54:    17  \n",
       " 2016-04-07 06:45:59:    17  \n",
       " 2016-04-06 01:15:23:    16  \n",
       " 2016-04-06 01:16:21:    16  \n",
       " 2016-04-06 02:45:52:    16  \n",
       " 2016-04-06 03:15:56:    16  \n",
       " (Other)            :371726  "
      ]
     },
     "metadata": {},
     "output_type": "display_data"
    }
   ],
   "source": [
    "summary(datasetCars)"
   ]
  },
  {
   "cell_type": "markdown",
   "metadata": {},
   "source": [
    "In some feaures, there are values with few samples (`seller`, `offerType`)\n",
    "Numerical features, like `price`, `powerPS` or `yearOfRegistration` have strange values. We should clean them."
   ]
  },
  {
   "cell_type": "markdown",
   "metadata": {},
   "source": [
    "### Removing unused features"
   ]
  },
  {
   "cell_type": "markdown",
   "metadata": {},
   "source": [
    "Some features are not interesting for the analysis because them are not providing useful information to the data. These measures are:\n",
    "* `dateCrawled`: Info relative to the ad, not the car.\n",
    "* `dateCreated`: Info relative to the ad, not the car.\n",
    "* `nrOfPictures`: All values are 0.\n",
    "* `lastSeen`: Info relative to the ad, not the car.\n",
    "* `name`: Arbitrary description of the car.\n",
    "* `abtest`: eBay internal data. Info relative to the ad, not the car."
   ]
  },
  {
   "cell_type": "code",
   "execution_count": 9,
   "metadata": {},
   "outputs": [
    {
     "data": {},
     "metadata": {},
     "output_type": "display_data"
    }
   ],
   "source": [
    "deleteCols <- c('dateCrawled', 'dateCreated', 'nrOfPictures', 'lastSeen', 'name', 'abtest')\n",
    "datasetCars[, (deleteCols) := NULL]"
   ]
  },
  {
   "cell_type": "markdown",
   "metadata": {},
   "source": [
    "### Missing values exploration"
   ]
  },
  {
   "cell_type": "code",
   "execution_count": 10,
   "metadata": {
    "scrolled": true
   },
   "outputs": [
    {
     "data": {
      "text/html": [
       "FALSE"
      ],
      "text/latex": [
       "FALSE"
      ],
      "text/markdown": [
       "FALSE"
      ],
      "text/plain": [
       "[1] FALSE"
      ]
     },
     "metadata": {},
     "output_type": "display_data"
    },
    {
     "data": {
      "text/html": [
       "<dl class=dl-horizontal>\n",
       "\t<dt>seller</dt>\n",
       "\t\t<dd>0</dd>\n",
       "\t<dt>offerType</dt>\n",
       "\t\t<dd>0</dd>\n",
       "\t<dt>price</dt>\n",
       "\t\t<dd>0</dd>\n",
       "\t<dt>vehicleType</dt>\n",
       "\t\t<dd>0</dd>\n",
       "\t<dt>yearOfRegistration</dt>\n",
       "\t\t<dd>0</dd>\n",
       "\t<dt>gearbox</dt>\n",
       "\t\t<dd>0</dd>\n",
       "\t<dt>powerPS</dt>\n",
       "\t\t<dd>0</dd>\n",
       "\t<dt>model</dt>\n",
       "\t\t<dd>0</dd>\n",
       "\t<dt>kilometer</dt>\n",
       "\t\t<dd>0</dd>\n",
       "\t<dt>monthOfRegistration</dt>\n",
       "\t\t<dd>0</dd>\n",
       "\t<dt>fuelType</dt>\n",
       "\t\t<dd>0</dd>\n",
       "\t<dt>brand</dt>\n",
       "\t\t<dd>0</dd>\n",
       "\t<dt>notRepairedDamage</dt>\n",
       "\t\t<dd>0</dd>\n",
       "\t<dt>postalCode</dt>\n",
       "\t\t<dd>0</dd>\n",
       "</dl>\n"
      ],
      "text/latex": [
       "\\begin{description*}\n",
       "\\item[seller] 0\n",
       "\\item[offerType] 0\n",
       "\\item[price] 0\n",
       "\\item[vehicleType] 0\n",
       "\\item[yearOfRegistration] 0\n",
       "\\item[gearbox] 0\n",
       "\\item[powerPS] 0\n",
       "\\item[model] 0\n",
       "\\item[kilometer] 0\n",
       "\\item[monthOfRegistration] 0\n",
       "\\item[fuelType] 0\n",
       "\\item[brand] 0\n",
       "\\item[notRepairedDamage] 0\n",
       "\\item[postalCode] 0\n",
       "\\end{description*}\n"
      ],
      "text/markdown": [
       "seller\n",
       ":   0offerType\n",
       ":   0price\n",
       ":   0vehicleType\n",
       ":   0yearOfRegistration\n",
       ":   0gearbox\n",
       ":   0powerPS\n",
       ":   0model\n",
       ":   0kilometer\n",
       ":   0monthOfRegistration\n",
       ":   0fuelType\n",
       ":   0brand\n",
       ":   0notRepairedDamage\n",
       ":   0postalCode\n",
       ":   0\n",
       "\n"
      ],
      "text/plain": [
       "             seller           offerType               price         vehicleType \n",
       "                  0                   0                   0                   0 \n",
       " yearOfRegistration             gearbox             powerPS               model \n",
       "                  0                   0                   0                   0 \n",
       "          kilometer monthOfRegistration            fuelType               brand \n",
       "                  0                   0                   0                   0 \n",
       "  notRepairedDamage          postalCode \n",
       "                  0                   0 "
      ]
     },
     "metadata": {},
     "output_type": "display_data"
    }
   ],
   "source": [
    "any(!complete.cases(datasetCars))\n",
    "map_dbl(.x = datasetCars, .f = function(x){sum(is.na(x))})"
   ]
  },
  {
   "cell_type": "markdown",
   "metadata": {},
   "source": [
    "It seems there is not NA vaues in the dataset, let's try to detect empty values"
   ]
  },
  {
   "cell_type": "code",
   "execution_count": 11,
   "metadata": {},
   "outputs": [
    {
     "data": {
      "text/html": [
       "<dl class=dl-horizontal>\n",
       "\t<dt>seller</dt>\n",
       "\t\t<dd>FALSE</dd>\n",
       "\t<dt>offerType</dt>\n",
       "\t\t<dd>FALSE</dd>\n",
       "\t<dt>price</dt>\n",
       "\t\t<dd>FALSE</dd>\n",
       "\t<dt>vehicleType</dt>\n",
       "\t\t<dd>TRUE</dd>\n",
       "\t<dt>yearOfRegistration</dt>\n",
       "\t\t<dd>FALSE</dd>\n",
       "\t<dt>gearbox</dt>\n",
       "\t\t<dd>TRUE</dd>\n",
       "\t<dt>powerPS</dt>\n",
       "\t\t<dd>FALSE</dd>\n",
       "\t<dt>model</dt>\n",
       "\t\t<dd>TRUE</dd>\n",
       "\t<dt>kilometer</dt>\n",
       "\t\t<dd>FALSE</dd>\n",
       "\t<dt>monthOfRegistration</dt>\n",
       "\t\t<dd>FALSE</dd>\n",
       "\t<dt>fuelType</dt>\n",
       "\t\t<dd>TRUE</dd>\n",
       "\t<dt>brand</dt>\n",
       "\t\t<dd>FALSE</dd>\n",
       "\t<dt>notRepairedDamage</dt>\n",
       "\t\t<dd>TRUE</dd>\n",
       "\t<dt>postalCode</dt>\n",
       "\t\t<dd>FALSE</dd>\n",
       "</dl>\n"
      ],
      "text/latex": [
       "\\begin{description*}\n",
       "\\item[seller] FALSE\n",
       "\\item[offerType] FALSE\n",
       "\\item[price] FALSE\n",
       "\\item[vehicleType] TRUE\n",
       "\\item[yearOfRegistration] FALSE\n",
       "\\item[gearbox] TRUE\n",
       "\\item[powerPS] FALSE\n",
       "\\item[model] TRUE\n",
       "\\item[kilometer] FALSE\n",
       "\\item[monthOfRegistration] FALSE\n",
       "\\item[fuelType] TRUE\n",
       "\\item[brand] FALSE\n",
       "\\item[notRepairedDamage] TRUE\n",
       "\\item[postalCode] FALSE\n",
       "\\end{description*}\n"
      ],
      "text/markdown": [
       "seller\n",
       ":   FALSEofferType\n",
       ":   FALSEprice\n",
       ":   FALSEvehicleType\n",
       ":   TRUEyearOfRegistration\n",
       ":   FALSEgearbox\n",
       ":   TRUEpowerPS\n",
       ":   FALSEmodel\n",
       ":   TRUEkilometer\n",
       ":   FALSEmonthOfRegistration\n",
       ":   FALSEfuelType\n",
       ":   TRUEbrand\n",
       ":   FALSEnotRepairedDamage\n",
       ":   TRUEpostalCode\n",
       ":   FALSE\n",
       "\n"
      ],
      "text/plain": [
       "             seller           offerType               price         vehicleType \n",
       "              FALSE               FALSE               FALSE                TRUE \n",
       " yearOfRegistration             gearbox             powerPS               model \n",
       "              FALSE                TRUE               FALSE                TRUE \n",
       "          kilometer monthOfRegistration            fuelType               brand \n",
       "              FALSE               FALSE                TRUE               FALSE \n",
       "  notRepairedDamage          postalCode \n",
       "               TRUE               FALSE "
      ]
     },
     "metadata": {},
     "output_type": "display_data"
    }
   ],
   "source": [
    "map_lgl(.x = datasetCars, .f = function(x){any(is.na(x) | x == '')})"
   ]
  },
  {
   "cell_type": "markdown",
   "metadata": {},
   "source": [
    "There are some variables with empty values, so it is necessary to detect and evaluate if we will remove them or assign another value. Whe have to converto to character prior to asign NA. We create a function to do so."
   ]
  },
  {
   "cell_type": "code",
   "execution_count": 12,
   "metadata": {},
   "outputs": [],
   "source": [
    "assignNA <- function(column){\n",
    "  column <- as.character(column)\n",
    "  column[column == ''] <- NA\n",
    "  column <- as.factor(column)\n",
    "}"
   ]
  },
  {
   "cell_type": "code",
   "execution_count": 13,
   "metadata": {},
   "outputs": [],
   "source": [
    "datasetCars$vehicleType <- assignNA(datasetCars$vehicleType)\n",
    "datasetCars$gearbox <- assignNA(datasetCars$gearbox)\n",
    "datasetCars$model <- assignNA(datasetCars$model)\n",
    "datasetCars$fuelType <- assignNA(datasetCars$fuelType)\n",
    "datasetCars$notRepairedDamage <- assignNA(datasetCars$notRepairedDamage)"
   ]
  },
  {
   "cell_type": "code",
   "execution_count": 14,
   "metadata": {},
   "outputs": [
    {
     "data": {
      "text/html": [
       "<dl class=dl-horizontal>\n",
       "\t<dt>seller</dt>\n",
       "\t\t<dd>0</dd>\n",
       "\t<dt>offerType</dt>\n",
       "\t\t<dd>0</dd>\n",
       "\t<dt>price</dt>\n",
       "\t\t<dd>0</dd>\n",
       "\t<dt>vehicleType</dt>\n",
       "\t\t<dd>37899</dd>\n",
       "\t<dt>yearOfRegistration</dt>\n",
       "\t\t<dd>0</dd>\n",
       "\t<dt>gearbox</dt>\n",
       "\t\t<dd>20223</dd>\n",
       "\t<dt>powerPS</dt>\n",
       "\t\t<dd>0</dd>\n",
       "\t<dt>model</dt>\n",
       "\t\t<dd>20498</dd>\n",
       "\t<dt>kilometer</dt>\n",
       "\t\t<dd>0</dd>\n",
       "\t<dt>monthOfRegistration</dt>\n",
       "\t\t<dd>0</dd>\n",
       "\t<dt>fuelType</dt>\n",
       "\t\t<dd>33415</dd>\n",
       "\t<dt>brand</dt>\n",
       "\t\t<dd>0</dd>\n",
       "\t<dt>notRepairedDamage</dt>\n",
       "\t\t<dd>72124</dd>\n",
       "\t<dt>postalCode</dt>\n",
       "\t\t<dd>0</dd>\n",
       "</dl>\n"
      ],
      "text/latex": [
       "\\begin{description*}\n",
       "\\item[seller] 0\n",
       "\\item[offerType] 0\n",
       "\\item[price] 0\n",
       "\\item[vehicleType] 37899\n",
       "\\item[yearOfRegistration] 0\n",
       "\\item[gearbox] 20223\n",
       "\\item[powerPS] 0\n",
       "\\item[model] 20498\n",
       "\\item[kilometer] 0\n",
       "\\item[monthOfRegistration] 0\n",
       "\\item[fuelType] 33415\n",
       "\\item[brand] 0\n",
       "\\item[notRepairedDamage] 72124\n",
       "\\item[postalCode] 0\n",
       "\\end{description*}\n"
      ],
      "text/markdown": [
       "seller\n",
       ":   0offerType\n",
       ":   0price\n",
       ":   0vehicleType\n",
       ":   37899yearOfRegistration\n",
       ":   0gearbox\n",
       ":   20223powerPS\n",
       ":   0model\n",
       ":   20498kilometer\n",
       ":   0monthOfRegistration\n",
       ":   0fuelType\n",
       ":   33415brand\n",
       ":   0notRepairedDamage\n",
       ":   72124postalCode\n",
       ":   0\n",
       "\n"
      ],
      "text/plain": [
       "             seller           offerType               price         vehicleType \n",
       "                  0                   0                   0               37899 \n",
       " yearOfRegistration             gearbox             powerPS               model \n",
       "                  0               20223                   0               20498 \n",
       "          kilometer monthOfRegistration            fuelType               brand \n",
       "                  0                   0               33415                   0 \n",
       "  notRepairedDamage          postalCode \n",
       "              72124                   0 "
      ]
     },
     "metadata": {},
     "output_type": "display_data"
    }
   ],
   "source": [
    "map_dbl(.x = datasetCars, .f = function(x){sum(is.na(x))})"
   ]
  },
  {
   "cell_type": "markdown",
   "metadata": {},
   "source": [
    "**Aha!** a lot of NA have appeared!! Let's remove them later"
   ]
  },
  {
   "cell_type": "markdown",
   "metadata": {},
   "source": [
    "### Distribution of categorical variables"
   ]
  },
  {
   "cell_type": "markdown",
   "metadata": {},
   "source": [
    "It is important to know about the distribution of the values of the categorical variables to detect problems in the dataset."
   ]
  },
  {
   "cell_type": "code",
   "execution_count": 15,
   "metadata": {},
   "outputs": [],
   "source": [
    "categoricalCols <- c('seller', 'offerType', 'vehicleType', 'gearbox', 'fuelType', 'notRepairedDamage')\n",
    "datasetCarsCategorical <- datasetCars[, ..categoricalCols ]"
   ]
  },
  {
   "cell_type": "markdown",
   "metadata": {},
   "source": [
    "We will change the shape of the dataset to long format for better visualization."
   ]
  },
  {
   "cell_type": "code",
   "execution_count": 16,
   "metadata": {},
   "outputs": [
    {
     "name": "stderr",
     "output_type": "stream",
     "text": [
      "Warning message:\n",
      "“attributes are not identical across measure variables;\n",
      "they will be dropped”"
     ]
    }
   ],
   "source": [
    "datasetCarsCategorical <- datasetCarsCategorical %>% gather()"
   ]
  },
  {
   "cell_type": "code",
   "execution_count": 17,
   "metadata": {
    "scrolled": true
   },
   "outputs": [
    {
     "data": {},
     "metadata": {},
     "output_type": "display_data"
    },
    {
     "data": {
      "image/png": "[encoded data removed]",
      "text/plain": [
       "plot without title"
      ]
     },
     "metadata": {},
     "output_type": "display_data"
    }
   ],
   "source": [
    "ggplot(datasetCarsCategorical, aes(value)) +\n",
    "  geom_bar() +\n",
    "  coord_flip() +\n",
    "  facet_wrap(~ key, scales = 'free_y') +\n",
    "  theme_light()"
   ]
  },
  {
   "cell_type": "markdown",
   "metadata": {},
   "source": [
    "We are going to remove all NA values unles from notRepairedDamage variable (NA will be converted to 'Nein')"
   ]
  },
  {
   "cell_type": "markdown",
   "metadata": {},
   "source": [
    "#### Brands chart"
   ]
  },
  {
   "cell_type": "code",
   "execution_count": 18,
   "metadata": {
    "scrolled": false
   },
   "outputs": [
    {
     "data": {},
     "metadata": {},
     "output_type": "display_data"
    },
    {
     "data": {
      "image/png": "[encoded data removed]",
      "text/plain": [
       "plot without title"
      ]
     },
     "metadata": {},
     "output_type": "display_data"
    }
   ],
   "source": [
    "ggplot(datasetCars, aes(x = fct_infreq(brand))) +\n",
    "  geom_bar() +\n",
    "  coord_flip() + \n",
    "  theme_light() +\n",
    "  xlab('Brand') +\n",
    "  ylab('Count') +\n",
    "  labs(title = 'Frequency ob brands in dataset')"
   ]
  },
  {
   "cell_type": "markdown",
   "metadata": {},
   "source": [
    "It seems german people likes german cars :-)"
   ]
  },
  {
   "cell_type": "markdown",
   "metadata": {},
   "source": [
    "### Histograms of numeric variables"
   ]
  },
  {
   "cell_type": "markdown",
   "metadata": {},
   "source": [
    "The same we did with categorical features has to be done with numerical."
   ]
  },
  {
   "cell_type": "code",
   "execution_count": 19,
   "metadata": {},
   "outputs": [],
   "source": [
    "numericalCols <- c('price', 'yearOfRegistration', 'powerPS', 'kilometer', 'monthOfRegistration')\n",
    "datasetCarsNumerical <- datasetCars[, ..numericalCols]"
   ]
  },
  {
   "cell_type": "markdown",
   "metadata": {},
   "source": [
    "Again, long format for better visualization"
   ]
  },
  {
   "cell_type": "code",
   "execution_count": 20,
   "metadata": {},
   "outputs": [],
   "source": [
    "datasetCarsNumerical <- datasetCarsNumerical %>% gather()"
   ]
  },
  {
   "cell_type": "code",
   "execution_count": 21,
   "metadata": {},
   "outputs": [
    {
     "data": {},
     "metadata": {},
     "output_type": "display_data"
    },
    {
     "data": {
      "image/png": "[encoded data removed]",
      "text/plain": [
       "plot without title"
      ]
     },
     "metadata": {},
     "output_type": "display_data"
    }
   ],
   "source": [
    "ggplot(datasetCarsNumerical, aes(x=value)) +\n",
    "  geom_histogram(bins = 20) +\n",
    "  facet_wrap(~key, scales = 'free') +\n",
    "  theme_light()"
   ]
  },
  {
   "cell_type": "markdown",
   "metadata": {},
   "source": [
    "#### Some comments:\n",
    "* It seems `kilometer` could be transformed to categorical\n",
    "* `monthOfRegistration` = 0?? Quite strange\n",
    "* `powerPS`, `price` and `yearOfRegistration` have some outliers!!"
   ]
  },
  {
   "cell_type": "markdown",
   "metadata": {},
   "source": [
    "Some environment cleaning before moving on. Let's remove some unused objects and variables."
   ]
  },
  {
   "cell_type": "code",
   "execution_count": 22,
   "metadata": {},
   "outputs": [],
   "source": [
    "rm(list = c('categoricalCols', 'datasetCarsCategorical', 'datasetCarsNumerical', 'numericalCols', 'deleteCols', 'filename'))"
   ]
  },
  {
   "cell_type": "markdown",
   "metadata": {},
   "source": [
    "### Cleaning the dataset. Removing NA and invalid cases\n",
    "\n",
    "#### Price"
   ]
  },
  {
   "cell_type": "code",
   "execution_count": 23,
   "metadata": {
    "scrolled": false
   },
   "outputs": [
    {
     "data": {
      "text/html": [
       "'Maximum price in dataset: 2147483647 €'"
      ],
      "text/latex": [
       "'Maximum price in dataset: 2147483647 €'"
      ],
      "text/markdown": [
       "'Maximum price in dataset: 2147483647 €'"
      ],
      "text/plain": [
       "[1] \"Maximum price in dataset: 2147483647 €\""
      ]
     },
     "metadata": {},
     "output_type": "display_data"
    }
   ],
   "source": [
    "paste('Maximum price in dataset:', max(datasetCars$price), '€')"
   ]
  },
  {
   "cell_type": "markdown",
   "metadata": {},
   "source": [
    "It seems the original DeLorean DMC-12 is on sale :-)"
   ]
  },
  {
   "cell_type": "code",
   "execution_count": 24,
   "metadata": {
    "scrolled": true
   },
   "outputs": [
    {
     "data": {
      "text/html": [
       "'Minimum price in dataset: 0 €'"
      ],
      "text/latex": [
       "'Minimum price in dataset: 0 €'"
      ],
      "text/markdown": [
       "'Minimum price in dataset: 0 €'"
      ],
      "text/plain": [
       "[1] \"Minimum price in dataset: 0 €\""
      ]
     },
     "metadata": {},
     "output_type": "display_data"
    }
   ],
   "source": [
    "paste('Minimum price in dataset:', min(datasetCars$price), '€')"
   ]
  },
  {
   "cell_type": "markdown",
   "metadata": {},
   "source": [
    "Free cars?? I don't think so."
   ]
  },
  {
   "cell_type": "markdown",
   "metadata": {},
   "source": [
    "Some prices will be dropped from dataset. We will keep samples with price between 200€ and 100000€"
   ]
  },
  {
   "cell_type": "code",
   "execution_count": 25,
   "metadata": {},
   "outputs": [],
   "source": [
    "datasetCars <- datasetCars[price > 200 & price <= 100000]"
   ]
  },
  {
   "cell_type": "markdown",
   "metadata": {},
   "source": [
    "#### Year of registration"
   ]
  },
  {
   "cell_type": "markdown",
   "metadata": {},
   "source": [
    "Let's do same exercise with `yearOfRegistration`"
   ]
  },
  {
   "cell_type": "code",
   "execution_count": 26,
   "metadata": {
    "scrolled": false
   },
   "outputs": [
    {
     "data": {
      "text/html": [
       "'Maximum year in dataset: 9999'"
      ],
      "text/latex": [
       "'Maximum year in dataset: 9999'"
      ],
      "text/markdown": [
       "'Maximum year in dataset: 9999'"
      ],
      "text/plain": [
       "[1] \"Maximum year in dataset: 9999\""
      ]
     },
     "metadata": {},
     "output_type": "display_data"
    }
   ],
   "source": [
    "paste('Maximum year in dataset:', max(datasetCars$yearOfRegistration))"
   ]
  },
  {
   "cell_type": "code",
   "execution_count": 27,
   "metadata": {
    "scrolled": false
   },
   "outputs": [
    {
     "data": {
      "text/html": [
       "'Minimum year in dataset: 1000'"
      ],
      "text/latex": [
       "'Minimum year in dataset: 1000'"
      ],
      "text/markdown": [
       "'Minimum year in dataset: 1000'"
      ],
      "text/plain": [
       "[1] \"Minimum year in dataset: 1000\""
      ]
     },
     "metadata": {},
     "output_type": "display_data"
    }
   ],
   "source": [
    "paste('Minimum year in dataset:', min(datasetCars$yearOfRegistration))"
   ]
  },
  {
   "cell_type": "markdown",
   "metadata": {},
   "source": [
    "Some years will be dropped from dataset as well. We will keep cars from between 1950 and 2016"
   ]
  },
  {
   "cell_type": "code",
   "execution_count": 28,
   "metadata": {},
   "outputs": [],
   "source": [
    "datasetCars <- datasetCars[yearOfRegistration > 1950 & yearOfRegistration < 2017]"
   ]
  },
  {
   "cell_type": "markdown",
   "metadata": {},
   "source": [
    "#### Kilometer"
   ]
  },
  {
   "cell_type": "markdown",
   "metadata": {},
   "source": [
    "With `kilometer` too."
   ]
  },
  {
   "cell_type": "code",
   "execution_count": 29,
   "metadata": {
    "scrolled": false
   },
   "outputs": [
    {
     "data": {
      "text/html": [
       "'Maximum kilometer in dataset: 150000 Kms'"
      ],
      "text/latex": [
       "'Maximum kilometer in dataset: 150000 Kms'"
      ],
      "text/markdown": [
       "'Maximum kilometer in dataset: 150000 Kms'"
      ],
      "text/plain": [
       "[1] \"Maximum kilometer in dataset: 150000 Kms\""
      ]
     },
     "metadata": {},
     "output_type": "display_data"
    }
   ],
   "source": [
    "paste('Maximum kilometer in dataset:', max(datasetCars$kilometer), 'Kms')"
   ]
  },
  {
   "cell_type": "code",
   "execution_count": 30,
   "metadata": {
    "scrolled": false
   },
   "outputs": [
    {
     "data": {
      "text/html": [
       "'Minimum kilometer in dataset: 5000 Kms'"
      ],
      "text/latex": [
       "'Minimum kilometer in dataset: 5000 Kms'"
      ],
      "text/markdown": [
       "'Minimum kilometer in dataset: 5000 Kms'"
      ],
      "text/plain": [
       "[1] \"Minimum kilometer in dataset: 5000 Kms\""
      ]
     },
     "metadata": {},
     "output_type": "display_data"
    }
   ],
   "source": [
    "paste('Minimum kilometer in dataset:', min(datasetCars$kilometer), 'Kms')"
   ]
  },
  {
   "cell_type": "markdown",
   "metadata": {},
   "source": [
    "Nothing strange here, but kilometer seems to be categorical, could refactor just in case we need it in modeling phase."
   ]
  },
  {
   "cell_type": "code",
   "execution_count": 31,
   "metadata": {},
   "outputs": [
    {
     "data": {},
     "metadata": {},
     "output_type": "display_data"
    }
   ],
   "source": [
    "datasetCars[, kilometerCategorical := cut(x = kilometer,\n",
    "                                          breaks = c(0, 50000, 100000, 150000),\n",
    "                                          labels = c('km<50000', '50000>km<100000', 'km>100000'))]"
   ]
  },
  {
   "cell_type": "markdown",
   "metadata": {},
   "source": [
    "#### Power PS"
   ]
  },
  {
   "cell_type": "markdown",
   "metadata": {},
   "source": [
    "And `powerPS`"
   ]
  },
  {
   "cell_type": "code",
   "execution_count": 32,
   "metadata": {
    "scrolled": false
   },
   "outputs": [
    {
     "data": {
      "text/html": [
       "'Maximum Power PS in dataset: 20000 PS'"
      ],
      "text/latex": [
       "'Maximum Power PS in dataset: 20000 PS'"
      ],
      "text/markdown": [
       "'Maximum Power PS in dataset: 20000 PS'"
      ],
      "text/plain": [
       "[1] \"Maximum Power PS in dataset: 20000 PS\""
      ]
     },
     "metadata": {},
     "output_type": "display_data"
    }
   ],
   "source": [
    "paste('Maximum Power PS in dataset:', max(datasetCars$powerPS), 'PS')"
   ]
  },
  {
   "cell_type": "code",
   "execution_count": 33,
   "metadata": {
    "scrolled": false
   },
   "outputs": [
    {
     "data": {
      "text/html": [
       "'Minimum Power PS in dataset: 0 PS'"
      ],
      "text/latex": [
       "'Minimum Power PS in dataset: 0 PS'"
      ],
      "text/markdown": [
       "'Minimum Power PS in dataset: 0 PS'"
      ],
      "text/plain": [
       "[1] \"Minimum Power PS in dataset: 0 PS\""
      ]
     },
     "metadata": {},
     "output_type": "display_data"
    }
   ],
   "source": [
    "paste('Minimum Power PS in dataset:', min(datasetCars$powerPS), 'PS')"
   ]
  },
  {
   "cell_type": "markdown",
   "metadata": {},
   "source": [
    "Some powerPS values will be dropped from dataset. We will keep values > 0 and <= 400"
   ]
  },
  {
   "cell_type": "code",
   "execution_count": 34,
   "metadata": {},
   "outputs": [],
   "source": [
    "datasetCars <- datasetCars[powerPS > 0 & powerPS <= 400]"
   ]
  },
  {
   "cell_type": "markdown",
   "metadata": {},
   "source": [
    "#### Not repaired damage"
   ]
  },
  {
   "cell_type": "markdown",
   "metadata": {},
   "source": [
    "We have to recode this feature. NA values will be converted to 'nein'"
   ]
  },
  {
   "cell_type": "code",
   "execution_count": 35,
   "metadata": {},
   "outputs": [
    {
     "data": {},
     "metadata": {},
     "output_type": "display_data"
    }
   ],
   "source": [
    "datasetCars[is.na(notRepairedDamage), notRepairedDamage := 'nein']"
   ]
  },
  {
   "cell_type": "markdown",
   "metadata": {},
   "source": [
    "#### Offer type\n",
    "We are not interested in auctions, only in direct sales"
   ]
  },
  {
   "cell_type": "code",
   "execution_count": 36,
   "metadata": {},
   "outputs": [],
   "source": [
    "datasetCars <- datasetCars[offerType != 'Gesuch']"
   ]
  },
  {
   "cell_type": "markdown",
   "metadata": {},
   "source": [
    "#### Seller\n",
    "We only want privat sellers"
   ]
  },
  {
   "cell_type": "code",
   "execution_count": 37,
   "metadata": {},
   "outputs": [],
   "source": [
    "datasetCars <- datasetCars[seller == 'privat']"
   ]
  },
  {
   "cell_type": "markdown",
   "metadata": {},
   "source": [
    "#### Model\n",
    "Removing model 'andere' = 'other'. No added info provided by this feature."
   ]
  },
  {
   "cell_type": "code",
   "execution_count": 38,
   "metadata": {},
   "outputs": [],
   "source": [
    "datasetCars <- datasetCars[model != 'andere']"
   ]
  },
  {
   "cell_type": "markdown",
   "metadata": {},
   "source": [
    "#### Fuel type\n",
    "Removing Fuel type 'andere' = 'other'"
   ]
  },
  {
   "cell_type": "code",
   "execution_count": 39,
   "metadata": {},
   "outputs": [],
   "source": [
    "datasetCars <- datasetCars[fuelType != 'andere']"
   ]
  },
  {
   "cell_type": "markdown",
   "metadata": {},
   "source": [
    "####  Vehicle type\n",
    "Removing Vehicle type 'andere' = 'other'"
   ]
  },
  {
   "cell_type": "code",
   "execution_count": 40,
   "metadata": {},
   "outputs": [],
   "source": [
    "datasetCars <- datasetCars[vehicleType != 'andere']"
   ]
  },
  {
   "cell_type": "markdown",
   "metadata": {},
   "source": [
    "### Final dataset\n",
    "\n",
    "#### Brand and Model\n",
    "Removing samples with empty values and unused features"
   ]
  },
  {
   "cell_type": "code",
   "execution_count": 41,
   "metadata": {},
   "outputs": [],
   "source": [
    "datasetCarsFinal <- datasetCars[!is.na(vehicleType) &\n",
    "                                    !is.na(gearbox) &\n",
    "                                    !is.na(fuelType) &\n",
    "                                    !is.na(brand) &\n",
    "                                    !is.na(model) &\n",
    "                                    !is.na(notRepairedDamage),\n",
    "                                  c('price', 'vehicleType', 'yearOfRegistration',\n",
    "                                    'gearbox', 'powerPS','kilometerCategorical', \n",
    "                                    'fuelType', 'brand', 'model', 'notRepairedDamage',\n",
    "                                    'postalCode', 'kilometer')]"
   ]
  },
  {
   "cell_type": "markdown",
   "metadata": {},
   "source": [
    "We decide to concatenate `brand` and `model` features because it will be better for modeling. Doesn't make sense these kind of combinations: {'brand': 'Mercedes-Benz', 'model': 'A4'} or {'brand': 'Seat', 'model': 'Mégane'}, so it's better to train the model with real combinations of `brand` and `model`."
   ]
  },
  {
   "cell_type": "code",
   "execution_count": 42,
   "metadata": {},
   "outputs": [
    {
     "data": {},
     "metadata": {},
     "output_type": "display_data"
    }
   ],
   "source": [
    "datasetCarsFinal[, brandModel := paste(brand, model, sep = ' ')]"
   ]
  },
  {
   "cell_type": "markdown",
   "metadata": {},
   "source": [
    "#### Vehicle type cleaning\n",
    "'bus' is a vehicle type that could be wrong for some models. To correct it we create a helper table with typical vehicle type per Brand and model. For all 'bus' samples we check if bus is the typical vehicle type for the model. If not, we change the type."
   ]
  },
  {
   "cell_type": "code",
   "execution_count": 43,
   "metadata": {},
   "outputs": [],
   "source": [
    "modelTypeTypical <- datasetCarsFinal[, .(N = .N), by = .(brandModel, vehicleType)] %>% \n",
    "  .[order(brandModel, -N)] %>% \n",
    "  .[, .SD[1], by = brandModel] %>% \n",
    "  .[, c('brandModel', 'vehicleType')]\n",
    "\n",
    "colnames(modelTypeTypical) <- c('brandModel', 'vehicleTypeTypical')\n",
    "\n",
    "datasetCarsFinal <- modelTypeTypical[datasetCarsFinal, on = 'brandModel']\n",
    "\n",
    "datasetCarsFinal <- datasetCarsFinal[, vehicleType := case_when(vehicleType == 'bus' ~ vehicleTypeTypical,\n",
    "                                                                TRUE ~ vehicleType)]\n",
    "datasetCarsFinal$vehicleTypeTypical <- NULL"
   ]
  },
  {
   "cell_type": "markdown",
   "metadata": {},
   "source": [
    "#### Postal code\n",
    "Using table of correspondences postalCode -> Land we will reduce the geographical complexity of the model."
   ]
  },
  {
   "cell_type": "code",
   "execution_count": 44,
   "metadata": {},
   "outputs": [],
   "source": [
    "zipcodes <- fread(input = '../data/zipcodes_de_completo.csv',\n",
    "                  select = c('zipcode', 'state', 'community'),\n",
    "                  colClasses = c(rep('character', 11)))\n",
    "zipcodes <- zipcodes[!duplicated(zipcodes)]\n",
    "colnames(zipcodes)[1] <- 'postalCode'\n",
    "datasetCarsFinal <- zipcodes[datasetCarsFinal, on = 'postalCode']\n",
    "datasetCarsFinal <- datasetCarsFinal[!is.na(datasetCarsFinal$state),]"
   ]
  },
  {
   "cell_type": "markdown",
   "metadata": {},
   "source": [
    "Now, every postal code has an associated länder."
   ]
  },
  {
   "cell_type": "code",
   "execution_count": 45,
   "metadata": {
    "scrolled": true
   },
   "outputs": [
    {
     "data": {
      "text/html": [
       "<table>\n",
       "<thead><tr><th scope=col>postalCode</th><th scope=col>state</th><th scope=col>community</th><th scope=col>brandModel</th><th scope=col>price</th><th scope=col>vehicleType</th><th scope=col>yearOfRegistration</th><th scope=col>gearbox</th><th scope=col>powerPS</th><th scope=col>kilometerCategorical</th><th scope=col>fuelType</th><th scope=col>brand</th><th scope=col>model</th><th scope=col>notRepairedDamage</th><th scope=col>kilometer</th></tr></thead>\n",
       "<tbody>\n",
       "\t<tr><td>90480                                                               </td><td><span style=white-space:pre-wrap>Bayern             </span>         </td><td><span style=white-space:pre-wrap>Nürnberg                    </span></td><td><span style=white-space:pre-wrap>jeep grand     </span>             </td><td> 9800                                                               </td><td><span style=white-space:pre-wrap>suv       </span>                  </td><td>2004                                                                </td><td>automatik                                                           </td><td>163                                                                 </td><td><span style=white-space:pre-wrap>km&gt;100000      </span>          </td><td>diesel                                                              </td><td><span style=white-space:pre-wrap>jeep      </span>                  </td><td><span style=white-space:pre-wrap>grand  </span>                     </td><td>nein                                                                </td><td>125000                                                              </td></tr>\n",
       "\t<tr><td>91074                                                      </td><td><span style=white-space:pre-wrap>Bayern             </span></td><td>Landkreis Erlangen-Höchstadt                               </td><td>volkswagen golf                                            </td><td> 1500                                                      </td><td>kleinwagen                                                 </td><td>2001                                                       </td><td><span style=white-space:pre-wrap>manuell  </span>          </td><td> 75                                                        </td><td><span style=white-space:pre-wrap>km&gt;100000      </span> </td><td>benzin                                                     </td><td>volkswagen                                                 </td><td><span style=white-space:pre-wrap>golf   </span>            </td><td>nein                                                       </td><td>150000                                                     </td></tr>\n",
       "\t<tr><td>60437                                                               </td><td><span style=white-space:pre-wrap>Hessen             </span>         </td><td><span style=white-space:pre-wrap>Frankfurt am Main, Stadt    </span></td><td><span style=white-space:pre-wrap>skoda fabia    </span>             </td><td> 3600                                                               </td><td>kleinwagen                                                          </td><td>2008                                                                </td><td><span style=white-space:pre-wrap>manuell  </span>                   </td><td> 69                                                                 </td><td>50000&gt;km&lt;100000                                               </td><td>diesel                                                              </td><td><span style=white-space:pre-wrap>skoda     </span>                  </td><td><span style=white-space:pre-wrap>fabia  </span>                     </td><td>nein                                                                </td><td> 90000                                                              </td></tr>\n",
       "\t<tr><td>33775                                                               </td><td>Nordrhein-Westfalen                                                 </td><td><span style=white-space:pre-wrap>Gütersloh                   </span></td><td><span style=white-space:pre-wrap>bmw 3er        </span>             </td><td><span style=white-space:pre-wrap>  650</span>                       </td><td>limousine                                                           </td><td>1995                                                                </td><td><span style=white-space:pre-wrap>manuell  </span>                   </td><td>102                                                                 </td><td><span style=white-space:pre-wrap>km&gt;100000      </span>          </td><td>benzin                                                              </td><td><span style=white-space:pre-wrap>bmw       </span>                  </td><td><span style=white-space:pre-wrap>3er    </span>                     </td><td><span style=white-space:pre-wrap>ja  </span>                        </td><td>150000                                                              </td></tr>\n",
       "\t<tr><td>67112                                                               </td><td><span style=white-space:pre-wrap>Rheinland-Pfalz    </span>         </td><td><span style=white-space:pre-wrap>Rhein-Pfalz-Kreis           </span></td><td>peugeot 2_reihe                                                     </td><td> 2200                                                               </td><td><span style=white-space:pre-wrap>cabrio    </span>                  </td><td>2004                                                                </td><td><span style=white-space:pre-wrap>manuell  </span>                   </td><td>109                                                                 </td><td><span style=white-space:pre-wrap>km&gt;100000      </span>          </td><td>benzin                                                              </td><td><span style=white-space:pre-wrap>peugeot   </span>                  </td><td>2_reihe                                                             </td><td>nein                                                                </td><td>150000                                                              </td></tr>\n",
       "\t<tr><td>94505                                                               </td><td><span style=white-space:pre-wrap>Bayern             </span>         </td><td><span style=white-space:pre-wrap>Landkreis Deggendorf        </span></td><td><span style=white-space:pre-wrap>ford c_max     </span>             </td><td>14500                                                               </td><td><span style=white-space:pre-wrap>bus       </span>                  </td><td>2014                                                                </td><td><span style=white-space:pre-wrap>manuell  </span>                   </td><td>125                                                                 </td><td><span style=white-space:pre-wrap>km&lt;50000       </span>          </td><td>benzin                                                              </td><td><span style=white-space:pre-wrap>ford      </span>                  </td><td><span style=white-space:pre-wrap>c_max  </span>                     </td><td>nein                                                                </td><td> 30000                                                              </td></tr>\n",
       "</tbody>\n",
       "</table>\n"
      ],
      "text/latex": [
       "\\begin{tabular}{r|lllllllllllllll}\n",
       " postalCode & state & community & brandModel & price & vehicleType & yearOfRegistration & gearbox & powerPS & kilometerCategorical & fuelType & brand & model & notRepairedDamage & kilometer\\\\\n",
       "\\hline\n",
       "\t 90480                        & Bayern                       & Nürnberg                     & jeep grand                   &  9800                        & suv                          & 2004                         & automatik                    & 163                          & km>100000                    & diesel                       & jeep                         & grand                        & nein                         & 125000                      \\\\\n",
       "\t 91074                        & Bayern                       & Landkreis Erlangen-Höchstadt & volkswagen golf              &  1500                        & kleinwagen                   & 2001                         & manuell                      &  75                          & km>100000                    & benzin                       & volkswagen                   & golf                         & nein                         & 150000                      \\\\\n",
       "\t 60437                        & Hessen                       & Frankfurt am Main, Stadt     & skoda fabia                  &  3600                        & kleinwagen                   & 2008                         & manuell                      &  69                          & 50000>km<100000              & diesel                       & skoda                        & fabia                        & nein                         &  90000                      \\\\\n",
       "\t 33775                        & Nordrhein-Westfalen          & Gütersloh                    & bmw 3er                      &   650                        & limousine                    & 1995                         & manuell                      & 102                          & km>100000                    & benzin                       & bmw                          & 3er                          & ja                           & 150000                      \\\\\n",
       "\t 67112                        & Rheinland-Pfalz              & Rhein-Pfalz-Kreis            & peugeot 2\\_reihe            &  2200                        & cabrio                       & 2004                         & manuell                      & 109                          & km>100000                    & benzin                       & peugeot                      & 2\\_reihe                    & nein                         & 150000                      \\\\\n",
       "\t 94505                        & Bayern                       & Landkreis Deggendorf         & ford c\\_max                 & 14500                        & bus                          & 2014                         & manuell                      & 125                          & km<50000                     & benzin                       & ford                         & c\\_max                      & nein                         &  30000                      \\\\\n",
       "\\end{tabular}\n"
      ],
      "text/markdown": [
       "\n",
       "postalCode | state | community | brandModel | price | vehicleType | yearOfRegistration | gearbox | powerPS | kilometerCategorical | fuelType | brand | model | notRepairedDamage | kilometer | \n",
       "|---|---|---|---|---|---|\n",
       "| 90480                        | Bayern                       | Nürnberg                     | jeep grand                   |  9800                        | suv                          | 2004                         | automatik                    | 163                          | km>100000                    | diesel                       | jeep                         | grand                        | nein                         | 125000                       | \n",
       "| 91074                        | Bayern                       | Landkreis Erlangen-Höchstadt | volkswagen golf              |  1500                        | kleinwagen                   | 2001                         | manuell                      |  75                          | km>100000                    | benzin                       | volkswagen                   | golf                         | nein                         | 150000                       | \n",
       "| 60437                        | Hessen                       | Frankfurt am Main, Stadt     | skoda fabia                  |  3600                        | kleinwagen                   | 2008                         | manuell                      |  69                          | 50000>km<100000              | diesel                       | skoda                        | fabia                        | nein                         |  90000                       | \n",
       "| 33775                        | Nordrhein-Westfalen          | Gütersloh                    | bmw 3er                      |   650                        | limousine                    | 1995                         | manuell                      | 102                          | km>100000                    | benzin                       | bmw                          | 3er                          | ja                           | 150000                       | \n",
       "| 67112                        | Rheinland-Pfalz              | Rhein-Pfalz-Kreis            | peugeot 2_reihe              |  2200                        | cabrio                       | 2004                         | manuell                      | 109                          | km>100000                    | benzin                       | peugeot                      | 2_reihe                      | nein                         | 150000                       | \n",
       "| 94505                        | Bayern                       | Landkreis Deggendorf         | ford c_max                   | 14500                        | bus                          | 2014                         | manuell                      | 125                          | km<50000                     | benzin                       | ford                         | c_max                        | nein                         |  30000                       | \n",
       "\n",
       "\n"
      ],
      "text/plain": [
       "  postalCode state               community                    brandModel     \n",
       "1 90480      Bayern              Nürnberg                     jeep grand     \n",
       "2 91074      Bayern              Landkreis Erlangen-Höchstadt volkswagen golf\n",
       "3 60437      Hessen              Frankfurt am Main, Stadt     skoda fabia    \n",
       "4 33775      Nordrhein-Westfalen Gütersloh                    bmw 3er        \n",
       "5 67112      Rheinland-Pfalz     Rhein-Pfalz-Kreis            peugeot 2_reihe\n",
       "6 94505      Bayern              Landkreis Deggendorf         ford c_max     \n",
       "  price vehicleType yearOfRegistration gearbox   powerPS kilometerCategorical\n",
       "1  9800 suv         2004               automatik 163     km>100000           \n",
       "2  1500 kleinwagen  2001               manuell    75     km>100000           \n",
       "3  3600 kleinwagen  2008               manuell    69     50000>km<100000     \n",
       "4   650 limousine   1995               manuell   102     km>100000           \n",
       "5  2200 cabrio      2004               manuell   109     km>100000           \n",
       "6 14500 bus         2014               manuell   125     km<50000            \n",
       "  fuelType brand      model   notRepairedDamage kilometer\n",
       "1 diesel   jeep       grand   nein              125000   \n",
       "2 benzin   volkswagen golf    nein              150000   \n",
       "3 diesel   skoda      fabia   nein               90000   \n",
       "4 benzin   bmw        3er     ja                150000   \n",
       "5 benzin   peugeot    2_reihe nein              150000   \n",
       "6 benzin   ford       c_max   nein               30000   "
      ]
     },
     "metadata": {},
     "output_type": "display_data"
    }
   ],
   "source": [
    "head(datasetCarsFinal)"
   ]
  },
  {
   "cell_type": "markdown",
   "metadata": {},
   "source": [
    "### Last look to numerical features"
   ]
  },
  {
   "cell_type": "markdown",
   "metadata": {},
   "source": [
    "Previous saving data, let's have a look of the distributions of numerical variables after the cleaning process."
   ]
  },
  {
   "cell_type": "code",
   "execution_count": 46,
   "metadata": {},
   "outputs": [],
   "source": [
    "numericalCols <- c('price', 'yearOfRegistration', 'powerPS')\n",
    "datasetCarsNumerical <- datasetCarsFinal[, ..numericalCols]\n",
    "datasetCarsNumerical <- datasetCarsNumerical %>% gather()"
   ]
  },
  {
   "cell_type": "code",
   "execution_count": 47,
   "metadata": {},
   "outputs": [
    {
     "data": {},
     "metadata": {},
     "output_type": "display_data"
    },
    {
     "data": {
      "image/png": "[encoded data removed]",
      "text/plain": [
       "plot without title"
      ]
     },
     "metadata": {},
     "output_type": "display_data"
    }
   ],
   "source": [
    "ggplot(datasetCarsNumerical, aes(x=value)) +\n",
    "  geom_histogram(bins = 20) +\n",
    "  facet_wrap(~key, scales = 'free') +\n",
    "  theme_light()"
   ]
  },
  {
   "cell_type": "markdown",
   "metadata": {},
   "source": [
    "Disttributions look now much better."
   ]
  },
  {
   "cell_type": "markdown",
   "metadata": {},
   "source": [
    "### Last look to categorical features\n",
    "Convert character variables to factor class."
   ]
  },
  {
   "cell_type": "code",
   "execution_count": 48,
   "metadata": {},
   "outputs": [
    {
     "data": {},
     "metadata": {},
     "output_type": "display_data"
    }
   ],
   "source": [
    "charToFactor <- c('postalCode', 'state', 'brand', 'model', 'brandModel')\n",
    "datasetCarsFinal[, (charToFactor) := lapply(.SD, as.factor), .SDcols = charToFactor]"
   ]
  },
  {
   "cell_type": "markdown",
   "metadata": {},
   "source": [
    "### Columns in correct order"
   ]
  },
  {
   "cell_type": "code",
   "execution_count": 49,
   "metadata": {},
   "outputs": [],
   "source": [
    "datasetCarsFinal <- datasetCarsFinal[, c('postalCode', 'state', 'brand', 'model','brandModel', 'vehicleType', \n",
    "                                         'gearbox', 'fuelType', 'notRepairedDamage', 'kilometerCategorical',\n",
    "                                         'kilometer','powerPS', 'yearOfRegistration', 'price')]"
   ]
  },
  {
   "cell_type": "markdown",
   "metadata": {},
   "source": [
    "### Saving data\n",
    "R Objects and csv file for modeling with Python."
   ]
  },
  {
   "cell_type": "code",
   "execution_count": 50,
   "metadata": {},
   "outputs": [],
   "source": [
    "save(datasetCars, file = '../data/datasetCars')\n",
    "save(datasetCarsFinal, file = '../data/datasetCarsFinal')\n",
    "\n",
    "fwrite(datasetCarsFinal, file = '../data/autosFinal.csv', row.names = F)"
   ]
  },
  {
   "cell_type": "markdown",
   "metadata": {},
   "source": [
    "Cleaning of environment"
   ]
  },
  {
   "cell_type": "code",
   "execution_count": 51,
   "metadata": {},
   "outputs": [],
   "source": [
    "rm(list = ls())"
   ]
  },
  {
   "cell_type": "markdown",
   "metadata": {},
   "source": [
    "## This part is finished. Let's go visualize some data!"
   ]
  }
 ],
 "metadata": {
  "kernelspec": {
   "display_name": "R",
   "language": "R",
   "name": "ir"
  },
  "language_info": {
   "codemirror_mode": "r",
   "file_extension": ".r",
   "mimetype": "text/x-r-source",
   "name": "R",
   "pygments_lexer": "r",
   "version": "3.4.4"
  }
 },
 "nbformat": 4,
 "nbformat_minor": 2
}
