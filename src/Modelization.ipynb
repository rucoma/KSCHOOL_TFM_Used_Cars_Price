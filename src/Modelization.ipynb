{
 "cells": [
  {
   "cell_type": "markdown",
   "metadata": {},
   "source": [
    "# Modelization\n"
   ]
  },
  {
   "cell_type": "markdown",
   "metadata": {},
   "source": [
    "### Importing libraries"
   ]
  },
  {
   "cell_type": "code",
   "execution_count": 137,
   "metadata": {},
   "outputs": [],
   "source": [
    "import pandas as pd\n",
    "pd.set_option(\"max_columns\", 50)\n",
    "import numpy as np\n",
    "import matplotlib.pyplot as plt\n",
    "from scipy import stats\n",
    "from sklearn import tree\n",
    "from sklearn import neighbors\n",
    "from sklearn.ensemble import RandomForestRegressor\n",
    "from sklearn.ensemble import GradientBoostingRegressor\n",
    "from sklearn.model_selection import GridSearchCV, train_test_split\n",
    "from sklearn.preprocessing import LabelEncoder\n",
    "from sklearn.datasets import make_classification\n",
    "from collections import OrderedDict, defaultdict\n",
    "from sklearn.externals import joblib\n",
    "from sklearn.metrics import r2_score, mean_squared_error"
   ]
  },
  {
   "cell_type": "markdown",
   "metadata": {},
   "source": [
    "### Reading clean dataset\n"
   ]
  },
  {
   "cell_type": "code",
   "execution_count": 138,
   "metadata": {},
   "outputs": [],
   "source": [
    "datasetCarsFinal = pd.read_csv('../data/autosFinal.csv',\n",
    "                               usecols=[\n",
    "                                      #'brand', \n",
    "                                      #'model', \n",
    "                                      'brandModel',\n",
    "                                      'vehicleType', \n",
    "                                      'gearbox', \n",
    "                                      'yearOfRegistration',\n",
    "                                      'fuelType',\n",
    "                                      'powerPS',\n",
    "                                      #'kilometer',\n",
    "                                      'kilometerCategorical',\n",
    "                                      #'kilometer000',\n",
    "                                      'notRepairedDamage',\n",
    "                                      #'postalCode',\n",
    "                                      'state',\n",
    "                                      #'community',\n",
    "                                      'price'\n",
    "                                      ],\n",
    "                               dtype={\n",
    "                                      #'brand': 'str', \n",
    "                                      #'model': 'str', \n",
    "                                      'brandModel': 'str', \n",
    "                                      'vehicleType': 'str', \n",
    "                                      'gearbox': 'str', \n",
    "                                      'yearOfRegistration': np.int64,\n",
    "                                      'fuelType': 'str',\n",
    "                                      'powerPS': np.int64,\n",
    "                                      #'kilometer': np.int64,\n",
    "                                      'kilometerCategorical': 'str',\n",
    "                                      #'kilometer000': np.int64,\n",
    "                                      'notRepairedDamage': 'str',\n",
    "                                      #'postalCode': 'str',\n",
    "                                      'state': 'str',\n",
    "                                      #'community':'str',\n",
    "                                      'price': np.int64\n",
    "                                      })"
   ]
  },
  {
   "cell_type": "code",
   "execution_count": 139,
   "metadata": {},
   "outputs": [
    {
     "data": {
      "text/plain": [
       "Index(['state', 'price', 'vehicleType', 'yearOfRegistration', 'gearbox',\n",
       "       'powerPS', 'kilometerCategorical', 'fuelType', 'notRepairedDamage',\n",
       "       'brandModel'],\n",
       "      dtype='object')"
      ]
     },
     "execution_count": 139,
     "metadata": {},
     "output_type": "execute_result"
    }
   ],
   "source": [
    "datasetCarsFinal.columns"
   ]
  },
  {
   "cell_type": "code",
   "execution_count": 140,
   "metadata": {
    "scrolled": true
   },
   "outputs": [
    {
     "data": {
      "text/html": [
       "<div>\n",
       "<style scoped>\n",
       "    .dataframe tbody tr th:only-of-type {\n",
       "        vertical-align: middle;\n",
       "    }\n",
       "\n",
       "    .dataframe tbody tr th {\n",
       "        vertical-align: top;\n",
       "    }\n",
       "\n",
       "    .dataframe thead th {\n",
       "        text-align: right;\n",
       "    }\n",
       "</style>\n",
       "<table border=\"1\" class=\"dataframe\">\n",
       "  <thead>\n",
       "    <tr style=\"text-align: right;\">\n",
       "      <th></th>\n",
       "      <th>state</th>\n",
       "      <th>price</th>\n",
       "      <th>vehicleType</th>\n",
       "      <th>yearOfRegistration</th>\n",
       "      <th>gearbox</th>\n",
       "      <th>powerPS</th>\n",
       "      <th>kilometerCategorical</th>\n",
       "      <th>fuelType</th>\n",
       "      <th>notRepairedDamage</th>\n",
       "      <th>brandModel</th>\n",
       "    </tr>\n",
       "  </thead>\n",
       "  <tbody>\n",
       "    <tr>\n",
       "      <th>0</th>\n",
       "      <td>Bayern</td>\n",
       "      <td>9800</td>\n",
       "      <td>suv</td>\n",
       "      <td>2004</td>\n",
       "      <td>automatik</td>\n",
       "      <td>163</td>\n",
       "      <td>km&gt;100000</td>\n",
       "      <td>diesel</td>\n",
       "      <td>nein</td>\n",
       "      <td>jeep grand</td>\n",
       "    </tr>\n",
       "    <tr>\n",
       "      <th>1</th>\n",
       "      <td>Bayern</td>\n",
       "      <td>1500</td>\n",
       "      <td>kleinwagen</td>\n",
       "      <td>2001</td>\n",
       "      <td>manuell</td>\n",
       "      <td>75</td>\n",
       "      <td>km&gt;100000</td>\n",
       "      <td>benzin</td>\n",
       "      <td>nein</td>\n",
       "      <td>volkswagen golf</td>\n",
       "    </tr>\n",
       "    <tr>\n",
       "      <th>2</th>\n",
       "      <td>Hessen</td>\n",
       "      <td>3600</td>\n",
       "      <td>kleinwagen</td>\n",
       "      <td>2008</td>\n",
       "      <td>manuell</td>\n",
       "      <td>69</td>\n",
       "      <td>50000&gt;km&lt;100000</td>\n",
       "      <td>diesel</td>\n",
       "      <td>nein</td>\n",
       "      <td>skoda fabia</td>\n",
       "    </tr>\n",
       "    <tr>\n",
       "      <th>3</th>\n",
       "      <td>Nordrhein-Westfalen</td>\n",
       "      <td>650</td>\n",
       "      <td>limousine</td>\n",
       "      <td>1995</td>\n",
       "      <td>manuell</td>\n",
       "      <td>102</td>\n",
       "      <td>km&gt;100000</td>\n",
       "      <td>benzin</td>\n",
       "      <td>ja</td>\n",
       "      <td>bmw 3er</td>\n",
       "    </tr>\n",
       "    <tr>\n",
       "      <th>4</th>\n",
       "      <td>Rheinland-Pfalz</td>\n",
       "      <td>2200</td>\n",
       "      <td>cabrio</td>\n",
       "      <td>2004</td>\n",
       "      <td>manuell</td>\n",
       "      <td>109</td>\n",
       "      <td>km&gt;100000</td>\n",
       "      <td>benzin</td>\n",
       "      <td>nein</td>\n",
       "      <td>peugeot 2_reihe</td>\n",
       "    </tr>\n",
       "  </tbody>\n",
       "</table>\n",
       "</div>"
      ],
      "text/plain": [
       "                 state  price vehicleType  yearOfRegistration    gearbox  \\\n",
       "0               Bayern   9800         suv                2004  automatik   \n",
       "1               Bayern   1500  kleinwagen                2001    manuell   \n",
       "2               Hessen   3600  kleinwagen                2008    manuell   \n",
       "3  Nordrhein-Westfalen    650   limousine                1995    manuell   \n",
       "4      Rheinland-Pfalz   2200      cabrio                2004    manuell   \n",
       "\n",
       "   powerPS kilometerCategorical fuelType notRepairedDamage       brandModel  \n",
       "0      163            km>100000   diesel              nein       jeep grand  \n",
       "1       75            km>100000   benzin              nein  volkswagen golf  \n",
       "2       69      50000>km<100000   diesel              nein      skoda fabia  \n",
       "3      102            km>100000   benzin                ja          bmw 3er  \n",
       "4      109            km>100000   benzin              nein  peugeot 2_reihe  "
      ]
     },
     "execution_count": 140,
     "metadata": {},
     "output_type": "execute_result"
    }
   ],
   "source": [
    "datasetCarsFinal.head()"
   ]
  },
  {
   "cell_type": "markdown",
   "metadata": {},
   "source": [
    "***"
   ]
  },
  {
   "cell_type": "markdown",
   "metadata": {},
   "source": [
    "## Data setup\n",
    "### Splitting dataset into target, and numerical and categorical predictors\n",
    "This is necessary in order to use LabelEncoder"
   ]
  },
  {
   "cell_type": "code",
   "execution_count": 141,
   "metadata": {},
   "outputs": [],
   "source": [
    "target = datasetCarsFinal['price']\n",
    "numerical = datasetCarsFinal[['yearOfRegistration', 'powerPS']]\n",
    "categorical = datasetCarsFinal.drop(['yearOfRegistration', 'powerPS', 'price'], axis=1)"
   ]
  },
  {
   "cell_type": "markdown",
   "metadata": {},
   "source": [
    "Now, we can apply Label encoder to each categorical column and rejoin columns in a new data frame"
   ]
  },
  {
   "cell_type": "code",
   "execution_count": 142,
   "metadata": {},
   "outputs": [],
   "source": [
    "d = defaultdict(LabelEncoder)\n",
    "categorical_encoded = categorical.apply(lambda x: d[x.name].fit_transform(x))\n",
    "datasetCarsFinalConcat = pd.concat([categorical_encoded, numerical], axis=1)"
   ]
  },
  {
   "cell_type": "markdown",
   "metadata": {},
   "source": [
    "For later use, we will save label encoding using joblib"
   ]
  },
  {
   "cell_type": "code",
   "execution_count": 143,
   "metadata": {},
   "outputs": [
    {
     "data": {
      "text/plain": [
       "['../output/carsLabelEncoder.pkl']"
      ]
     },
     "execution_count": 143,
     "metadata": {},
     "output_type": "execute_result"
    }
   ],
   "source": [
    "joblib.dump(d, '../output/carsLabelEncoder.pkl')"
   ]
  },
  {
   "cell_type": "markdown",
   "metadata": {},
   "source": [
    "### Create train and test datasets"
   ]
  },
  {
   "cell_type": "code",
   "execution_count": 144,
   "metadata": {},
   "outputs": [],
   "source": [
    "np.random.seed(42)\n",
    "train, test = train_test_split(datasetCarsFinalConcat.index, test_size = 0.2)\n",
    "\n",
    "X_train = datasetCarsFinalConcat.loc[train]\n",
    "y_train = target.loc[train]\n",
    "\n",
    "X_test = datasetCarsFinalConcat.loc[test]\n",
    "y_test = target.loc[test]"
   ]
  },
  {
   "cell_type": "code",
   "execution_count": 145,
   "metadata": {},
   "outputs": [
    {
     "data": {
      "text/plain": [
       "((205724, 9), (205724,))"
      ]
     },
     "execution_count": 145,
     "metadata": {},
     "output_type": "execute_result"
    }
   ],
   "source": [
    "X_train.shape, y_train.shape "
   ]
  },
  {
   "cell_type": "code",
   "execution_count": 146,
   "metadata": {},
   "outputs": [
    {
     "data": {
      "text/plain": [
       "((51431, 9), (51431,))"
      ]
     },
     "execution_count": 146,
     "metadata": {},
     "output_type": "execute_result"
    }
   ],
   "source": [
    "X_test.shape, y_test.shape"
   ]
  },
  {
   "cell_type": "markdown",
   "metadata": {},
   "source": [
    "Now, data is ready to modelization process"
   ]
  },
  {
   "cell_type": "markdown",
   "metadata": {},
   "source": [
    "***"
   ]
  },
  {
   "cell_type": "markdown",
   "metadata": {},
   "source": [
    "## Decision Trees\n",
    "Our first try will be Decision Trees algorithm:"
   ]
  },
  {
   "cell_type": "code",
   "execution_count": 147,
   "metadata": {},
   "outputs": [],
   "source": [
    "regrDT = tree.DecisionTreeRegressor().fit(X_train, y_train)"
   ]
  },
  {
   "cell_type": "code",
   "execution_count": 148,
   "metadata": {},
   "outputs": [],
   "source": [
    "predDTTrain = regrDT.predict(X_train)\n",
    "predDTTest = regrDT.predict(X_test)"
   ]
  },
  {
   "cell_type": "markdown",
   "metadata": {},
   "source": [
    "* $R^2$ Score:"
   ]
  },
  {
   "cell_type": "code",
   "execution_count": 149,
   "metadata": {},
   "outputs": [
    {
     "name": "stdout",
     "output_type": "stream",
     "text": [
      "R2 Train: 0.987 \n",
      "R2 Test:  0.819\n"
     ]
    }
   ],
   "source": [
    "R2DTTrain = r2_score(y_train, predDTTrain)\n",
    "R2DTTest = r2_score(y_test, predDTTest)\n",
    "print('R2 Train: %.3f' % R2DTTrain, '\\nR2 Test:  %.3f' % R2DTTest)"
   ]
  },
  {
   "cell_type": "markdown",
   "metadata": {},
   "source": [
    "* MSE Score:"
   ]
  },
  {
   "cell_type": "code",
   "execution_count": 150,
   "metadata": {},
   "outputs": [
    {
     "name": "stdout",
     "output_type": "stream",
     "text": [
      "MSE Train: 848,865.019395 \n",
      "MSE Test: 11,873,477.079376\n"
     ]
    }
   ],
   "source": [
    "MSEDTTrain = mean_squared_error(y_train, predDTTrain)\n",
    "MSEDTTest = mean_squared_error(y_test, predDTTest)\n",
    "print('MSE Train:', format(MSEDTTrain, ',f'), '\\nMSE Test:', format(MSEDTTest, ',f'))"
   ]
  },
  {
   "cell_type": "markdown",
   "metadata": {},
   "source": [
    "Not bad results, but maybe a little overfitting in test data. Let's go to some fine tuning on hyperparameters and cross validation."
   ]
  },
  {
   "cell_type": "code",
   "execution_count": 151,
   "metadata": {},
   "outputs": [],
   "source": [
    "paramGridDT = {\n",
    "        'criterion': ['mse'],\n",
    "        'splitter': ['best', 'random'],\n",
    "        'max_depth': list(range(1, 20 + 1)),\n",
    "        'min_samples_split': [5, 10, 15],\n",
    "        'min_samples_leaf': [1],\n",
    "        'max_features': ['auto']\n",
    "        }"
   ]
  },
  {
   "cell_type": "markdown",
   "metadata": {},
   "source": [
    "**ATTENTION**: With this paramGrid cross validation takes 2 minutes"
   ]
  },
  {
   "cell_type": "code",
   "execution_count": 152,
   "metadata": {
    "scrolled": false
   },
   "outputs": [
    {
     "name": "stdout",
     "output_type": "stream",
     "text": [
      "Fitting 10 folds for each of 120 candidates, totalling 1200 fits\n"
     ]
    },
    {
     "name": "stderr",
     "output_type": "stream",
     "text": [
      "[Parallel(n_jobs=-1)]: Done  52 tasks      | elapsed:    1.6s\n",
      "[Parallel(n_jobs=-1)]: Done 352 tasks      | elapsed:   14.5s\n",
      "[Parallel(n_jobs=-1)]: Done 609 tasks      | elapsed:   34.8s\n",
      "[Parallel(n_jobs=-1)]: Done 959 tasks      | elapsed:  1.2min\n",
      "[Parallel(n_jobs=-1)]: Done 1200 out of 1200 | elapsed:  1.7min finished\n"
     ]
    }
   ],
   "source": [
    "cvDT = GridSearchCV(\n",
    "        estimator = tree.DecisionTreeRegressor(),\n",
    "        param_grid=paramGridDT,\n",
    "        n_jobs=-1,\n",
    "        cv=10,\n",
    "        refit=False,\n",
    "        verbose=1,\n",
    "        return_train_score=True).fit(X_train, y_train)"
   ]
  },
  {
   "cell_type": "markdown",
   "metadata": {},
   "source": [
    "These are the best parameters"
   ]
  },
  {
   "cell_type": "code",
   "execution_count": 153,
   "metadata": {
    "scrolled": true
   },
   "outputs": [
    {
     "data": {
      "text/plain": [
       "{'criterion': 'mse',\n",
       " 'max_depth': 18,\n",
       " 'max_features': 'auto',\n",
       " 'min_samples_leaf': 1,\n",
       " 'min_samples_split': 15,\n",
       " 'splitter': 'best'}"
      ]
     },
     "execution_count": 153,
     "metadata": {},
     "output_type": "execute_result"
    }
   ],
   "source": [
    "cvDT.best_params_"
   ]
  },
  {
   "cell_type": "code",
   "execution_count": 154,
   "metadata": {},
   "outputs": [],
   "source": [
    "bestDecisionTree = tree.DecisionTreeRegressor(criterion=cvDT.best_params_['criterion'],\n",
    "                                              max_depth=cvDT.best_params_['max_depth'],\n",
    "                                              max_features=cvDT.best_params_['max_features'],\n",
    "                                              min_samples_leaf=cvDT.best_params_['min_samples_leaf'],\n",
    "                                              min_samples_split=cvDT.best_params_['min_samples_split'],\n",
    "                                              splitter=cvDT.best_params_['splitter']).fit(X_train, y_train)"
   ]
  },
  {
   "cell_type": "code",
   "execution_count": 155,
   "metadata": {},
   "outputs": [],
   "source": [
    "predBestDTTrain = bestDecisionTree.predict(X_train)\n",
    "predBestDTTest = bestDecisionTree.predict(X_test)"
   ]
  },
  {
   "cell_type": "markdown",
   "metadata": {},
   "source": [
    "* $R^2$ Score:"
   ]
  },
  {
   "cell_type": "code",
   "execution_count": 156,
   "metadata": {
    "scrolled": true
   },
   "outputs": [
    {
     "name": "stdout",
     "output_type": "stream",
     "text": [
      "R2 Train: 0.933 \n",
      "R2 Test: 0.854\n"
     ]
    }
   ],
   "source": [
    "R2BestDTTrain = r2_score(y_train, predBestDTTrain)\n",
    "R2BestDTTest = r2_score(y_test, predBestDTTest)\n",
    "print('R2 Train: %.3f' % R2BestDTTrain, '\\nR2 Test: %.3f' % R2BestDTTest)"
   ]
  },
  {
   "cell_type": "markdown",
   "metadata": {},
   "source": [
    "* MSE Score:"
   ]
  },
  {
   "cell_type": "code",
   "execution_count": 157,
   "metadata": {},
   "outputs": [
    {
     "name": "stdout",
     "output_type": "stream",
     "text": [
      "MSE Train: 4,251,127.606369 \n",
      "MSE Test: 9,605,539.624368\n"
     ]
    }
   ],
   "source": [
    "MSEBestDTTrain = mean_squared_error(y_train, predBestDTTrain)\n",
    "MSEBestDTTest = mean_squared_error(y_test, predBestDTTest)\n",
    "print('MSE Train:', format(MSEBestDTTrain, ',f'), '\\nMSE Test:', format(MSEBestDTTest, ',f'))"
   ]
  },
  {
   "cell_type": "markdown",
   "metadata": {},
   "source": [
    "We have improved test results"
   ]
  },
  {
   "cell_type": "markdown",
   "metadata": {},
   "source": [
    "## Charting results\n",
    "Train data"
   ]
  },
  {
   "cell_type": "code",
   "execution_count": 158,
   "metadata": {},
   "outputs": [
    {
     "data": {
      "image/png": "[encoded data removed]",
      "text/plain": [
       "<Figure size 432x288 with 1 Axes>"
      ]
     },
     "metadata": {},
     "output_type": "display_data"
    }
   ],
   "source": [
    "plt.figure(figsize=(6, 4))\n",
    "plt.scatter(y_train, predBestDTTrain, s=20,alpha=0.1)\n",
    "plt.title('Estimated Price vs. Real Price. Train dataset \\nDecision Trees')\n",
    "plt.xlabel('Real Price')\n",
    "plt.ylabel('Predicted Price')\n",
    "plt.plot([min(y_train), max(y_train)], [min(y_train), max(y_train)], 'y')\n",
    "plt.tight_layout()"
   ]
  },
  {
   "cell_type": "markdown",
   "metadata": {},
   "source": [
    "Test data"
   ]
  },
  {
   "cell_type": "code",
   "execution_count": 159,
   "metadata": {
    "scrolled": false
   },
   "outputs": [
    {
     "data": {
      "text/plain": [
       "[<matplotlib.lines.Line2D at 0x7f3735036fd0>]"
      ]
     },
     "execution_count": 159,
     "metadata": {},
     "output_type": "execute_result"
    },
    {
     "data": {
      "image/png": "[encoded data removed]",
      "text/plain": [
       "<Figure size 432x288 with 1 Axes>"
      ]
     },
     "metadata": {},
     "output_type": "display_data"
    }
   ],
   "source": [
    "plt.figure(figsize=(6, 4))\n",
    "plt.scatter(y_test, predBestDTTest, s=20,alpha=0.1)\n",
    "plt.title('Estimated Price vs. Real Price. Test dataset \\nDecision Trees')\n",
    "plt.xlabel('Real Price')\n",
    "plt.ylabel('Predicted Price')\n",
    "plt.plot([min(y_test), max(y_test)], [min(y_test), max(y_test)], 'y')"
   ]
  },
  {
   "cell_type": "markdown",
   "metadata": {},
   "source": [
    "### Saving the model for later use"
   ]
  },
  {
   "cell_type": "code",
   "execution_count": 96,
   "metadata": {},
   "outputs": [
    {
     "data": {
      "text/plain": [
       "['../output/bestDecisionTree.pkl']"
      ]
     },
     "execution_count": 96,
     "metadata": {},
     "output_type": "execute_result"
    }
   ],
   "source": [
    "joblib.dump(bestDecisionTree, filename='../output/bestDecisionTree.pkl')"
   ]
  },
  {
   "cell_type": "markdown",
   "metadata": {},
   "source": [
    "***"
   ]
  },
  {
   "cell_type": "markdown",
   "metadata": {},
   "source": [
    "# Random forest"
   ]
  },
  {
   "cell_type": "code",
   "execution_count": 107,
   "metadata": {},
   "outputs": [
    {
     "name": "stderr",
     "output_type": "stream",
     "text": [
      "[Parallel(n_jobs=-1)]: Done   6 out of  10 | elapsed:    1.1s remaining:    0.7s\n",
      "[Parallel(n_jobs=-1)]: Done  10 out of  10 | elapsed:    1.6s finished\n"
     ]
    }
   ],
   "source": [
    "regrRF = RandomForestRegressor(n_jobs=-1,\n",
    "                               verbose=1).fit(X_train,\n",
    "                                              y_train)"
   ]
  },
  {
   "cell_type": "code",
   "execution_count": 108,
   "metadata": {
    "scrolled": true
   },
   "outputs": [
    {
     "name": "stderr",
     "output_type": "stream",
     "text": [
      "[Parallel(n_jobs=8)]: Done   6 out of  10 | elapsed:    0.2s remaining:    0.1s\n",
      "[Parallel(n_jobs=8)]: Done  10 out of  10 | elapsed:    0.3s finished\n",
      "[Parallel(n_jobs=8)]: Done   6 out of  10 | elapsed:    0.1s remaining:    0.1s\n",
      "[Parallel(n_jobs=8)]: Done  10 out of  10 | elapsed:    0.1s finished\n"
     ]
    }
   ],
   "source": [
    "predRFTrain = regrRF.predict(X_train)\n",
    "predRFTest = regrRF.predict(X_test)"
   ]
  },
  {
   "cell_type": "markdown",
   "metadata": {},
   "source": [
    "* $R^2$ Score:"
   ]
  },
  {
   "cell_type": "code",
   "execution_count": 109,
   "metadata": {},
   "outputs": [
    {
     "name": "stdout",
     "output_type": "stream",
     "text": [
      "R2 Train: 0.970 \n",
      "R2 Test:  0.872\n"
     ]
    }
   ],
   "source": [
    "R2RFTrain = r2_score(y_train, predRFTrain)\n",
    "R2RFTest = r2_score(y_test, predRFTest)\n",
    "print('R2 Train: %.3f' % R2RFTrain, '\\nR2 Test:  %.3f' % R2RFTest)"
   ]
  },
  {
   "cell_type": "markdown",
   "metadata": {},
   "source": [
    "* MSE Score:"
   ]
  },
  {
   "cell_type": "code",
   "execution_count": 111,
   "metadata": {},
   "outputs": [
    {
     "name": "stdout",
     "output_type": "stream",
     "text": [
      "MSE Train: 1,875,181.259095 \n",
      "MSE Test: 8,373,979.433170\n"
     ]
    }
   ],
   "source": [
    "MSERFTrain = mean_squared_error(y_train, predRFTrain)\n",
    "MSERFTest = mean_squared_error(y_test, predRFTest)\n",
    "print('MSE Train:', format(MSERFTrain, ',f'), '\\nMSE Test:', format(MSERFTest, ',f'))"
   ]
  },
  {
   "cell_type": "markdown",
   "metadata": {},
   "source": [
    "### Hyperparameter tuning\n",
    "Test the optimum number of features"
   ]
  },
  {
   "cell_type": "code",
   "execution_count": 112,
   "metadata": {},
   "outputs": [],
   "source": [
    "np.random.seed(123)\n",
    "scores = {}\n",
    "\n",
    "rf = None\n",
    "\n",
    "for max_features in [2,4,8, 'auto', None]:\n",
    "    if rf is None:\n",
    "        rf = RandomForestRegressor(n_estimators=50,\n",
    "                                   max_features=max_features)\n",
    "    else:\n",
    "        rf.warm_start = False\n",
    "        rf.max_features = max_features\n",
    "    \n",
    "    rf = rf.fit(X_train, y_train)\n",
    "    scores[max_features] = rf.score(X_test, y_test)"
   ]
  },
  {
   "cell_type": "code",
   "execution_count": 121,
   "metadata": {
    "scrolled": false
   },
   "outputs": [
    {
     "data": {
      "text/plain": [
       "<matplotlib.lines.Line2D at 0x7f3738908ef0>"
      ]
     },
     "execution_count": 121,
     "metadata": {},
     "output_type": "execute_result"
    },
    {
     "data": {
      "image/png": "[encoded data removed]",
      "text/plain": [
       "<Figure size 432x288 with 1 Axes>"
      ]
     },
     "metadata": {},
     "output_type": "display_data"
    }
   ],
   "source": [
    "plt.plot([2, 4, 8, 'Auto', 'None'], scores.values())\n",
    "plt.axhline(bestDecisionTree.score(X_test, y_test), linestyle='dashed', color='red')"
   ]
  },
  {
   "cell_type": "code",
   "execution_count": 125,
   "metadata": {},
   "outputs": [],
   "source": [
    "paramsRF = {\n",
    "        'n_estimators': [50, 100, 200],\n",
    "        'max_features': [4],\n",
    "        'max_depth': list(range(1, 10 + 1)),\n",
    "        'min_samples_split': [5, 10, 15],\n",
    "        'min_samples_leaf':[1]\n",
    "        }"
   ]
  },
  {
   "cell_type": "markdown",
   "metadata": {},
   "source": [
    "This param grid takes 1 hours"
   ]
  },
  {
   "cell_type": "code",
   "execution_count": 126,
   "metadata": {},
   "outputs": [
    {
     "name": "stdout",
     "output_type": "stream",
     "text": [
      "Fitting 10 folds for each of 90 candidates, totalling 900 fits\n"
     ]
    },
    {
     "name": "stderr",
     "output_type": "stream",
     "text": [
      "[Parallel(n_jobs=-1)]: Done  34 tasks      | elapsed:   32.1s\n",
      "[Parallel(n_jobs=-1)]: Done 184 tasks      | elapsed:  4.2min\n",
      "[Parallel(n_jobs=-1)]: Done 434 tasks      | elapsed: 15.9min\n",
      "[Parallel(n_jobs=-1)]: Done 784 tasks      | elapsed: 42.2min\n",
      "[Parallel(n_jobs=-1)]: Done 900 out of 900 | elapsed: 53.1min finished\n"
     ]
    }
   ],
   "source": [
    "cvRF = GridSearchCV(\n",
    "        estimator=RandomForestRegressor(oob_score=True),\n",
    "        param_grid=paramsRF,\n",
    "        n_jobs=-1,\n",
    "        cv=10,\n",
    "        verbose=1,\n",
    "        return_train_score=True).fit(X_train, y_train)"
   ]
  },
  {
   "cell_type": "code",
   "execution_count": 127,
   "metadata": {},
   "outputs": [
    {
     "data": {
      "text/plain": [
       "{'max_depth': 10,\n",
       " 'max_features': 4,\n",
       " 'min_samples_leaf': 1,\n",
       " 'min_samples_split': 5,\n",
       " 'n_estimators': 200}"
      ]
     },
     "execution_count": 127,
     "metadata": {},
     "output_type": "execute_result"
    }
   ],
   "source": [
    "cvRF.best_params_"
   ]
  },
  {
   "cell_type": "code",
   "execution_count": 128,
   "metadata": {},
   "outputs": [
    {
     "data": {
      "text/plain": [
       "0.86518307463441979"
      ]
     },
     "execution_count": 128,
     "metadata": {},
     "output_type": "execute_result"
    }
   ],
   "source": [
    "cvRF.best_score_"
   ]
  },
  {
   "cell_type": "code",
   "execution_count": 130,
   "metadata": {},
   "outputs": [],
   "source": [
    "bestRandoForest = RandomForestRegressor(max_depth=cvRF.best_params_['max_depth'], \n",
    "                                        max_features=cvRF.best_params_['max_features'], \n",
    "                                        min_samples_leaf=cvRF.best_params_['min_samples_leaf'], \n",
    "                                        min_samples_split=cvRF.best_params_['min_samples_split'], \n",
    "                                        n_estimators=cvRF.best_params_['n_estimators']).fit(X_train, y_train)"
   ]
  },
  {
   "cell_type": "code",
   "execution_count": 131,
   "metadata": {},
   "outputs": [],
   "source": [
    "predBestRFTrain = bestRandoForest.predict(X_train)\n",
    "predBestRFTest = bestRandoForest.predict(X_test)"
   ]
  },
  {
   "cell_type": "markdown",
   "metadata": {},
   "source": [
    "* $R^2$ Score:"
   ]
  },
  {
   "cell_type": "code",
   "execution_count": 132,
   "metadata": {
    "scrolled": true
   },
   "outputs": [
    {
     "name": "stdout",
     "output_type": "stream",
     "text": [
      "R2 Train: 0.890 \n",
      "R2 Test: 0.858\n"
     ]
    }
   ],
   "source": [
    "R2BestRFTrain = r2_score(y_train, predBestRFTrain)\n",
    "R2BestRFTest = r2_score(y_test, predBestRFTest)\n",
    "print('R2 Train: %.3f' % R2BestRFTrain, '\\nR2 Test: %.3f' % R2BestRFTest)"
   ]
  },
  {
   "cell_type": "markdown",
   "metadata": {},
   "source": [
    "* MSE Score:"
   ]
  },
  {
   "cell_type": "code",
   "execution_count": 133,
   "metadata": {
    "scrolled": true
   },
   "outputs": [
    {
     "name": "stdout",
     "output_type": "stream",
     "text": [
      "MSE Train: 6,947,069.623636 \n",
      "MSE Test: 9,306,430.403108\n"
     ]
    }
   ],
   "source": [
    "MSEBestRFTrain = mean_squared_error(y_train, predBestRFTrain)\n",
    "MSEBestRFTest = mean_squared_error(y_test, predBestRFTest)\n",
    "print('MSE Train:', format(MSEBestRFTrain, ',f'), '\\nMSE Test:', format(MSEBestRFTest, ',f'))"
   ]
  },
  {
   "cell_type": "markdown",
   "metadata": {},
   "source": [
    "## Charting results\n",
    "Train data"
   ]
  },
  {
   "cell_type": "code",
   "execution_count": 160,
   "metadata": {
    "scrolled": false
   },
   "outputs": [
    {
     "data": {
      "image/png": "[encoded data removed]",
      "text/plain": [
       "<Figure size 432x288 with 1 Axes>"
      ]
     },
     "metadata": {},
     "output_type": "display_data"
    }
   ],
   "source": [
    "plt.figure(figsize=(6, 4))\n",
    "plt.scatter(y_train, predBestRFTrain, s=20,alpha=0.1)\n",
    "plt.title('Estimated Price vs. Real Price. Train dataset \\nRandom Forest')\n",
    "plt.xlabel('Real Price')\n",
    "plt.ylabel('Predicted Price')\n",
    "plt.plot([min(y_train), max(y_train)], [min(y_train), max(y_train)], 'y')\n",
    "plt.tight_layout()"
   ]
  },
  {
   "cell_type": "markdown",
   "metadata": {},
   "source": [
    "Test data"
   ]
  },
  {
   "cell_type": "code",
   "execution_count": 161,
   "metadata": {
    "scrolled": false
   },
   "outputs": [
    {
     "data": {
      "text/plain": [
       "[<matplotlib.lines.Line2D at 0x7f373d8f05c0>]"
      ]
     },
     "execution_count": 161,
     "metadata": {},
     "output_type": "execute_result"
    },
    {
     "data": {
      "image/png": "[encoded data removed]",
      "text/plain": [
       "<Figure size 432x288 with 1 Axes>"
      ]
     },
     "metadata": {},
     "output_type": "display_data"
    }
   ],
   "source": [
    "plt.figure(figsize=(6, 4))\n",
    "plt.scatter(y_test, predBestRFTest, s=20,alpha=0.1)\n",
    "plt.title('Estimated Price vs. Real Price. Test dataset \\nRandom Forest')\n",
    "plt.xlabel('Real Price')\n",
    "plt.ylabel('Predicted Price')\n",
    "plt.plot([min(y_test), max(y_test)], [min(y_test), max(y_test)], 'y')"
   ]
  },
  {
   "cell_type": "markdown",
   "metadata": {},
   "source": [
    "### Saving the model for later use"
   ]
  },
  {
   "cell_type": "code",
   "execution_count": 136,
   "metadata": {
    "scrolled": false
   },
   "outputs": [
    {
     "data": {
      "text/plain": [
       "['../output/bestRandomForest.pkl']"
      ]
     },
     "execution_count": 136,
     "metadata": {},
     "output_type": "execute_result"
    }
   ],
   "source": [
    "joblib.dump(bestRandoForest, filename='../output/bestRandomForest.pkl')"
   ]
  },
  {
   "cell_type": "markdown",
   "metadata": {},
   "source": [
    "***"
   ]
  },
  {
   "cell_type": "markdown",
   "metadata": {},
   "source": [
    "# K-nearest neighbours"
   ]
  },
  {
   "cell_type": "markdown",
   "metadata": {},
   "source": [
    "First try"
   ]
  },
  {
   "cell_type": "code",
   "execution_count": 178,
   "metadata": {},
   "outputs": [],
   "source": [
    "regrKNN = neighbors.KNeighborsRegressor(n_jobs=-1).fit(X_train, y_train)"
   ]
  },
  {
   "cell_type": "code",
   "execution_count": 179,
   "metadata": {
    "scrolled": false
   },
   "outputs": [],
   "source": [
    "predKNNTrain = regrKNN.predict(X_train)\n",
    "predKNNTest = regrKNN.predict(X_test)"
   ]
  },
  {
   "cell_type": "markdown",
   "metadata": {},
   "source": [
    "* $R^2$ Score:"
   ]
  },
  {
   "cell_type": "code",
   "execution_count": 180,
   "metadata": {},
   "outputs": [
    {
     "name": "stdout",
     "output_type": "stream",
     "text": [
      "R2 Train: 0.910 \n",
      "R2 Test:  0.840\n"
     ]
    }
   ],
   "source": [
    "R2KNNTrain = r2_score(y_train, predKNNTrain)\n",
    "R2KNNTest = r2_score(y_test, predKNNTest)\n",
    "print('R2 Train: %.3f' % R2KNNTrain, '\\nR2 Test:  %.3f' % R2KNNTest)"
   ]
  },
  {
   "cell_type": "markdown",
   "metadata": {},
   "source": [
    "* MSE Score:"
   ]
  },
  {
   "cell_type": "code",
   "execution_count": 181,
   "metadata": {},
   "outputs": [
    {
     "name": "stdout",
     "output_type": "stream",
     "text": [
      "MSE Train: 5,713,447.486862 \n",
      "MSE Test: 10,486,847.513610\n"
     ]
    }
   ],
   "source": [
    "MSEKNNTrain = mean_squared_error(y_train, predKNNTrain)\n",
    "MSEKNNTest = mean_squared_error(y_test, predKNNTest)\n",
    "print('MSE Train:', format(MSEKNNTrain, ',f'), '\\nMSE Test:', format(MSEKNNTest, ',f'))"
   ]
  },
  {
   "cell_type": "code",
   "execution_count": 167,
   "metadata": {},
   "outputs": [],
   "source": [
    "# Cross Validation\n",
    "paramsKNN = {\n",
    "        'n_neighbors': [5, 10, 20],\n",
    "        'weights': ['distance', 'uniform'],\n",
    "        'algorithm': ['auto'],\n",
    "        'leaf_size': [2,3,4],\n",
    "        }"
   ]
  },
  {
   "cell_type": "markdown",
   "metadata": {},
   "source": [
    "This params grid takes 5 minutes"
   ]
  },
  {
   "cell_type": "code",
   "execution_count": 168,
   "metadata": {},
   "outputs": [
    {
     "name": "stdout",
     "output_type": "stream",
     "text": [
      "Fitting 10 folds for each of 18 candidates, totalling 180 fits\n"
     ]
    },
    {
     "name": "stderr",
     "output_type": "stream",
     "text": [
      "[Parallel(n_jobs=-1)]: Done  34 tasks      | elapsed:  1.1min\n",
      "[Parallel(n_jobs=-1)]: Done 180 out of 180 | elapsed:  5.8min finished\n"
     ]
    }
   ],
   "source": [
    "cvKNN = GridSearchCV(\n",
    "        estimator=neighbors.KNeighborsRegressor(),\n",
    "        param_grid=paramsKNN,\n",
    "        n_jobs=-1,\n",
    "        cv=10,\n",
    "        verbose=1,\n",
    "        return_train_score=True).fit(X_train, y_train)"
   ]
  },
  {
   "cell_type": "code",
   "execution_count": 169,
   "metadata": {},
   "outputs": [
    {
     "data": {
      "text/plain": [
       "{'algorithm': 'auto', 'leaf_size': 3, 'n_neighbors': 5, 'weights': 'distance'}"
      ]
     },
     "execution_count": 169,
     "metadata": {},
     "output_type": "execute_result"
    }
   ],
   "source": [
    "cvKNN.best_params_"
   ]
  },
  {
   "cell_type": "code",
   "execution_count": 170,
   "metadata": {},
   "outputs": [],
   "source": [
    "bestKNN = neighbors.KNeighborsRegressor(algorithm=cvKNN.best_params_['algorithm'], \n",
    "                                        leaf_size=cvKNN.best_params_['leaf_size'],\n",
    "                                        n_neighbors=cvKNN.best_params_['n_neighbors'],\n",
    "                                        weights=cvKNN.best_params_['weights']).fit(X_train, y_train)"
   ]
  },
  {
   "cell_type": "code",
   "execution_count": 172,
   "metadata": {},
   "outputs": [],
   "source": [
    "predBestKNNTrain = bestKNN.predict(X_train)\n",
    "predBestKNNTest = bestKNN.predict(X_test)"
   ]
  },
  {
   "cell_type": "markdown",
   "metadata": {},
   "source": [
    "* $R^2$ Score:"
   ]
  },
  {
   "cell_type": "code",
   "execution_count": 173,
   "metadata": {
    "scrolled": true
   },
   "outputs": [
    {
     "name": "stdout",
     "output_type": "stream",
     "text": [
      "R2 Train: 0.986 \n",
      "R2 Test: 0.857\n"
     ]
    }
   ],
   "source": [
    "R2BestKNNTrain = r2_score(y_train, predBestKNNTrain)\n",
    "R2BestKNNTest = r2_score(y_test, predBestKNNTest)\n",
    "print('R2 Train: %.3f' % R2BestKNNTrain, '\\nR2 Test: %.3f' % R2BestKNNTest)"
   ]
  },
  {
   "cell_type": "markdown",
   "metadata": {},
   "source": [
    "* MSE Score:"
   ]
  },
  {
   "cell_type": "code",
   "execution_count": 174,
   "metadata": {
    "scrolled": false
   },
   "outputs": [
    {
     "name": "stdout",
     "output_type": "stream",
     "text": [
      "MSE Train: 872,528.983937 \n",
      "MSE Test: 9,413,727.364283\n"
     ]
    }
   ],
   "source": [
    "MSEBestKNNTrain = mean_squared_error(y_train, predBestKNNTrain)\n",
    "MSEBestKNNTest = mean_squared_error(y_test, predBestKNNTest)\n",
    "print('MSE Train:', format(MSEBestKNNTrain, ',f'), '\\nMSE Test:', format(MSEBestKNNTest, ',f'))"
   ]
  },
  {
   "cell_type": "markdown",
   "metadata": {},
   "source": [
    "## Charting results\n",
    "Train data"
   ]
  },
  {
   "cell_type": "code",
   "execution_count": 175,
   "metadata": {
    "scrolled": true
   },
   "outputs": [
    {
     "data": {
      "image/png": "[encoded data removed]",
      "text/plain": [
       "<Figure size 432x288 with 1 Axes>"
      ]
     },
     "metadata": {},
     "output_type": "display_data"
    }
   ],
   "source": [
    "plt.figure(figsize=(6, 4))\n",
    "plt.scatter(y_train, predBestKNNTrain, s=20,alpha=0.1)\n",
    "plt.title('Estimated Price vs. Real Price. Train dataset \\nK-nearest neighbours')\n",
    "plt.xlabel('Real Price')\n",
    "plt.ylabel('Predicted Price')\n",
    "plt.plot([min(y_train), max(y_train)], [min(y_train), max(y_train)], 'y')\n",
    "plt.tight_layout()"
   ]
  },
  {
   "cell_type": "markdown",
   "metadata": {},
   "source": [
    "Test data"
   ]
  },
  {
   "cell_type": "code",
   "execution_count": 176,
   "metadata": {
    "scrolled": false
   },
   "outputs": [
    {
     "data": {
      "text/plain": [
       "[<matplotlib.lines.Line2D at 0x7f37350484a8>]"
      ]
     },
     "execution_count": 176,
     "metadata": {},
     "output_type": "execute_result"
    },
    {
     "data": {
      "image/png": "[encoded data removed]",
      "text/plain": [
       "<Figure size 432x288 with 1 Axes>"
      ]
     },
     "metadata": {},
     "output_type": "display_data"
    }
   ],
   "source": [
    "plt.figure(figsize=(6, 4))\n",
    "plt.scatter(y_test, predBestKNNTest, s=20,alpha=0.1)\n",
    "plt.title('Estimated Price vs. Real Price. Test dataset \\nK-nearest neighbours')\n",
    "plt.xlabel('Real Price')\n",
    "plt.ylabel('Predicted Price')\n",
    "plt.plot([min(y_test), max(y_test)], [min(y_test), max(y_test)], 'y')"
   ]
  },
  {
   "cell_type": "markdown",
   "metadata": {},
   "source": [
    "### Saving the model for later use"
   ]
  },
  {
   "cell_type": "code",
   "execution_count": 177,
   "metadata": {
    "scrolled": false
   },
   "outputs": [
    {
     "data": {
      "text/plain": [
       "['../output/bestKNN.pkl']"
      ]
     },
     "execution_count": 177,
     "metadata": {},
     "output_type": "execute_result"
    }
   ],
   "source": [
    "joblib.dump(bestKNN, filename='../output/bestKNN.pkl')"
   ]
  },
  {
   "cell_type": "code",
   "execution_count": null,
   "metadata": {},
   "outputs": [],
   "source": []
  }
 ],
 "metadata": {
  "kernelspec": {
   "display_name": "Python 3",
   "language": "python",
   "name": "python3"
  },
  "language_info": {
   "codemirror_mode": {
    "name": "ipython",
    "version": 3
   },
   "file_extension": ".py",
   "mimetype": "text/x-python",
   "name": "python",
   "nbconvert_exporter": "python",
   "pygments_lexer": "ipython3",
   "version": "3.6.5"
  }
 },
 "nbformat": 4,
 "nbformat_minor": 2
}
