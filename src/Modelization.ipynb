{
 "cells": [
  {
   "cell_type": "markdown",
   "metadata": {},
   "source": [
    "# Modelization\n"
   ]
  },
  {
   "cell_type": "markdown",
   "metadata": {},
   "source": [
    "### Importing libraries"
   ]
  },
  {
   "cell_type": "code",
   "execution_count": 114,
   "metadata": {},
   "outputs": [],
   "source": [
    "import pandas as pd\n",
    "pd.set_option(\"max_columns\", 50)\n",
    "import numpy as np\n",
    "import matplotlib.pyplot as plt\n",
    "from scipy import stats\n",
    "from sklearn import tree\n",
    "from sklearn import neighbors\n",
    "from sklearn.ensemble import RandomForestRegressor\n",
    "from sklearn.ensemble import GradientBoostingRegressor\n",
    "from sklearn.model_selection import GridSearchCV, train_test_split\n",
    "from sklearn.preprocessing import LabelEncoder\n",
    "from sklearn.datasets import make_classification\n",
    "from collections import OrderedDict, defaultdict\n",
    "from sklearn.externals import joblib\n",
    "from sklearn.metrics import r2_score, mean_squared_error, mean_absolute_error"
   ]
  },
  {
   "cell_type": "markdown",
   "metadata": {},
   "source": [
    "### Convenience functions\n",
    "* Chart Results: Compares target with predicted data:"
   ]
  },
  {
   "cell_type": "code",
   "execution_count": 2,
   "metadata": {},
   "outputs": [],
   "source": [
    "def chartResults(y, predBest, trainTest, model=None):\n",
    "    \n",
    "    '''\n",
    "    Example of use\n",
    "    chartResults(y=y_train, predBest=predTrain, trainTest='Train', model='Decision Trees')\n",
    "    '''\n",
    "    \n",
    "    plt.figure(figsize=(6, 4))\n",
    "    plt.scatter(y, predBest, s=20,alpha=0.1)\n",
    "    plt.title(model + '\\nPredicted Price vs. Real Price. \\n' + trainTest + ' dataset')\n",
    "    plt.xlabel('Real Price')\n",
    "    plt.ylabel('Predicted Price')\n",
    "    plt.plot([min(y), max(y)], [min(y), max(y)], 'y')\n",
    "    \n",
    "#    return plt.tight_layout()\n",
    "    return plt.show()\n",
    "\n",
    "def histResults(trainPred, testPred):\n",
    "    \n",
    "    '''\n",
    "    Example of use\n",
    "    histResults(trainPred=predKNNTrain, testPred=predKNNTest)\n",
    "    '''\n",
    "    \n",
    "    _, axes = plt.subplots(1, 2, figsize=(12, 4))\n",
    "    axes[0].hist(trainPred, bins=40)\n",
    "    axes[0].set_title('Train data')\n",
    "    axes[1].hist(testPred, bins=40)\n",
    "    axes[1].set_title('Test data')\n",
    "    \n",
    "    return plt.show()"
   ]
  },
  {
   "cell_type": "markdown",
   "metadata": {},
   "source": [
    "* Results data frame:"
   ]
  },
  {
   "cell_type": "code",
   "execution_count": 119,
   "metadata": {},
   "outputs": [
    {
     "data": {
      "text/html": [
       "<div>\n",
       "<style scoped>\n",
       "    .dataframe tbody tr th:only-of-type {\n",
       "        vertical-align: middle;\n",
       "    }\n",
       "\n",
       "    .dataframe tbody tr th {\n",
       "        vertical-align: top;\n",
       "    }\n",
       "\n",
       "    .dataframe thead th {\n",
       "        text-align: right;\n",
       "    }\n",
       "</style>\n",
       "<table border=\"1\" class=\"dataframe\">\n",
       "  <thead>\n",
       "    <tr style=\"text-align: right;\">\n",
       "      <th></th>\n",
       "      <th>Algorithm</th>\n",
       "      <th>Fine_Tuning</th>\n",
       "      <th>R2_Train</th>\n",
       "      <th>R2_Test</th>\n",
       "      <th>MAE_Train</th>\n",
       "      <th>MAE_Test</th>\n",
       "    </tr>\n",
       "  </thead>\n",
       "  <tbody>\n",
       "  </tbody>\n",
       "</table>\n",
       "</div>"
      ],
      "text/plain": [
       "Empty DataFrame\n",
       "Columns: [Algorithm, Fine_Tuning, R2_Train, R2_Test, MAE_Train, MAE_Test]\n",
       "Index: []"
      ]
     },
     "execution_count": 119,
     "metadata": {},
     "output_type": "execute_result"
    }
   ],
   "source": [
    "modelizationResults = pd.DataFrame({'Algorithm': [], \n",
    "                                    'Fine_Tuning': [],\n",
    "                                    'R2_Train': [], \n",
    "                                    'R2_Test': [], \n",
    "                                    'MAE_Train': [], \n",
    "                                    'MAE_Test': []})\n",
    "modelizationResults"
   ]
  },
  {
   "cell_type": "code",
   "execution_count": 120,
   "metadata": {},
   "outputs": [],
   "source": [
    "def rowOfResults(Algorithm, Fine_Tuning, R2_Train, R2_Test, MAE_Train, MAE_Test):\n",
    "    '''\n",
    "    Example:\n",
    "    rowOfResults('Decision trees', True, 2, 3, 4, 5)\n",
    "    '''\n",
    "    tempResults = pd.DataFrame({'Algorithm': [Algorithm], \n",
    "                                'Fine_Tuning': [Fine_Tuning],\n",
    "                                'R2_Train': [np.round(R2_Train, 3)],\n",
    "                                'R2_Test': [np.round(R2_Test, 3)],\n",
    "                                'MAE_Train': [np.round(MAE_Train, 0)],\n",
    "                                'MAE_Test': [np.round(MAE_Test, 0)]})\n",
    "    return tempResults"
   ]
  },
  {
   "cell_type": "markdown",
   "metadata": {},
   "source": [
    "### Reading clean dataset\n"
   ]
  },
  {
   "cell_type": "code",
   "execution_count": 5,
   "metadata": {},
   "outputs": [],
   "source": [
    "datasetCarsFinal = pd.read_csv('../data/autosFinal.csv',\n",
    "                               usecols=[\n",
    "                                      #'brand', \n",
    "                                      #'model', \n",
    "                                      'brandModel',\n",
    "                                      'vehicleType', \n",
    "                                      'gearbox', \n",
    "                                      'yearOfRegistration',\n",
    "                                      'fuelType',\n",
    "                                      'powerPS',\n",
    "                                      'kilometer',\n",
    "                                      #'kilometerCategorical',\n",
    "                                      #'kilometer000',\n",
    "                                      'notRepairedDamage',\n",
    "                                      #'postalCode',\n",
    "                                      'state',\n",
    "                                      'price'\n",
    "                                      ],\n",
    "                               dtype={\n",
    "                                      #'brand': 'str', \n",
    "                                      #'model': 'str', \n",
    "                                      'brandModel': 'str', \n",
    "                                      'vehicleType': 'str', \n",
    "                                      'gearbox': 'str', \n",
    "                                      'yearOfRegistration': np.int64,\n",
    "                                      'fuelType': 'str',\n",
    "                                      'powerPS': np.int64,\n",
    "                                      'kilometer': np.int64,\n",
    "                                      #'kilometerCategorical': 'str',\n",
    "                                      #'kilometer000': np.int64,\n",
    "                                      'notRepairedDamage': 'str',\n",
    "                                      #'postalCode': 'str',\n",
    "                                      'state': 'str',\n",
    "                                      'price': np.int64\n",
    "                                      })"
   ]
  },
  {
   "cell_type": "code",
   "execution_count": 6,
   "metadata": {},
   "outputs": [
    {
     "data": {
      "text/plain": [
       "Index(['state', 'brandModel', 'vehicleType', 'gearbox', 'fuelType',\n",
       "       'notRepairedDamage', 'kilometer', 'powerPS', 'yearOfRegistration',\n",
       "       'price'],\n",
       "      dtype='object')"
      ]
     },
     "execution_count": 6,
     "metadata": {},
     "output_type": "execute_result"
    }
   ],
   "source": [
    "datasetCarsFinal.columns"
   ]
  },
  {
   "cell_type": "code",
   "execution_count": 7,
   "metadata": {
    "scrolled": true
   },
   "outputs": [
    {
     "data": {
      "text/html": [
       "<div>\n",
       "<style scoped>\n",
       "    .dataframe tbody tr th:only-of-type {\n",
       "        vertical-align: middle;\n",
       "    }\n",
       "\n",
       "    .dataframe tbody tr th {\n",
       "        vertical-align: top;\n",
       "    }\n",
       "\n",
       "    .dataframe thead th {\n",
       "        text-align: right;\n",
       "    }\n",
       "</style>\n",
       "<table border=\"1\" class=\"dataframe\">\n",
       "  <thead>\n",
       "    <tr style=\"text-align: right;\">\n",
       "      <th></th>\n",
       "      <th>state</th>\n",
       "      <th>brandModel</th>\n",
       "      <th>vehicleType</th>\n",
       "      <th>gearbox</th>\n",
       "      <th>fuelType</th>\n",
       "      <th>notRepairedDamage</th>\n",
       "      <th>kilometer</th>\n",
       "      <th>powerPS</th>\n",
       "      <th>yearOfRegistration</th>\n",
       "      <th>price</th>\n",
       "    </tr>\n",
       "  </thead>\n",
       "  <tbody>\n",
       "    <tr>\n",
       "      <th>0</th>\n",
       "      <td>Bayern</td>\n",
       "      <td>jeep grand</td>\n",
       "      <td>suv</td>\n",
       "      <td>automatik</td>\n",
       "      <td>diesel</td>\n",
       "      <td>nein</td>\n",
       "      <td>125000</td>\n",
       "      <td>163</td>\n",
       "      <td>2004</td>\n",
       "      <td>9800</td>\n",
       "    </tr>\n",
       "    <tr>\n",
       "      <th>1</th>\n",
       "      <td>Bayern</td>\n",
       "      <td>volkswagen golf</td>\n",
       "      <td>kleinwagen</td>\n",
       "      <td>manuell</td>\n",
       "      <td>benzin</td>\n",
       "      <td>nein</td>\n",
       "      <td>150000</td>\n",
       "      <td>75</td>\n",
       "      <td>2001</td>\n",
       "      <td>1500</td>\n",
       "    </tr>\n",
       "    <tr>\n",
       "      <th>2</th>\n",
       "      <td>Hessen</td>\n",
       "      <td>skoda fabia</td>\n",
       "      <td>kleinwagen</td>\n",
       "      <td>manuell</td>\n",
       "      <td>diesel</td>\n",
       "      <td>nein</td>\n",
       "      <td>90000</td>\n",
       "      <td>69</td>\n",
       "      <td>2008</td>\n",
       "      <td>3600</td>\n",
       "    </tr>\n",
       "    <tr>\n",
       "      <th>3</th>\n",
       "      <td>Nordrhein-Westfalen</td>\n",
       "      <td>bmw 3er</td>\n",
       "      <td>limousine</td>\n",
       "      <td>manuell</td>\n",
       "      <td>benzin</td>\n",
       "      <td>ja</td>\n",
       "      <td>150000</td>\n",
       "      <td>102</td>\n",
       "      <td>1995</td>\n",
       "      <td>650</td>\n",
       "    </tr>\n",
       "    <tr>\n",
       "      <th>4</th>\n",
       "      <td>Rheinland-Pfalz</td>\n",
       "      <td>peugeot 2_reihe</td>\n",
       "      <td>cabrio</td>\n",
       "      <td>manuell</td>\n",
       "      <td>benzin</td>\n",
       "      <td>nein</td>\n",
       "      <td>150000</td>\n",
       "      <td>109</td>\n",
       "      <td>2004</td>\n",
       "      <td>2200</td>\n",
       "    </tr>\n",
       "  </tbody>\n",
       "</table>\n",
       "</div>"
      ],
      "text/plain": [
       "                 state       brandModel vehicleType    gearbox fuelType  \\\n",
       "0               Bayern       jeep grand         suv  automatik   diesel   \n",
       "1               Bayern  volkswagen golf  kleinwagen    manuell   benzin   \n",
       "2               Hessen      skoda fabia  kleinwagen    manuell   diesel   \n",
       "3  Nordrhein-Westfalen          bmw 3er   limousine    manuell   benzin   \n",
       "4      Rheinland-Pfalz  peugeot 2_reihe      cabrio    manuell   benzin   \n",
       "\n",
       "  notRepairedDamage  kilometer  powerPS  yearOfRegistration  price  \n",
       "0              nein     125000      163                2004   9800  \n",
       "1              nein     150000       75                2001   1500  \n",
       "2              nein      90000       69                2008   3600  \n",
       "3                ja     150000      102                1995    650  \n",
       "4              nein     150000      109                2004   2200  "
      ]
     },
     "execution_count": 7,
     "metadata": {},
     "output_type": "execute_result"
    }
   ],
   "source": [
    "datasetCarsFinal.head()"
   ]
  },
  {
   "cell_type": "markdown",
   "metadata": {},
   "source": [
    "***"
   ]
  },
  {
   "cell_type": "markdown",
   "metadata": {},
   "source": [
    "## Data setup\n",
    "### Splitting dataset into target, and numerical and categorical predictors\n",
    "This is necessary in order to use LabelEncoder only on categorical features"
   ]
  },
  {
   "cell_type": "code",
   "execution_count": 8,
   "metadata": {},
   "outputs": [],
   "source": [
    "target = datasetCarsFinal['price']\n",
    "numerical = datasetCarsFinal[['yearOfRegistration', 'powerPS', 'kilometer']]\n",
    "categorical = datasetCarsFinal.drop(['yearOfRegistration', 'powerPS', 'price', 'kilometer'], axis=1)"
   ]
  },
  {
   "cell_type": "markdown",
   "metadata": {},
   "source": [
    "Now, we can apply Label encoder to each categorical column and rejoin columns in a new data frame"
   ]
  },
  {
   "cell_type": "code",
   "execution_count": 9,
   "metadata": {},
   "outputs": [],
   "source": [
    "d = defaultdict(LabelEncoder)\n",
    "categorical_encoded = categorical.apply(lambda x: d[x.name].fit_transform(x))\n",
    "datasetCarsFinalConcat = pd.concat([categorical_encoded, numerical], axis=1)"
   ]
  },
  {
   "cell_type": "markdown",
   "metadata": {},
   "source": [
    "For later use, we will save label encoding using joblib"
   ]
  },
  {
   "cell_type": "code",
   "execution_count": 10,
   "metadata": {
    "scrolled": true
   },
   "outputs": [
    {
     "data": {
      "text/plain": [
       "['../output/carsLabelEncoder.pkl']"
      ]
     },
     "execution_count": 10,
     "metadata": {},
     "output_type": "execute_result"
    }
   ],
   "source": [
    "joblib.dump(d, '../output/carsLabelEncoder.pkl')"
   ]
  },
  {
   "cell_type": "markdown",
   "metadata": {},
   "source": [
    "### Create train and test datasets"
   ]
  },
  {
   "cell_type": "code",
   "execution_count": 11,
   "metadata": {},
   "outputs": [],
   "source": [
    "np.random.seed(42)\n",
    "train, test = train_test_split(datasetCarsFinalConcat.index, test_size = 0.2)\n",
    "\n",
    "X_train = datasetCarsFinalConcat.loc[train]\n",
    "y_train = target.loc[train]\n",
    "\n",
    "X_test = datasetCarsFinalConcat.loc[test]\n",
    "y_test = target.loc[test]"
   ]
  },
  {
   "cell_type": "code",
   "execution_count": 12,
   "metadata": {},
   "outputs": [
    {
     "data": {
      "text/plain": [
       "((202055, 9), (202055,))"
      ]
     },
     "execution_count": 12,
     "metadata": {},
     "output_type": "execute_result"
    }
   ],
   "source": [
    "X_train.shape, y_train.shape "
   ]
  },
  {
   "cell_type": "code",
   "execution_count": 13,
   "metadata": {},
   "outputs": [
    {
     "data": {
      "text/plain": [
       "((50514, 9), (50514,))"
      ]
     },
     "execution_count": 13,
     "metadata": {},
     "output_type": "execute_result"
    }
   ],
   "source": [
    "X_test.shape, y_test.shape"
   ]
  },
  {
   "cell_type": "markdown",
   "metadata": {},
   "source": [
    "Now, data is ready to modelization process"
   ]
  },
  {
   "cell_type": "markdown",
   "metadata": {},
   "source": [
    "***"
   ]
  },
  {
   "cell_type": "markdown",
   "metadata": {},
   "source": [
    "## Decision Trees\n",
    "Our first try will be Decision Trees algorithm. No hyperparameters will be tuned for the moment:"
   ]
  },
  {
   "cell_type": "code",
   "execution_count": 14,
   "metadata": {},
   "outputs": [],
   "source": [
    "regrDT = tree.DecisionTreeRegressor().fit(X_train, y_train)"
   ]
  },
  {
   "cell_type": "code",
   "execution_count": 15,
   "metadata": {},
   "outputs": [],
   "source": [
    "predDTTrain = regrDT.predict(X_train)\n",
    "predDTTest = regrDT.predict(X_test)"
   ]
  },
  {
   "cell_type": "markdown",
   "metadata": {},
   "source": [
    "### Distribution of predicted prices"
   ]
  },
  {
   "cell_type": "code",
   "execution_count": 16,
   "metadata": {
    "scrolled": true
   },
   "outputs": [
    {
     "data": {
      "image/png": "[encoded data removed]",
      "text/plain": [
       "<Figure size 864x288 with 2 Axes>"
      ]
     },
     "metadata": {},
     "output_type": "display_data"
    }
   ],
   "source": [
    "histResults(predDTTrain, predDTTest)"
   ]
  },
  {
   "cell_type": "markdown",
   "metadata": {},
   "source": [
    "### Model scores:  \n",
    "* $R^2$ Score:"
   ]
  },
  {
   "cell_type": "code",
   "execution_count": 121,
   "metadata": {
    "scrolled": true
   },
   "outputs": [
    {
     "name": "stdout",
     "output_type": "stream",
     "text": [
      "R2 Train: 0.990 \n",
      "R2 Test:  0.840\n"
     ]
    }
   ],
   "source": [
    "R2DTTrain = r2_score(y_train, predDTTrain)\n",
    "R2DTTest = r2_score(y_test, predDTTest)\n",
    "print('R2 Train: %.3f' % R2DTTrain, '\\nR2 Test:  %.3f' % R2DTTest)"
   ]
  },
  {
   "cell_type": "markdown",
   "metadata": {},
   "source": [
    "* MAE Score:"
   ]
  },
  {
   "cell_type": "code",
   "execution_count": 122,
   "metadata": {
    "scrolled": true
   },
   "outputs": [
    {
     "name": "stdout",
     "output_type": "stream",
     "text": [
      "MAE Train: 268.889971 \n",
      "MAE Test: 1,306.618315\n"
     ]
    }
   ],
   "source": [
    "MAEDTTrain = mean_absolute_error(y_train, predDTTrain)\n",
    "MAEDTTest = mean_absolute_error(y_test, predDTTest)\n",
    "print('MAE Train:', format(MAEDTTrain, ',f'), '\\nMAE Test:', format(MAEDTTest, ',f'))"
   ]
  },
  {
   "cell_type": "code",
   "execution_count": 123,
   "metadata": {
    "scrolled": true
   },
   "outputs": [
    {
     "data": {
      "text/html": [
       "<div>\n",
       "<style scoped>\n",
       "    .dataframe tbody tr th:only-of-type {\n",
       "        vertical-align: middle;\n",
       "    }\n",
       "\n",
       "    .dataframe tbody tr th {\n",
       "        vertical-align: top;\n",
       "    }\n",
       "\n",
       "    .dataframe thead th {\n",
       "        text-align: right;\n",
       "    }\n",
       "</style>\n",
       "<table border=\"1\" class=\"dataframe\">\n",
       "  <thead>\n",
       "    <tr style=\"text-align: right;\">\n",
       "      <th></th>\n",
       "      <th>Algorithm</th>\n",
       "      <th>Fine_Tuning</th>\n",
       "      <th>R2_Train</th>\n",
       "      <th>R2_Test</th>\n",
       "      <th>MAE_Train</th>\n",
       "      <th>MAE_Test</th>\n",
       "    </tr>\n",
       "  </thead>\n",
       "  <tbody>\n",
       "    <tr>\n",
       "      <th>0</th>\n",
       "      <td>Decision trees</td>\n",
       "      <td>False</td>\n",
       "      <td>0.99</td>\n",
       "      <td>0.84</td>\n",
       "      <td>269.0</td>\n",
       "      <td>1307.0</td>\n",
       "    </tr>\n",
       "  </tbody>\n",
       "</table>\n",
       "</div>"
      ],
      "text/plain": [
       "        Algorithm  Fine_Tuning  R2_Train  R2_Test  MAE_Train  MAE_Test\n",
       "0  Decision trees        False      0.99     0.84      269.0    1307.0"
      ]
     },
     "execution_count": 123,
     "metadata": {},
     "output_type": "execute_result"
    }
   ],
   "source": [
    "DTResults = rowOfResults('Decision trees', False, R2DTTrain, R2DTTest, MAEDTTrain, MAEDTTest)\n",
    "DTResults"
   ]
  },
  {
   "cell_type": "code",
   "execution_count": 124,
   "metadata": {},
   "outputs": [
    {
     "data": {
      "text/html": [
       "<div>\n",
       "<style scoped>\n",
       "    .dataframe tbody tr th:only-of-type {\n",
       "        vertical-align: middle;\n",
       "    }\n",
       "\n",
       "    .dataframe tbody tr th {\n",
       "        vertical-align: top;\n",
       "    }\n",
       "\n",
       "    .dataframe thead th {\n",
       "        text-align: right;\n",
       "    }\n",
       "</style>\n",
       "<table border=\"1\" class=\"dataframe\">\n",
       "  <thead>\n",
       "    <tr style=\"text-align: right;\">\n",
       "      <th></th>\n",
       "      <th>Algorithm</th>\n",
       "      <th>Fine_Tuning</th>\n",
       "      <th>R2_Train</th>\n",
       "      <th>R2_Test</th>\n",
       "      <th>MAE_Train</th>\n",
       "      <th>MAE_Test</th>\n",
       "    </tr>\n",
       "  </thead>\n",
       "  <tbody>\n",
       "    <tr>\n",
       "      <th>0</th>\n",
       "      <td>Decision trees</td>\n",
       "      <td>0.0</td>\n",
       "      <td>0.99</td>\n",
       "      <td>0.84</td>\n",
       "      <td>269.0</td>\n",
       "      <td>1307.0</td>\n",
       "    </tr>\n",
       "  </tbody>\n",
       "</table>\n",
       "</div>"
      ],
      "text/plain": [
       "        Algorithm  Fine_Tuning  R2_Train  R2_Test  MAE_Train  MAE_Test\n",
       "0  Decision trees          0.0      0.99     0.84      269.0    1307.0"
      ]
     },
     "execution_count": 124,
     "metadata": {},
     "output_type": "execute_result"
    }
   ],
   "source": [
    "modelizationResults = modelizationResults.append(DTResults)\n",
    "modelizationResults"
   ]
  },
  {
   "cell_type": "markdown",
   "metadata": {},
   "source": [
    "Almost perfect with train data, but low $R²$ in test"
   ]
  },
  {
   "cell_type": "markdown",
   "metadata": {},
   "source": [
    "Not bad results, but maybe some signals of overfitting. Let's go to some fine tuning on hyperparameters and cross validation to improve results.  \n",
    "### Hyperparameter tuning"
   ]
  },
  {
   "cell_type": "code",
   "execution_count": 21,
   "metadata": {},
   "outputs": [],
   "source": [
    "paramGridDT = {\n",
    "        'criterion': ['mse'],\n",
    "        'splitter': ['best', 'random'],\n",
    "        'max_depth': list(range(1, 20 + 1)),\n",
    "        'min_samples_split': [5, 10, 15],\n",
    "        'min_samples_leaf': [1],\n",
    "        'max_features': ['auto']\n",
    "        }"
   ]
  },
  {
   "cell_type": "markdown",
   "metadata": {},
   "source": [
    "**ATTENTION**: With this paramGrid cross validation takes 2 minutes to complete"
   ]
  },
  {
   "cell_type": "code",
   "execution_count": 22,
   "metadata": {
    "scrolled": false
   },
   "outputs": [
    {
     "name": "stdout",
     "output_type": "stream",
     "text": [
      "Fitting 10 folds for each of 120 candidates, totalling 1200 fits\n"
     ]
    },
    {
     "name": "stderr",
     "output_type": "stream",
     "text": [
      "[Parallel(n_jobs=-1)]: Done  52 tasks      | elapsed:    1.7s\n",
      "[Parallel(n_jobs=-1)]: Done 346 tasks      | elapsed:   15.3s\n",
      "[Parallel(n_jobs=-1)]: Done 598 tasks      | elapsed:   34.7s\n",
      "[Parallel(n_jobs=-1)]: Done 948 tasks      | elapsed:  1.2min\n",
      "[Parallel(n_jobs=-1)]: Done 1200 out of 1200 | elapsed:  1.8min finished\n"
     ]
    }
   ],
   "source": [
    "cvDT = GridSearchCV(\n",
    "        estimator = tree.DecisionTreeRegressor(),\n",
    "        param_grid=paramGridDT,\n",
    "        n_jobs=-1,\n",
    "        cv=10,\n",
    "        refit=False,\n",
    "        verbose=1,\n",
    "        return_train_score=True).fit(X_train, y_train)"
   ]
  },
  {
   "cell_type": "markdown",
   "metadata": {},
   "source": [
    "These are the best parameters:"
   ]
  },
  {
   "cell_type": "code",
   "execution_count": 23,
   "metadata": {
    "scrolled": true
   },
   "outputs": [
    {
     "data": {
      "text/plain": [
       "{'criterion': 'mse',\n",
       " 'max_depth': 19,\n",
       " 'max_features': 'auto',\n",
       " 'min_samples_leaf': 1,\n",
       " 'min_samples_split': 15,\n",
       " 'splitter': 'best'}"
      ]
     },
     "execution_count": 23,
     "metadata": {},
     "output_type": "execute_result"
    }
   ],
   "source": [
    "cvDT.best_params_"
   ]
  },
  {
   "cell_type": "code",
   "execution_count": 24,
   "metadata": {},
   "outputs": [],
   "source": [
    "bestDecisionTree = tree.DecisionTreeRegressor(criterion=cvDT.best_params_['criterion'],\n",
    "                                              max_depth=cvDT.best_params_['max_depth'],\n",
    "                                              max_features=cvDT.best_params_['max_features'],\n",
    "                                              min_samples_leaf=cvDT.best_params_['min_samples_leaf'],\n",
    "                                              min_samples_split=cvDT.best_params_['min_samples_split'],\n",
    "                                              splitter=cvDT.best_params_['splitter']).fit(X_train, y_train)"
   ]
  },
  {
   "cell_type": "code",
   "execution_count": 25,
   "metadata": {},
   "outputs": [],
   "source": [
    "predBestDTTrain = bestDecisionTree.predict(X_train)\n",
    "predBestDTTest = bestDecisionTree.predict(X_test)"
   ]
  },
  {
   "cell_type": "markdown",
   "metadata": {},
   "source": [
    "### Distribution of predicted prices"
   ]
  },
  {
   "cell_type": "code",
   "execution_count": 26,
   "metadata": {
    "scrolled": true
   },
   "outputs": [
    {
     "data": {
      "image/png": "[encoded data removed]",
      "text/plain": [
       "<Figure size 864x288 with 2 Axes>"
      ]
     },
     "metadata": {},
     "output_type": "display_data"
    }
   ],
   "source": [
    "histResults(predBestDTTrain, predBestDTTest)"
   ]
  },
  {
   "cell_type": "markdown",
   "metadata": {},
   "source": [
    "And the scores now are:"
   ]
  },
  {
   "cell_type": "markdown",
   "metadata": {},
   "source": [
    "* $R^2$ Score:"
   ]
  },
  {
   "cell_type": "code",
   "execution_count": 125,
   "metadata": {
    "scrolled": true
   },
   "outputs": [
    {
     "name": "stdout",
     "output_type": "stream",
     "text": [
      "R2 Train: 0.943 \n",
      "R2 Test: 0.875\n"
     ]
    }
   ],
   "source": [
    "R2BestDTTrain = r2_score(y_train, predBestDTTrain)\n",
    "R2BestDTTest = r2_score(y_test, predBestDTTest)\n",
    "print('R2 Train: %.3f' % R2BestDTTrain, '\\nR2 Test: %.3f' % R2BestDTTest)"
   ]
  },
  {
   "cell_type": "markdown",
   "metadata": {},
   "source": [
    "* MAE Score:"
   ]
  },
  {
   "cell_type": "code",
   "execution_count": 126,
   "metadata": {},
   "outputs": [
    {
     "name": "stdout",
     "output_type": "stream",
     "text": [
      "MAE Train: 938.492876 \n",
      "MAE Test: 1,267.069267\n"
     ]
    }
   ],
   "source": [
    "MAEBestDTTrain = mean_absolute_error(y_train, predBestDTTrain)\n",
    "MAEBestDTTest = mean_absolute_error(y_test, predBestDTTest)\n",
    "print('MAE Train:', format(MAEBestDTTrain, ',f'), '\\nMAE Test:', format(MAEBestDTTest, ',f'))"
   ]
  },
  {
   "cell_type": "code",
   "execution_count": 127,
   "metadata": {
    "scrolled": false
   },
   "outputs": [
    {
     "data": {
      "text/html": [
       "<div>\n",
       "<style scoped>\n",
       "    .dataframe tbody tr th:only-of-type {\n",
       "        vertical-align: middle;\n",
       "    }\n",
       "\n",
       "    .dataframe tbody tr th {\n",
       "        vertical-align: top;\n",
       "    }\n",
       "\n",
       "    .dataframe thead th {\n",
       "        text-align: right;\n",
       "    }\n",
       "</style>\n",
       "<table border=\"1\" class=\"dataframe\">\n",
       "  <thead>\n",
       "    <tr style=\"text-align: right;\">\n",
       "      <th></th>\n",
       "      <th>Algorithm</th>\n",
       "      <th>Fine_Tuning</th>\n",
       "      <th>R2_Train</th>\n",
       "      <th>R2_Test</th>\n",
       "      <th>MAE_Train</th>\n",
       "      <th>MAE_Test</th>\n",
       "    </tr>\n",
       "  </thead>\n",
       "  <tbody>\n",
       "    <tr>\n",
       "      <th>0</th>\n",
       "      <td>Decision trees</td>\n",
       "      <td>True</td>\n",
       "      <td>0.943</td>\n",
       "      <td>0.875</td>\n",
       "      <td>938.0</td>\n",
       "      <td>1267.0</td>\n",
       "    </tr>\n",
       "  </tbody>\n",
       "</table>\n",
       "</div>"
      ],
      "text/plain": [
       "        Algorithm  Fine_Tuning  R2_Train  R2_Test  MAE_Train  MAE_Test\n",
       "0  Decision trees         True     0.943    0.875      938.0    1267.0"
      ]
     },
     "execution_count": 127,
     "metadata": {},
     "output_type": "execute_result"
    }
   ],
   "source": [
    "DTBestResults = rowOfResults('Decision trees', True, R2BestDTTrain, R2BestDTTest, MAEBestDTTrain, MAEBestDTTest)\n",
    "DTBestResults"
   ]
  },
  {
   "cell_type": "code",
   "execution_count": 128,
   "metadata": {},
   "outputs": [
    {
     "data": {
      "text/html": [
       "<div>\n",
       "<style scoped>\n",
       "    .dataframe tbody tr th:only-of-type {\n",
       "        vertical-align: middle;\n",
       "    }\n",
       "\n",
       "    .dataframe tbody tr th {\n",
       "        vertical-align: top;\n",
       "    }\n",
       "\n",
       "    .dataframe thead th {\n",
       "        text-align: right;\n",
       "    }\n",
       "</style>\n",
       "<table border=\"1\" class=\"dataframe\">\n",
       "  <thead>\n",
       "    <tr style=\"text-align: right;\">\n",
       "      <th></th>\n",
       "      <th>Algorithm</th>\n",
       "      <th>Fine_Tuning</th>\n",
       "      <th>R2_Train</th>\n",
       "      <th>R2_Test</th>\n",
       "      <th>MAE_Train</th>\n",
       "      <th>MAE_Test</th>\n",
       "    </tr>\n",
       "  </thead>\n",
       "  <tbody>\n",
       "    <tr>\n",
       "      <th>0</th>\n",
       "      <td>Decision trees</td>\n",
       "      <td>0.0</td>\n",
       "      <td>0.990</td>\n",
       "      <td>0.840</td>\n",
       "      <td>269.0</td>\n",
       "      <td>1307.0</td>\n",
       "    </tr>\n",
       "    <tr>\n",
       "      <th>0</th>\n",
       "      <td>Decision trees</td>\n",
       "      <td>1.0</td>\n",
       "      <td>0.943</td>\n",
       "      <td>0.875</td>\n",
       "      <td>938.0</td>\n",
       "      <td>1267.0</td>\n",
       "    </tr>\n",
       "  </tbody>\n",
       "</table>\n",
       "</div>"
      ],
      "text/plain": [
       "        Algorithm  Fine_Tuning  R2_Train  R2_Test  MAE_Train  MAE_Test\n",
       "0  Decision trees          0.0     0.990    0.840      269.0    1307.0\n",
       "0  Decision trees          1.0     0.943    0.875      938.0    1267.0"
      ]
     },
     "execution_count": 128,
     "metadata": {},
     "output_type": "execute_result"
    }
   ],
   "source": [
    "modelizationResults = modelizationResults.append(DTBestResults)\n",
    "modelizationResults"
   ]
  },
  {
   "cell_type": "markdown",
   "metadata": {},
   "source": [
    "We have improved test results but losing precision in test data."
   ]
  },
  {
   "cell_type": "markdown",
   "metadata": {},
   "source": [
    "## Charting results"
   ]
  },
  {
   "cell_type": "code",
   "execution_count": 31,
   "metadata": {
    "scrolled": false
   },
   "outputs": [
    {
     "data": {
      "image/png": "[encoded data removed]",
      "text/plain": [
       "<Figure size 432x288 with 1 Axes>"
      ]
     },
     "metadata": {},
     "output_type": "display_data"
    }
   ],
   "source": [
    "chartResults(y=y_train, predBest=predBestDTTrain, trainTest='Train', model='Decision trees')"
   ]
  },
  {
   "cell_type": "code",
   "execution_count": 32,
   "metadata": {
    "scrolled": false
   },
   "outputs": [
    {
     "data": {
      "image/png": "[encoded data removed]",
      "text/plain": [
       "<Figure size 432x288 with 1 Axes>"
      ]
     },
     "metadata": {},
     "output_type": "display_data"
    }
   ],
   "source": [
    "chartResults(y=y_test, predBest=predBestDTTest, trainTest='Test', model='Decision trees')"
   ]
  },
  {
   "cell_type": "code",
   "execution_count": 33,
   "metadata": {
    "scrolled": true
   },
   "outputs": [
    {
     "data": {
      "text/plain": [
       "<BarContainer object of 9 artists>"
      ]
     },
     "execution_count": 33,
     "metadata": {},
     "output_type": "execute_result"
    },
    {
     "data": {
      "image/png": "[encoded data removed]",
      "text/plain": [
       "<Figure size 432x288 with 1 Axes>"
      ]
     },
     "metadata": {},
     "output_type": "display_data"
    }
   ],
   "source": [
    "plt.barh(X_train.columns, bestDecisionTree.feature_importances_)"
   ]
  },
  {
   "cell_type": "markdown",
   "metadata": {},
   "source": [
    "### Saving the model for later use"
   ]
  },
  {
   "cell_type": "code",
   "execution_count": 34,
   "metadata": {},
   "outputs": [
    {
     "data": {
      "text/plain": [
       "['../output/bestDecisionTree.pkl']"
      ]
     },
     "execution_count": 34,
     "metadata": {},
     "output_type": "execute_result"
    }
   ],
   "source": [
    "joblib.dump(bestDecisionTree, filename='../output/bestDecisionTree.pkl')"
   ]
  },
  {
   "cell_type": "markdown",
   "metadata": {},
   "source": [
    "***"
   ]
  },
  {
   "cell_type": "markdown",
   "metadata": {},
   "source": [
    "# Random forest\n",
    "This will be the second algorithm we are going to use in order to improve results obtained with Decision Trees. Let's try to model without hyperparamenter tuning."
   ]
  },
  {
   "cell_type": "code",
   "execution_count": 35,
   "metadata": {
    "scrolled": true
   },
   "outputs": [
    {
     "name": "stderr",
     "output_type": "stream",
     "text": [
      "[Parallel(n_jobs=-1)]: Done   6 out of  10 | elapsed:    1.1s remaining:    0.7s\n",
      "[Parallel(n_jobs=-1)]: Done  10 out of  10 | elapsed:    1.6s finished\n"
     ]
    }
   ],
   "source": [
    "regrRF = RandomForestRegressor(n_jobs=-1,\n",
    "                               verbose=1).fit(X_train,\n",
    "                                              y_train)"
   ]
  },
  {
   "cell_type": "code",
   "execution_count": 36,
   "metadata": {
    "scrolled": false
   },
   "outputs": [
    {
     "name": "stderr",
     "output_type": "stream",
     "text": [
      "[Parallel(n_jobs=8)]: Done   6 out of  10 | elapsed:    0.2s remaining:    0.2s\n",
      "[Parallel(n_jobs=8)]: Done  10 out of  10 | elapsed:    0.3s finished\n",
      "[Parallel(n_jobs=8)]: Done   6 out of  10 | elapsed:    0.1s remaining:    0.0s\n",
      "[Parallel(n_jobs=8)]: Done  10 out of  10 | elapsed:    0.1s finished\n"
     ]
    }
   ],
   "source": [
    "predRFTrain = regrRF.predict(X_train)\n",
    "predRFTest = regrRF.predict(X_test)"
   ]
  },
  {
   "cell_type": "markdown",
   "metadata": {},
   "source": [
    "### Distribution of predicted prices"
   ]
  },
  {
   "cell_type": "code",
   "execution_count": 37,
   "metadata": {
    "scrolled": true
   },
   "outputs": [
    {
     "data": {
      "image/png": "[encoded data removed]",
      "text/plain": [
       "<Figure size 864x288 with 2 Axes>"
      ]
     },
     "metadata": {},
     "output_type": "display_data"
    }
   ],
   "source": [
    "histResults(predRFTrain, predRFTest)"
   ]
  },
  {
   "cell_type": "markdown",
   "metadata": {},
   "source": [
    "### Model scores:  \n",
    "* $R^2$ Score:"
   ]
  },
  {
   "cell_type": "code",
   "execution_count": 129,
   "metadata": {},
   "outputs": [
    {
     "name": "stdout",
     "output_type": "stream",
     "text": [
      "R2 Train: 0.975 \n",
      "R2 Test:  0.893\n"
     ]
    }
   ],
   "source": [
    "R2RFTrain = r2_score(y_train, predRFTrain)\n",
    "R2RFTest = r2_score(y_test, predRFTest)\n",
    "print('R2 Train: %.3f' % R2RFTrain, '\\nR2 Test:  %.3f' % R2RFTest)"
   ]
  },
  {
   "cell_type": "markdown",
   "metadata": {},
   "source": [
    "* MAE Score:"
   ]
  },
  {
   "cell_type": "code",
   "execution_count": 130,
   "metadata": {
    "scrolled": true
   },
   "outputs": [
    {
     "name": "stdout",
     "output_type": "stream",
     "text": [
      "MAE Train: 575.693907 \n",
      "MSE Test: 1,154.143040\n"
     ]
    }
   ],
   "source": [
    "MAERFTrain = mean_absolute_error(y_train, predRFTrain)\n",
    "MAERFTest = mean_absolute_error(y_test, predRFTest)\n",
    "print('MAE Train:', format(MAERFTrain, ',f'), '\\nMSE Test:', format(MAERFTest, ',f'))"
   ]
  },
  {
   "cell_type": "code",
   "execution_count": 131,
   "metadata": {
    "scrolled": true
   },
   "outputs": [
    {
     "data": {
      "text/html": [
       "<div>\n",
       "<style scoped>\n",
       "    .dataframe tbody tr th:only-of-type {\n",
       "        vertical-align: middle;\n",
       "    }\n",
       "\n",
       "    .dataframe tbody tr th {\n",
       "        vertical-align: top;\n",
       "    }\n",
       "\n",
       "    .dataframe thead th {\n",
       "        text-align: right;\n",
       "    }\n",
       "</style>\n",
       "<table border=\"1\" class=\"dataframe\">\n",
       "  <thead>\n",
       "    <tr style=\"text-align: right;\">\n",
       "      <th></th>\n",
       "      <th>Algorithm</th>\n",
       "      <th>Fine_Tuning</th>\n",
       "      <th>R2_Train</th>\n",
       "      <th>R2_Test</th>\n",
       "      <th>MAE_Train</th>\n",
       "      <th>MAE_Test</th>\n",
       "    </tr>\n",
       "  </thead>\n",
       "  <tbody>\n",
       "    <tr>\n",
       "      <th>0</th>\n",
       "      <td>Random Forest</td>\n",
       "      <td>False</td>\n",
       "      <td>0.975</td>\n",
       "      <td>0.893</td>\n",
       "      <td>576.0</td>\n",
       "      <td>1154.0</td>\n",
       "    </tr>\n",
       "  </tbody>\n",
       "</table>\n",
       "</div>"
      ],
      "text/plain": [
       "       Algorithm  Fine_Tuning  R2_Train  R2_Test  MAE_Train  MAE_Test\n",
       "0  Random Forest        False     0.975    0.893      576.0    1154.0"
      ]
     },
     "execution_count": 131,
     "metadata": {},
     "output_type": "execute_result"
    }
   ],
   "source": [
    "RFResults = rowOfResults('Random Forest', False, R2RFTrain, R2RFTest, MAERFTrain, MAERFTest)\n",
    "RFResults"
   ]
  },
  {
   "cell_type": "code",
   "execution_count": 132,
   "metadata": {
    "scrolled": false
   },
   "outputs": [
    {
     "data": {
      "text/html": [
       "<div>\n",
       "<style scoped>\n",
       "    .dataframe tbody tr th:only-of-type {\n",
       "        vertical-align: middle;\n",
       "    }\n",
       "\n",
       "    .dataframe tbody tr th {\n",
       "        vertical-align: top;\n",
       "    }\n",
       "\n",
       "    .dataframe thead th {\n",
       "        text-align: right;\n",
       "    }\n",
       "</style>\n",
       "<table border=\"1\" class=\"dataframe\">\n",
       "  <thead>\n",
       "    <tr style=\"text-align: right;\">\n",
       "      <th></th>\n",
       "      <th>Algorithm</th>\n",
       "      <th>Fine_Tuning</th>\n",
       "      <th>R2_Train</th>\n",
       "      <th>R2_Test</th>\n",
       "      <th>MAE_Train</th>\n",
       "      <th>MAE_Test</th>\n",
       "    </tr>\n",
       "  </thead>\n",
       "  <tbody>\n",
       "    <tr>\n",
       "      <th>0</th>\n",
       "      <td>Decision trees</td>\n",
       "      <td>0.0</td>\n",
       "      <td>0.990</td>\n",
       "      <td>0.840</td>\n",
       "      <td>269.0</td>\n",
       "      <td>1307.0</td>\n",
       "    </tr>\n",
       "    <tr>\n",
       "      <th>0</th>\n",
       "      <td>Decision trees</td>\n",
       "      <td>1.0</td>\n",
       "      <td>0.943</td>\n",
       "      <td>0.875</td>\n",
       "      <td>938.0</td>\n",
       "      <td>1267.0</td>\n",
       "    </tr>\n",
       "    <tr>\n",
       "      <th>0</th>\n",
       "      <td>Random Forest</td>\n",
       "      <td>0.0</td>\n",
       "      <td>0.975</td>\n",
       "      <td>0.893</td>\n",
       "      <td>576.0</td>\n",
       "      <td>1154.0</td>\n",
       "    </tr>\n",
       "  </tbody>\n",
       "</table>\n",
       "</div>"
      ],
      "text/plain": [
       "        Algorithm  Fine_Tuning  R2_Train  R2_Test  MAE_Train  MAE_Test\n",
       "0  Decision trees          0.0     0.990    0.840      269.0    1307.0\n",
       "0  Decision trees          1.0     0.943    0.875      938.0    1267.0\n",
       "0   Random Forest          0.0     0.975    0.893      576.0    1154.0"
      ]
     },
     "execution_count": 132,
     "metadata": {},
     "output_type": "execute_result"
    }
   ],
   "source": [
    "modelizationResults = modelizationResults.append(RFResults)\n",
    "modelizationResults"
   ]
  },
  {
   "cell_type": "markdown",
   "metadata": {},
   "source": [
    "### Hyperparameter tuning\n",
    "Test the optimum number of features"
   ]
  },
  {
   "cell_type": "code",
   "execution_count": 42,
   "metadata": {},
   "outputs": [],
   "source": [
    "np.random.seed(123)\n",
    "scores = {}\n",
    "\n",
    "rf = None\n",
    "\n",
    "for max_features in [2,4,8, 'auto', None]:\n",
    "    if rf is None:\n",
    "        rf = RandomForestRegressor(n_estimators=50,\n",
    "                                   max_features=max_features)\n",
    "    else:\n",
    "        rf.warm_start = False\n",
    "        rf.max_features = max_features\n",
    "    \n",
    "    rf = rf.fit(X_train, y_train)\n",
    "    scores[max_features] = rf.score(X_test, y_test)"
   ]
  },
  {
   "cell_type": "markdown",
   "metadata": {},
   "source": [
    "4 is the best number of features to use in model"
   ]
  },
  {
   "cell_type": "code",
   "execution_count": 43,
   "metadata": {
    "scrolled": false
   },
   "outputs": [
    {
     "data": {
      "text/plain": [
       "<matplotlib.lines.Line2D at 0x7f35c03ce5f8>"
      ]
     },
     "execution_count": 43,
     "metadata": {},
     "output_type": "execute_result"
    },
    {
     "data": {
      "image/png": "[encoded data removed]",
      "text/plain": [
       "<Figure size 432x288 with 1 Axes>"
      ]
     },
     "metadata": {},
     "output_type": "display_data"
    }
   ],
   "source": [
    "plt.plot([2, 4, 8, 'Auto', 'None'], scores.values())\n",
    "plt.axhline(bestDecisionTree.score(X_test, y_test), linestyle='dashed', color='red')"
   ]
  },
  {
   "cell_type": "code",
   "execution_count": 44,
   "metadata": {},
   "outputs": [],
   "source": [
    "paramsRF = {\n",
    "        'n_estimators': [50, 100, 200],\n",
    "        'max_features': [4],\n",
    "        'max_depth': list(range(1, 10 + 1)),\n",
    "        'min_samples_split': [5, 10, 15],\n",
    "        'min_samples_leaf':[1]\n",
    "        }"
   ]
  },
  {
   "cell_type": "markdown",
   "metadata": {},
   "source": [
    "This param grid takes 1 hours"
   ]
  },
  {
   "cell_type": "code",
   "execution_count": 45,
   "metadata": {},
   "outputs": [
    {
     "name": "stdout",
     "output_type": "stream",
     "text": [
      "Fitting 10 folds for each of 90 candidates, totalling 900 fits\n"
     ]
    },
    {
     "name": "stderr",
     "output_type": "stream",
     "text": [
      "[Parallel(n_jobs=-1)]: Done  34 tasks      | elapsed:   31.0s\n",
      "[Parallel(n_jobs=-1)]: Done 184 tasks      | elapsed:  4.0min\n",
      "[Parallel(n_jobs=-1)]: Done 434 tasks      | elapsed: 15.4min\n",
      "[Parallel(n_jobs=-1)]: Done 784 tasks      | elapsed: 41.0min\n",
      "[Parallel(n_jobs=-1)]: Done 900 out of 900 | elapsed: 51.7min finished\n"
     ]
    }
   ],
   "source": [
    "cvRF = GridSearchCV(\n",
    "        estimator=RandomForestRegressor(oob_score=True),\n",
    "        param_grid=paramsRF,\n",
    "        n_jobs=-1,\n",
    "        cv=10,\n",
    "        verbose=1,\n",
    "        return_train_score=True).fit(X_train, y_train)"
   ]
  },
  {
   "cell_type": "code",
   "execution_count": 46,
   "metadata": {},
   "outputs": [
    {
     "data": {
      "text/plain": [
       "{'max_depth': 10,\n",
       " 'max_features': 4,\n",
       " 'min_samples_leaf': 1,\n",
       " 'min_samples_split': 5,\n",
       " 'n_estimators': 200}"
      ]
     },
     "execution_count": 46,
     "metadata": {},
     "output_type": "execute_result"
    }
   ],
   "source": [
    "cvRF.best_params_"
   ]
  },
  {
   "cell_type": "code",
   "execution_count": 47,
   "metadata": {},
   "outputs": [],
   "source": [
    "bestRandomForest = RandomForestRegressor(max_depth=cvRF.best_params_['max_depth'], \n",
    "                                        max_features=cvRF.best_params_['max_features'], \n",
    "                                        min_samples_leaf=cvRF.best_params_['min_samples_leaf'], \n",
    "                                        min_samples_split=cvRF.best_params_['min_samples_split'], \n",
    "                                        n_estimators=cvRF.best_params_['n_estimators']).fit(X_train, y_train)"
   ]
  },
  {
   "cell_type": "code",
   "execution_count": 48,
   "metadata": {},
   "outputs": [],
   "source": [
    "predBestRFTrain = bestRandomForest.predict(X_train)\n",
    "predBestRFTest = bestRandomForest.predict(X_test)"
   ]
  },
  {
   "cell_type": "code",
   "execution_count": 49,
   "metadata": {
    "scrolled": false
   },
   "outputs": [
    {
     "data": {
      "image/png": "[encoded data removed]",
      "text/plain": [
       "<Figure size 864x288 with 2 Axes>"
      ]
     },
     "metadata": {},
     "output_type": "display_data"
    }
   ],
   "source": [
    "histResults(predBestRFTrain, predBestRFTest)"
   ]
  },
  {
   "cell_type": "markdown",
   "metadata": {},
   "source": [
    "### Model scores:  \n",
    "* $R^2$ Score:"
   ]
  },
  {
   "cell_type": "code",
   "execution_count": 133,
   "metadata": {
    "scrolled": true
   },
   "outputs": [
    {
     "name": "stdout",
     "output_type": "stream",
     "text": [
      "R2 Train: 0.897 \n",
      "R2 Test: 0.878\n"
     ]
    }
   ],
   "source": [
    "R2BestRFTrain = r2_score(y_train, predBestRFTrain)\n",
    "R2BestRFTest = r2_score(y_test, predBestRFTest)\n",
    "print('R2 Train: %.3f' % R2BestRFTrain, '\\nR2 Test: %.3f' % R2BestRFTest)"
   ]
  },
  {
   "cell_type": "markdown",
   "metadata": {},
   "source": [
    "* MAE Score:"
   ]
  },
  {
   "cell_type": "code",
   "execution_count": 134,
   "metadata": {
    "scrolled": false
   },
   "outputs": [
    {
     "name": "stdout",
     "output_type": "stream",
     "text": [
      "MAE Train: 1,362.776279 \n",
      "MAE Test: 1,414.550980\n"
     ]
    }
   ],
   "source": [
    "MAEBestRFTrain = mean_absolute_error(y_train, predBestRFTrain)\n",
    "MAEBestRFTest = mean_absolute_error(y_test, predBestRFTest)\n",
    "print('MAE Train:', format(MAEBestRFTrain, ',f'), '\\nMAE Test:', format(MAEBestRFTest, ',f'))"
   ]
  },
  {
   "cell_type": "code",
   "execution_count": 135,
   "metadata": {
    "scrolled": false
   },
   "outputs": [
    {
     "data": {
      "text/html": [
       "<div>\n",
       "<style scoped>\n",
       "    .dataframe tbody tr th:only-of-type {\n",
       "        vertical-align: middle;\n",
       "    }\n",
       "\n",
       "    .dataframe tbody tr th {\n",
       "        vertical-align: top;\n",
       "    }\n",
       "\n",
       "    .dataframe thead th {\n",
       "        text-align: right;\n",
       "    }\n",
       "</style>\n",
       "<table border=\"1\" class=\"dataframe\">\n",
       "  <thead>\n",
       "    <tr style=\"text-align: right;\">\n",
       "      <th></th>\n",
       "      <th>Algorithm</th>\n",
       "      <th>Fine_Tuning</th>\n",
       "      <th>R2_Train</th>\n",
       "      <th>R2_Test</th>\n",
       "      <th>MAE_Train</th>\n",
       "      <th>MAE_Test</th>\n",
       "    </tr>\n",
       "  </thead>\n",
       "  <tbody>\n",
       "    <tr>\n",
       "      <th>0</th>\n",
       "      <td>Random Forest</td>\n",
       "      <td>True</td>\n",
       "      <td>0.897</td>\n",
       "      <td>0.878</td>\n",
       "      <td>1363.0</td>\n",
       "      <td>1415.0</td>\n",
       "    </tr>\n",
       "  </tbody>\n",
       "</table>\n",
       "</div>"
      ],
      "text/plain": [
       "       Algorithm  Fine_Tuning  R2_Train  R2_Test  MAE_Train  MAE_Test\n",
       "0  Random Forest         True     0.897    0.878     1363.0    1415.0"
      ]
     },
     "execution_count": 135,
     "metadata": {},
     "output_type": "execute_result"
    }
   ],
   "source": [
    "RFBestResults = rowOfResults('Random Forest', True, R2BestRFTrain, R2BestRFTest, MAEBestRFTrain, MAEBestRFTest)\n",
    "RFBestResults"
   ]
  },
  {
   "cell_type": "code",
   "execution_count": 136,
   "metadata": {
    "scrolled": false
   },
   "outputs": [
    {
     "data": {
      "text/html": [
       "<div>\n",
       "<style scoped>\n",
       "    .dataframe tbody tr th:only-of-type {\n",
       "        vertical-align: middle;\n",
       "    }\n",
       "\n",
       "    .dataframe tbody tr th {\n",
       "        vertical-align: top;\n",
       "    }\n",
       "\n",
       "    .dataframe thead th {\n",
       "        text-align: right;\n",
       "    }\n",
       "</style>\n",
       "<table border=\"1\" class=\"dataframe\">\n",
       "  <thead>\n",
       "    <tr style=\"text-align: right;\">\n",
       "      <th></th>\n",
       "      <th>Algorithm</th>\n",
       "      <th>Fine_Tuning</th>\n",
       "      <th>R2_Train</th>\n",
       "      <th>R2_Test</th>\n",
       "      <th>MAE_Train</th>\n",
       "      <th>MAE_Test</th>\n",
       "    </tr>\n",
       "  </thead>\n",
       "  <tbody>\n",
       "    <tr>\n",
       "      <th>0</th>\n",
       "      <td>Decision trees</td>\n",
       "      <td>0.0</td>\n",
       "      <td>0.990</td>\n",
       "      <td>0.840</td>\n",
       "      <td>269.0</td>\n",
       "      <td>1307.0</td>\n",
       "    </tr>\n",
       "    <tr>\n",
       "      <th>0</th>\n",
       "      <td>Decision trees</td>\n",
       "      <td>1.0</td>\n",
       "      <td>0.943</td>\n",
       "      <td>0.875</td>\n",
       "      <td>938.0</td>\n",
       "      <td>1267.0</td>\n",
       "    </tr>\n",
       "    <tr>\n",
       "      <th>0</th>\n",
       "      <td>Random Forest</td>\n",
       "      <td>0.0</td>\n",
       "      <td>0.975</td>\n",
       "      <td>0.893</td>\n",
       "      <td>576.0</td>\n",
       "      <td>1154.0</td>\n",
       "    </tr>\n",
       "    <tr>\n",
       "      <th>0</th>\n",
       "      <td>Random Forest</td>\n",
       "      <td>1.0</td>\n",
       "      <td>0.897</td>\n",
       "      <td>0.878</td>\n",
       "      <td>1363.0</td>\n",
       "      <td>1415.0</td>\n",
       "    </tr>\n",
       "  </tbody>\n",
       "</table>\n",
       "</div>"
      ],
      "text/plain": [
       "        Algorithm  Fine_Tuning  R2_Train  R2_Test  MAE_Train  MAE_Test\n",
       "0  Decision trees          0.0     0.990    0.840      269.0    1307.0\n",
       "0  Decision trees          1.0     0.943    0.875      938.0    1267.0\n",
       "0   Random Forest          0.0     0.975    0.893      576.0    1154.0\n",
       "0   Random Forest          1.0     0.897    0.878     1363.0    1415.0"
      ]
     },
     "execution_count": 136,
     "metadata": {},
     "output_type": "execute_result"
    }
   ],
   "source": [
    "modelizationResults = modelizationResults.append(RFBestResults)\n",
    "modelizationResults"
   ]
  },
  {
   "cell_type": "markdown",
   "metadata": {},
   "source": [
    "## Charting results"
   ]
  },
  {
   "cell_type": "code",
   "execution_count": 54,
   "metadata": {
    "scrolled": true
   },
   "outputs": [
    {
     "data": {
      "image/png": "[encoded data removed]",
      "text/plain": [
       "<Figure size 432x288 with 1 Axes>"
      ]
     },
     "metadata": {},
     "output_type": "display_data"
    }
   ],
   "source": [
    "chartResults(y=y_train, predBest=predBestRFTrain, trainTest='Train', model='Random Forest')"
   ]
  },
  {
   "cell_type": "code",
   "execution_count": 55,
   "metadata": {
    "scrolled": true
   },
   "outputs": [
    {
     "data": {
      "image/png": "[encoded data removed]",
      "text/plain": [
       "<Figure size 432x288 with 1 Axes>"
      ]
     },
     "metadata": {},
     "output_type": "display_data"
    }
   ],
   "source": [
    "chartResults(y=y_test, predBest=predBestRFTest, trainTest='Test', model='Random Forest')"
   ]
  },
  {
   "cell_type": "code",
   "execution_count": 56,
   "metadata": {
    "scrolled": false
   },
   "outputs": [
    {
     "data": {
      "text/plain": [
       "<BarContainer object of 9 artists>"
      ]
     },
     "execution_count": 56,
     "metadata": {},
     "output_type": "execute_result"
    },
    {
     "data": {
      "image/png": "[encoded data removed]",
      "text/plain": [
       "<Figure size 432x288 with 1 Axes>"
      ]
     },
     "metadata": {},
     "output_type": "display_data"
    }
   ],
   "source": [
    "plt.barh(X_train.columns, bestRandomForest.feature_importances_)"
   ]
  },
  {
   "cell_type": "markdown",
   "metadata": {},
   "source": [
    "### Saving the model for later use"
   ]
  },
  {
   "cell_type": "code",
   "execution_count": 57,
   "metadata": {
    "scrolled": false
   },
   "outputs": [
    {
     "data": {
      "text/plain": [
       "['../output/bestRandomForest.pkl']"
      ]
     },
     "execution_count": 57,
     "metadata": {},
     "output_type": "execute_result"
    }
   ],
   "source": [
    "joblib.dump(bestRandomForest, filename='../output/bestRandomForest.pkl')"
   ]
  },
  {
   "cell_type": "markdown",
   "metadata": {},
   "source": [
    "***"
   ]
  },
  {
   "cell_type": "markdown",
   "metadata": {},
   "source": [
    "# K-nearest neighbours"
   ]
  },
  {
   "cell_type": "markdown",
   "metadata": {},
   "source": [
    "First try, no hyperparameter tuning"
   ]
  },
  {
   "cell_type": "code",
   "execution_count": 58,
   "metadata": {},
   "outputs": [],
   "source": [
    "regrKNN = neighbors.KNeighborsRegressor(n_jobs=-1).fit(X_train, y_train)"
   ]
  },
  {
   "cell_type": "code",
   "execution_count": 59,
   "metadata": {
    "scrolled": false
   },
   "outputs": [],
   "source": [
    "predKNNTrain = regrKNN.predict(X_train)\n",
    "predKNNTest = regrKNN.predict(X_test)"
   ]
  },
  {
   "cell_type": "markdown",
   "metadata": {},
   "source": [
    "### Distribution of predicted prices"
   ]
  },
  {
   "cell_type": "code",
   "execution_count": 60,
   "metadata": {
    "scrolled": true
   },
   "outputs": [
    {
     "data": {
      "image/png": "[encoded data removed]",
      "text/plain": [
       "<Figure size 864x288 with 2 Axes>"
      ]
     },
     "metadata": {},
     "output_type": "display_data"
    }
   ],
   "source": [
    "histResults(predKNNTrain, predKNNTest)"
   ]
  },
  {
   "cell_type": "markdown",
   "metadata": {},
   "source": [
    "### Model score:  \n",
    "* $R^2$ Score:"
   ]
  },
  {
   "cell_type": "code",
   "execution_count": 137,
   "metadata": {},
   "outputs": [
    {
     "name": "stdout",
     "output_type": "stream",
     "text": [
      "R2 Train: 0.900 \n",
      "R2 Test:  0.837\n"
     ]
    }
   ],
   "source": [
    "R2KNNTrain = r2_score(y_train, predKNNTrain)\n",
    "R2KNNTest = r2_score(y_test, predKNNTest)\n",
    "print('R2 Train: %.3f' % R2KNNTrain, '\\nR2 Test:  %.3f' % R2KNNTest)"
   ]
  },
  {
   "cell_type": "markdown",
   "metadata": {},
   "source": [
    "* MAE Score:"
   ]
  },
  {
   "cell_type": "code",
   "execution_count": 138,
   "metadata": {
    "scrolled": false
   },
   "outputs": [
    {
     "name": "stdout",
     "output_type": "stream",
     "text": [
      "MAE Train: 1,137.888419 \n",
      "MAE Test: 1,424.563685\n"
     ]
    }
   ],
   "source": [
    "MAEKNNTrain = mean_absolute_error(y_train, predKNNTrain)\n",
    "MAEKNNTest = mean_absolute_error(y_test, predKNNTest)\n",
    "print('MAE Train:', format(MAEKNNTrain, ',f'), '\\nMAE Test:', format(MAEKNNTest, ',f'))"
   ]
  },
  {
   "cell_type": "code",
   "execution_count": 139,
   "metadata": {
    "scrolled": true
   },
   "outputs": [
    {
     "data": {
      "text/html": [
       "<div>\n",
       "<style scoped>\n",
       "    .dataframe tbody tr th:only-of-type {\n",
       "        vertical-align: middle;\n",
       "    }\n",
       "\n",
       "    .dataframe tbody tr th {\n",
       "        vertical-align: top;\n",
       "    }\n",
       "\n",
       "    .dataframe thead th {\n",
       "        text-align: right;\n",
       "    }\n",
       "</style>\n",
       "<table border=\"1\" class=\"dataframe\">\n",
       "  <thead>\n",
       "    <tr style=\"text-align: right;\">\n",
       "      <th></th>\n",
       "      <th>Algorithm</th>\n",
       "      <th>Fine_Tuning</th>\n",
       "      <th>R2_Train</th>\n",
       "      <th>R2_Test</th>\n",
       "      <th>MAE_Train</th>\n",
       "      <th>MAE_Test</th>\n",
       "    </tr>\n",
       "  </thead>\n",
       "  <tbody>\n",
       "    <tr>\n",
       "      <th>0</th>\n",
       "      <td>K-nearest neighbours</td>\n",
       "      <td>False</td>\n",
       "      <td>0.9</td>\n",
       "      <td>0.837</td>\n",
       "      <td>1138.0</td>\n",
       "      <td>1425.0</td>\n",
       "    </tr>\n",
       "  </tbody>\n",
       "</table>\n",
       "</div>"
      ],
      "text/plain": [
       "              Algorithm  Fine_Tuning  R2_Train  R2_Test  MAE_Train  MAE_Test\n",
       "0  K-nearest neighbours        False       0.9    0.837     1138.0    1425.0"
      ]
     },
     "execution_count": 139,
     "metadata": {},
     "output_type": "execute_result"
    }
   ],
   "source": [
    "KNNResults = rowOfResults('K-nearest neighbours', False, R2KNNTrain, R2KNNTest, MAEKNNTrain, MAEKNNTest)\n",
    "KNNResults"
   ]
  },
  {
   "cell_type": "code",
   "execution_count": 140,
   "metadata": {},
   "outputs": [
    {
     "data": {
      "text/html": [
       "<div>\n",
       "<style scoped>\n",
       "    .dataframe tbody tr th:only-of-type {\n",
       "        vertical-align: middle;\n",
       "    }\n",
       "\n",
       "    .dataframe tbody tr th {\n",
       "        vertical-align: top;\n",
       "    }\n",
       "\n",
       "    .dataframe thead th {\n",
       "        text-align: right;\n",
       "    }\n",
       "</style>\n",
       "<table border=\"1\" class=\"dataframe\">\n",
       "  <thead>\n",
       "    <tr style=\"text-align: right;\">\n",
       "      <th></th>\n",
       "      <th>Algorithm</th>\n",
       "      <th>Fine_Tuning</th>\n",
       "      <th>R2_Train</th>\n",
       "      <th>R2_Test</th>\n",
       "      <th>MAE_Train</th>\n",
       "      <th>MAE_Test</th>\n",
       "    </tr>\n",
       "  </thead>\n",
       "  <tbody>\n",
       "    <tr>\n",
       "      <th>0</th>\n",
       "      <td>Decision trees</td>\n",
       "      <td>0.0</td>\n",
       "      <td>0.990</td>\n",
       "      <td>0.840</td>\n",
       "      <td>269.0</td>\n",
       "      <td>1307.0</td>\n",
       "    </tr>\n",
       "    <tr>\n",
       "      <th>0</th>\n",
       "      <td>Decision trees</td>\n",
       "      <td>1.0</td>\n",
       "      <td>0.943</td>\n",
       "      <td>0.875</td>\n",
       "      <td>938.0</td>\n",
       "      <td>1267.0</td>\n",
       "    </tr>\n",
       "    <tr>\n",
       "      <th>0</th>\n",
       "      <td>Random Forest</td>\n",
       "      <td>0.0</td>\n",
       "      <td>0.975</td>\n",
       "      <td>0.893</td>\n",
       "      <td>576.0</td>\n",
       "      <td>1154.0</td>\n",
       "    </tr>\n",
       "    <tr>\n",
       "      <th>0</th>\n",
       "      <td>Random Forest</td>\n",
       "      <td>1.0</td>\n",
       "      <td>0.897</td>\n",
       "      <td>0.878</td>\n",
       "      <td>1363.0</td>\n",
       "      <td>1415.0</td>\n",
       "    </tr>\n",
       "    <tr>\n",
       "      <th>0</th>\n",
       "      <td>K-nearest neighbours</td>\n",
       "      <td>0.0</td>\n",
       "      <td>0.900</td>\n",
       "      <td>0.837</td>\n",
       "      <td>1138.0</td>\n",
       "      <td>1425.0</td>\n",
       "    </tr>\n",
       "  </tbody>\n",
       "</table>\n",
       "</div>"
      ],
      "text/plain": [
       "              Algorithm  Fine_Tuning  R2_Train  R2_Test  MAE_Train  MAE_Test\n",
       "0        Decision trees          0.0     0.990    0.840      269.0    1307.0\n",
       "0        Decision trees          1.0     0.943    0.875      938.0    1267.0\n",
       "0         Random Forest          0.0     0.975    0.893      576.0    1154.0\n",
       "0         Random Forest          1.0     0.897    0.878     1363.0    1415.0\n",
       "0  K-nearest neighbours          0.0     0.900    0.837     1138.0    1425.0"
      ]
     },
     "execution_count": 140,
     "metadata": {},
     "output_type": "execute_result"
    }
   ],
   "source": [
    "modelizationResults = modelizationResults.append(KNNResults)\n",
    "modelizationResults"
   ]
  },
  {
   "cell_type": "markdown",
   "metadata": {},
   "source": [
    "### Hyperparameter tuning"
   ]
  },
  {
   "cell_type": "code",
   "execution_count": 65,
   "metadata": {},
   "outputs": [],
   "source": [
    "# Cross Validation\n",
    "paramsKNN = {\n",
    "        'n_neighbors': [5, 10, 20],\n",
    "        'weights': ['distance', 'uniform'],\n",
    "        'algorithm': ['auto'],\n",
    "        'leaf_size': [2,3,4],\n",
    "        }"
   ]
  },
  {
   "cell_type": "markdown",
   "metadata": {},
   "source": [
    "This params grid takes 1 hour"
   ]
  },
  {
   "cell_type": "code",
   "execution_count": 66,
   "metadata": {},
   "outputs": [
    {
     "name": "stdout",
     "output_type": "stream",
     "text": [
      "Fitting 10 folds for each of 18 candidates, totalling 180 fits\n"
     ]
    },
    {
     "name": "stderr",
     "output_type": "stream",
     "text": [
      "[Parallel(n_jobs=-1)]: Done  34 tasks      | elapsed: 10.4min\n",
      "[Parallel(n_jobs=-1)]: Done 180 out of 180 | elapsed: 41.1min finished\n"
     ]
    }
   ],
   "source": [
    "cvKNN = GridSearchCV(\n",
    "        estimator=neighbors.KNeighborsRegressor(),\n",
    "        param_grid=paramsKNN,\n",
    "        n_jobs=-1,\n",
    "        cv=10,\n",
    "        verbose=1,\n",
    "        return_train_score=True).fit(X_train, y_train)"
   ]
  },
  {
   "cell_type": "code",
   "execution_count": 67,
   "metadata": {},
   "outputs": [
    {
     "data": {
      "text/plain": [
       "{'algorithm': 'auto', 'leaf_size': 3, 'n_neighbors': 5, 'weights': 'distance'}"
      ]
     },
     "execution_count": 67,
     "metadata": {},
     "output_type": "execute_result"
    }
   ],
   "source": [
    "cvKNN.best_params_"
   ]
  },
  {
   "cell_type": "code",
   "execution_count": 68,
   "metadata": {},
   "outputs": [],
   "source": [
    "bestKNN = neighbors.KNeighborsRegressor(algorithm=cvKNN.best_params_['algorithm'], \n",
    "                                        leaf_size=cvKNN.best_params_['leaf_size'],\n",
    "                                        n_neighbors=cvKNN.best_params_['n_neighbors'],\n",
    "                                        weights=cvKNN.best_params_['weights']).fit(X_train, y_train)"
   ]
  },
  {
   "cell_type": "code",
   "execution_count": 69,
   "metadata": {},
   "outputs": [],
   "source": [
    "predBestKNNTrain = bestKNN.predict(X_train)\n",
    "predBestKNNTest = bestKNN.predict(X_test)"
   ]
  },
  {
   "cell_type": "code",
   "execution_count": 70,
   "metadata": {},
   "outputs": [
    {
     "data": {
      "text/plain": [
       "(array([  1.94950000e+04,   1.03550000e+04,   6.42900000e+03,\n",
       "          4.44400000e+03,   2.70400000e+03,   2.13900000e+03,\n",
       "          1.40700000e+03,   1.04400000e+03,   6.63000000e+02,\n",
       "          5.09000000e+02,   3.77000000e+02,   2.86000000e+02,\n",
       "          1.66000000e+02,   1.49000000e+02,   6.60000000e+01,\n",
       "          6.80000000e+01,   5.20000000e+01,   3.10000000e+01,\n",
       "          4.00000000e+01,   1.90000000e+01,   1.10000000e+01,\n",
       "          1.30000000e+01,   9.00000000e+00,   5.00000000e+00,\n",
       "          1.10000000e+01,   2.00000000e+00,   3.00000000e+00,\n",
       "          3.00000000e+00,   3.00000000e+00,   2.00000000e+00,\n",
       "          1.00000000e+00,   4.00000000e+00,   2.00000000e+00,\n",
       "          0.00000000e+00,   0.00000000e+00,   0.00000000e+00,\n",
       "          0.00000000e+00,   0.00000000e+00,   1.00000000e+00,\n",
       "          1.00000000e+00]),\n",
       " array([   219. ,   2713.5,   5208. ,   7702.5,  10197. ,  12691.5,\n",
       "         15186. ,  17680.5,  20175. ,  22669.5,  25164. ,  27658.5,\n",
       "         30153. ,  32647.5,  35142. ,  37636.5,  40131. ,  42625.5,\n",
       "         45120. ,  47614.5,  50109. ,  52603.5,  55098. ,  57592.5,\n",
       "         60087. ,  62581.5,  65076. ,  67570.5,  70065. ,  72559.5,\n",
       "         75054. ,  77548.5,  80043. ,  82537.5,  85032. ,  87526.5,\n",
       "         90021. ,  92515.5,  95010. ,  97504.5,  99999. ]),\n",
       " <a list of 40 Patch objects>)"
      ]
     },
     "execution_count": 70,
     "metadata": {},
     "output_type": "execute_result"
    },
    {
     "data": {
      "image/png": "[encoded data removed]",
      "text/plain": [
       "<Figure size 432x288 with 1 Axes>"
      ]
     },
     "metadata": {},
     "output_type": "display_data"
    }
   ],
   "source": [
    "plt.hist(predBestKNNTest, bins=40)"
   ]
  },
  {
   "cell_type": "markdown",
   "metadata": {},
   "source": [
    "### Model score:  \n",
    "* $R^2$ Score:"
   ]
  },
  {
   "cell_type": "code",
   "execution_count": 141,
   "metadata": {
    "scrolled": true
   },
   "outputs": [
    {
     "name": "stdout",
     "output_type": "stream",
     "text": [
      "R2 Train: 0.990 \n",
      "R2 Test: 0.850\n"
     ]
    }
   ],
   "source": [
    "R2BestKNNTrain = r2_score(y_train, predBestKNNTrain)\n",
    "R2BestKNNTest = r2_score(y_test, predBestKNNTest)\n",
    "print('R2 Train: %.3f' % R2BestKNNTrain, '\\nR2 Test: %.3f' % R2BestKNNTest)"
   ]
  },
  {
   "cell_type": "markdown",
   "metadata": {},
   "source": [
    "* MAE Score:"
   ]
  },
  {
   "cell_type": "code",
   "execution_count": 142,
   "metadata": {
    "scrolled": true
   },
   "outputs": [
    {
     "name": "stdout",
     "output_type": "stream",
     "text": [
      "MAE Train: 272.409318 \n",
      "MAE Test: 1,278.637815\n"
     ]
    }
   ],
   "source": [
    "MAEBestKNNTrain = mean_absolute_error(y_train, predBestKNNTrain)\n",
    "MAEBestKNNTest = mean_absolute_error(y_test, predBestKNNTest)\n",
    "print('MAE Train:', format(MAEBestKNNTrain, ',f'), '\\nMAE Test:', format(MAEBestKNNTest, ',f'))"
   ]
  },
  {
   "cell_type": "code",
   "execution_count": 143,
   "metadata": {
    "scrolled": true
   },
   "outputs": [
    {
     "data": {
      "text/html": [
       "<div>\n",
       "<style scoped>\n",
       "    .dataframe tbody tr th:only-of-type {\n",
       "        vertical-align: middle;\n",
       "    }\n",
       "\n",
       "    .dataframe tbody tr th {\n",
       "        vertical-align: top;\n",
       "    }\n",
       "\n",
       "    .dataframe thead th {\n",
       "        text-align: right;\n",
       "    }\n",
       "</style>\n",
       "<table border=\"1\" class=\"dataframe\">\n",
       "  <thead>\n",
       "    <tr style=\"text-align: right;\">\n",
       "      <th></th>\n",
       "      <th>Algorithm</th>\n",
       "      <th>Fine_Tuning</th>\n",
       "      <th>R2_Train</th>\n",
       "      <th>R2_Test</th>\n",
       "      <th>MAE_Train</th>\n",
       "      <th>MAE_Test</th>\n",
       "    </tr>\n",
       "  </thead>\n",
       "  <tbody>\n",
       "    <tr>\n",
       "      <th>0</th>\n",
       "      <td>K-nearest neighbours</td>\n",
       "      <td>True</td>\n",
       "      <td>0.99</td>\n",
       "      <td>0.85</td>\n",
       "      <td>272.0</td>\n",
       "      <td>1279.0</td>\n",
       "    </tr>\n",
       "  </tbody>\n",
       "</table>\n",
       "</div>"
      ],
      "text/plain": [
       "              Algorithm  Fine_Tuning  R2_Train  R2_Test  MAE_Train  MAE_Test\n",
       "0  K-nearest neighbours         True      0.99     0.85      272.0    1279.0"
      ]
     },
     "execution_count": 143,
     "metadata": {},
     "output_type": "execute_result"
    }
   ],
   "source": [
    "KNNBestResults = rowOfResults('K-nearest neighbours', True, R2BestKNNTrain, R2BestKNNTest, MAEBestKNNTrain, MAEBestKNNTest)\n",
    "KNNBestResults"
   ]
  },
  {
   "cell_type": "code",
   "execution_count": 144,
   "metadata": {},
   "outputs": [
    {
     "data": {
      "text/html": [
       "<div>\n",
       "<style scoped>\n",
       "    .dataframe tbody tr th:only-of-type {\n",
       "        vertical-align: middle;\n",
       "    }\n",
       "\n",
       "    .dataframe tbody tr th {\n",
       "        vertical-align: top;\n",
       "    }\n",
       "\n",
       "    .dataframe thead th {\n",
       "        text-align: right;\n",
       "    }\n",
       "</style>\n",
       "<table border=\"1\" class=\"dataframe\">\n",
       "  <thead>\n",
       "    <tr style=\"text-align: right;\">\n",
       "      <th></th>\n",
       "      <th>Algorithm</th>\n",
       "      <th>Fine_Tuning</th>\n",
       "      <th>R2_Train</th>\n",
       "      <th>R2_Test</th>\n",
       "      <th>MAE_Train</th>\n",
       "      <th>MAE_Test</th>\n",
       "    </tr>\n",
       "  </thead>\n",
       "  <tbody>\n",
       "    <tr>\n",
       "      <th>0</th>\n",
       "      <td>Decision trees</td>\n",
       "      <td>0.0</td>\n",
       "      <td>0.990</td>\n",
       "      <td>0.840</td>\n",
       "      <td>269.0</td>\n",
       "      <td>1307.0</td>\n",
       "    </tr>\n",
       "    <tr>\n",
       "      <th>0</th>\n",
       "      <td>Decision trees</td>\n",
       "      <td>1.0</td>\n",
       "      <td>0.943</td>\n",
       "      <td>0.875</td>\n",
       "      <td>938.0</td>\n",
       "      <td>1267.0</td>\n",
       "    </tr>\n",
       "    <tr>\n",
       "      <th>0</th>\n",
       "      <td>Random Forest</td>\n",
       "      <td>0.0</td>\n",
       "      <td>0.975</td>\n",
       "      <td>0.893</td>\n",
       "      <td>576.0</td>\n",
       "      <td>1154.0</td>\n",
       "    </tr>\n",
       "    <tr>\n",
       "      <th>0</th>\n",
       "      <td>Random Forest</td>\n",
       "      <td>1.0</td>\n",
       "      <td>0.897</td>\n",
       "      <td>0.878</td>\n",
       "      <td>1363.0</td>\n",
       "      <td>1415.0</td>\n",
       "    </tr>\n",
       "    <tr>\n",
       "      <th>0</th>\n",
       "      <td>K-nearest neighbours</td>\n",
       "      <td>0.0</td>\n",
       "      <td>0.900</td>\n",
       "      <td>0.837</td>\n",
       "      <td>1138.0</td>\n",
       "      <td>1425.0</td>\n",
       "    </tr>\n",
       "    <tr>\n",
       "      <th>0</th>\n",
       "      <td>K-nearest neighbours</td>\n",
       "      <td>1.0</td>\n",
       "      <td>0.990</td>\n",
       "      <td>0.850</td>\n",
       "      <td>272.0</td>\n",
       "      <td>1279.0</td>\n",
       "    </tr>\n",
       "  </tbody>\n",
       "</table>\n",
       "</div>"
      ],
      "text/plain": [
       "              Algorithm  Fine_Tuning  R2_Train  R2_Test  MAE_Train  MAE_Test\n",
       "0        Decision trees          0.0     0.990    0.840      269.0    1307.0\n",
       "0        Decision trees          1.0     0.943    0.875      938.0    1267.0\n",
       "0         Random Forest          0.0     0.975    0.893      576.0    1154.0\n",
       "0         Random Forest          1.0     0.897    0.878     1363.0    1415.0\n",
       "0  K-nearest neighbours          0.0     0.900    0.837     1138.0    1425.0\n",
       "0  K-nearest neighbours          1.0     0.990    0.850      272.0    1279.0"
      ]
     },
     "execution_count": 144,
     "metadata": {},
     "output_type": "execute_result"
    }
   ],
   "source": [
    "modelizationResults = modelizationResults.append(KNNBestResults)\n",
    "modelizationResults"
   ]
  },
  {
   "cell_type": "code",
   "execution_count": 75,
   "metadata": {
    "scrolled": true
   },
   "outputs": [
    {
     "data": {
      "image/png": "[encoded data removed]",
      "text/plain": [
       "<Figure size 864x288 with 2 Axes>"
      ]
     },
     "metadata": {},
     "output_type": "display_data"
    }
   ],
   "source": [
    "histResults(predBestKNNTrain, predBestKNNTest)"
   ]
  },
  {
   "cell_type": "markdown",
   "metadata": {},
   "source": [
    "## Charting results\n",
    "Train data"
   ]
  },
  {
   "cell_type": "code",
   "execution_count": 76,
   "metadata": {
    "scrolled": false
   },
   "outputs": [
    {
     "data": {
      "image/png": "[encoded data removed]",
      "text/plain": [
       "<Figure size 432x288 with 1 Axes>"
      ]
     },
     "metadata": {},
     "output_type": "display_data"
    }
   ],
   "source": [
    "chartResults(y=y_train, predBest=predBestKNNTrain, trainTest='Train', model='K-nearest Neighbours')"
   ]
  },
  {
   "cell_type": "code",
   "execution_count": 77,
   "metadata": {
    "scrolled": false
   },
   "outputs": [
    {
     "data": {
      "image/png": "[encoded data removed]",
      "text/plain": [
       "<Figure size 432x288 with 1 Axes>"
      ]
     },
     "metadata": {},
     "output_type": "display_data"
    }
   ],
   "source": [
    "chartResults(y=y_test, predBest=predBestKNNTest, trainTest='Test', model='K-nearest Neighbours')"
   ]
  },
  {
   "cell_type": "markdown",
   "metadata": {},
   "source": [
    "### Saving the model for later use"
   ]
  },
  {
   "cell_type": "code",
   "execution_count": 78,
   "metadata": {
    "scrolled": false
   },
   "outputs": [
    {
     "data": {
      "text/plain": [
       "['../output/bestKNN.pkl']"
      ]
     },
     "execution_count": 78,
     "metadata": {},
     "output_type": "execute_result"
    }
   ],
   "source": [
    "joblib.dump(bestKNN, filename='../output/bestKNN.pkl')"
   ]
  },
  {
   "cell_type": "markdown",
   "metadata": {},
   "source": [
    "***"
   ]
  },
  {
   "cell_type": "markdown",
   "metadata": {},
   "source": [
    "# Gradient boosting"
   ]
  },
  {
   "cell_type": "markdown",
   "metadata": {},
   "source": [
    "First try, no hyperparameters tuning"
   ]
  },
  {
   "cell_type": "code",
   "execution_count": 79,
   "metadata": {},
   "outputs": [],
   "source": [
    "regrBoost = GradientBoostingRegressor().fit(X_train, y_train)"
   ]
  },
  {
   "cell_type": "code",
   "execution_count": 80,
   "metadata": {
    "scrolled": false
   },
   "outputs": [],
   "source": [
    "predBoostTrain = regrBoost.predict(X_train)\n",
    "predBoostTest = regrBoost.predict(X_test)"
   ]
  },
  {
   "cell_type": "markdown",
   "metadata": {},
   "source": [
    "### Distribution of predicted prices"
   ]
  },
  {
   "cell_type": "code",
   "execution_count": 81,
   "metadata": {
    "scrolled": false
   },
   "outputs": [
    {
     "data": {
      "image/png": "[encoded data removed]",
      "text/plain": [
       "<Figure size 864x288 with 2 Axes>"
      ]
     },
     "metadata": {},
     "output_type": "display_data"
    }
   ],
   "source": [
    "histResults(predBoostTrain, predBoostTest)"
   ]
  },
  {
   "cell_type": "markdown",
   "metadata": {},
   "source": [
    "### Model score:  \n",
    "* $R^2$ Score:"
   ]
  },
  {
   "cell_type": "code",
   "execution_count": 145,
   "metadata": {},
   "outputs": [
    {
     "name": "stdout",
     "output_type": "stream",
     "text": [
      "R2 Train: 0.847 \n",
      "R2 Test:  0.847\n"
     ]
    }
   ],
   "source": [
    "R2BoostTrain = r2_score(y_train, predBoostTrain)\n",
    "R2BoostTest = r2_score(y_test, predBoostTest)\n",
    "print('R2 Train: %.3f' % R2BoostTrain, '\\nR2 Test:  %.3f' % R2BoostTest)"
   ]
  },
  {
   "cell_type": "markdown",
   "metadata": {},
   "source": [
    "* MAE Score:"
   ]
  },
  {
   "cell_type": "code",
   "execution_count": 146,
   "metadata": {
    "scrolled": false
   },
   "outputs": [
    {
     "name": "stdout",
     "output_type": "stream",
     "text": [
      "MAE Train: 1,520.402289 \n",
      "MAE Test: 1,528.289220\n"
     ]
    }
   ],
   "source": [
    "MAEBoostTrain = mean_absolute_error(y_train, predBoostTrain)\n",
    "MAEBoostTest = mean_absolute_error(y_test, predBoostTest)\n",
    "print('MAE Train:', format(MAEBoostTrain, ',f'), '\\nMAE Test:', format(MAEBoostTest, ',f'))"
   ]
  },
  {
   "cell_type": "code",
   "execution_count": 147,
   "metadata": {
    "scrolled": true
   },
   "outputs": [
    {
     "data": {
      "text/html": [
       "<div>\n",
       "<style scoped>\n",
       "    .dataframe tbody tr th:only-of-type {\n",
       "        vertical-align: middle;\n",
       "    }\n",
       "\n",
       "    .dataframe tbody tr th {\n",
       "        vertical-align: top;\n",
       "    }\n",
       "\n",
       "    .dataframe thead th {\n",
       "        text-align: right;\n",
       "    }\n",
       "</style>\n",
       "<table border=\"1\" class=\"dataframe\">\n",
       "  <thead>\n",
       "    <tr style=\"text-align: right;\">\n",
       "      <th></th>\n",
       "      <th>Algorithm</th>\n",
       "      <th>Fine_Tuning</th>\n",
       "      <th>R2_Train</th>\n",
       "      <th>R2_Test</th>\n",
       "      <th>MAE_Train</th>\n",
       "      <th>MAE_Test</th>\n",
       "    </tr>\n",
       "  </thead>\n",
       "  <tbody>\n",
       "    <tr>\n",
       "      <th>0</th>\n",
       "      <td>Gradient Boosting</td>\n",
       "      <td>False</td>\n",
       "      <td>0.847</td>\n",
       "      <td>0.847</td>\n",
       "      <td>1520.0</td>\n",
       "      <td>1528.0</td>\n",
       "    </tr>\n",
       "  </tbody>\n",
       "</table>\n",
       "</div>"
      ],
      "text/plain": [
       "           Algorithm  Fine_Tuning  R2_Train  R2_Test  MAE_Train  MAE_Test\n",
       "0  Gradient Boosting        False     0.847    0.847     1520.0    1528.0"
      ]
     },
     "execution_count": 147,
     "metadata": {},
     "output_type": "execute_result"
    }
   ],
   "source": [
    "BoostResults = rowOfResults('Gradient Boosting', False, R2BoostTrain, R2BoostTest, MAEBoostTrain, MAEBoostTest)\n",
    "BoostResults"
   ]
  },
  {
   "cell_type": "code",
   "execution_count": 148,
   "metadata": {
    "scrolled": true
   },
   "outputs": [
    {
     "data": {
      "text/html": [
       "<div>\n",
       "<style scoped>\n",
       "    .dataframe tbody tr th:only-of-type {\n",
       "        vertical-align: middle;\n",
       "    }\n",
       "\n",
       "    .dataframe tbody tr th {\n",
       "        vertical-align: top;\n",
       "    }\n",
       "\n",
       "    .dataframe thead th {\n",
       "        text-align: right;\n",
       "    }\n",
       "</style>\n",
       "<table border=\"1\" class=\"dataframe\">\n",
       "  <thead>\n",
       "    <tr style=\"text-align: right;\">\n",
       "      <th></th>\n",
       "      <th>Algorithm</th>\n",
       "      <th>Fine_Tuning</th>\n",
       "      <th>R2_Train</th>\n",
       "      <th>R2_Test</th>\n",
       "      <th>MAE_Train</th>\n",
       "      <th>MAE_Test</th>\n",
       "    </tr>\n",
       "  </thead>\n",
       "  <tbody>\n",
       "    <tr>\n",
       "      <th>0</th>\n",
       "      <td>Decision trees</td>\n",
       "      <td>0.0</td>\n",
       "      <td>0.990</td>\n",
       "      <td>0.840</td>\n",
       "      <td>269.0</td>\n",
       "      <td>1307.0</td>\n",
       "    </tr>\n",
       "    <tr>\n",
       "      <th>0</th>\n",
       "      <td>Decision trees</td>\n",
       "      <td>1.0</td>\n",
       "      <td>0.943</td>\n",
       "      <td>0.875</td>\n",
       "      <td>938.0</td>\n",
       "      <td>1267.0</td>\n",
       "    </tr>\n",
       "    <tr>\n",
       "      <th>0</th>\n",
       "      <td>Random Forest</td>\n",
       "      <td>0.0</td>\n",
       "      <td>0.975</td>\n",
       "      <td>0.893</td>\n",
       "      <td>576.0</td>\n",
       "      <td>1154.0</td>\n",
       "    </tr>\n",
       "    <tr>\n",
       "      <th>0</th>\n",
       "      <td>Random Forest</td>\n",
       "      <td>1.0</td>\n",
       "      <td>0.897</td>\n",
       "      <td>0.878</td>\n",
       "      <td>1363.0</td>\n",
       "      <td>1415.0</td>\n",
       "    </tr>\n",
       "    <tr>\n",
       "      <th>0</th>\n",
       "      <td>K-nearest neighbours</td>\n",
       "      <td>0.0</td>\n",
       "      <td>0.900</td>\n",
       "      <td>0.837</td>\n",
       "      <td>1138.0</td>\n",
       "      <td>1425.0</td>\n",
       "    </tr>\n",
       "    <tr>\n",
       "      <th>0</th>\n",
       "      <td>K-nearest neighbours</td>\n",
       "      <td>1.0</td>\n",
       "      <td>0.990</td>\n",
       "      <td>0.850</td>\n",
       "      <td>272.0</td>\n",
       "      <td>1279.0</td>\n",
       "    </tr>\n",
       "    <tr>\n",
       "      <th>0</th>\n",
       "      <td>Gradient Boosting</td>\n",
       "      <td>0.0</td>\n",
       "      <td>0.847</td>\n",
       "      <td>0.847</td>\n",
       "      <td>1520.0</td>\n",
       "      <td>1528.0</td>\n",
       "    </tr>\n",
       "  </tbody>\n",
       "</table>\n",
       "</div>"
      ],
      "text/plain": [
       "              Algorithm  Fine_Tuning  R2_Train  R2_Test  MAE_Train  MAE_Test\n",
       "0        Decision trees          0.0     0.990    0.840      269.0    1307.0\n",
       "0        Decision trees          1.0     0.943    0.875      938.0    1267.0\n",
       "0         Random Forest          0.0     0.975    0.893      576.0    1154.0\n",
       "0         Random Forest          1.0     0.897    0.878     1363.0    1415.0\n",
       "0  K-nearest neighbours          0.0     0.900    0.837     1138.0    1425.0\n",
       "0  K-nearest neighbours          1.0     0.990    0.850      272.0    1279.0\n",
       "0     Gradient Boosting          0.0     0.847    0.847     1520.0    1528.0"
      ]
     },
     "execution_count": 148,
     "metadata": {},
     "output_type": "execute_result"
    }
   ],
   "source": [
    "modelizationResults = modelizationResults.append(BoostResults)\n",
    "modelizationResults"
   ]
  },
  {
   "cell_type": "code",
   "execution_count": 86,
   "metadata": {
    "scrolled": true
   },
   "outputs": [
    {
     "data": {
      "image/png": "[encoded data removed]",
      "text/plain": [
       "<Figure size 432x288 with 1 Axes>"
      ]
     },
     "metadata": {},
     "output_type": "display_data"
    }
   ],
   "source": [
    "chartResults(y=y_train, predBest=predBoostTrain, trainTest='Train', model='Gradient boosting')"
   ]
  },
  {
   "cell_type": "code",
   "execution_count": 87,
   "metadata": {
    "scrolled": false
   },
   "outputs": [
    {
     "data": {
      "image/png": "[encoded data removed]",
      "text/plain": [
       "<Figure size 432x288 with 1 Axes>"
      ]
     },
     "metadata": {},
     "output_type": "display_data"
    }
   ],
   "source": [
    "chartResults(y=y_test, predBest=predBoostTest, trainTest='Test', model='Gradient boosting')"
   ]
  },
  {
   "cell_type": "markdown",
   "metadata": {},
   "source": [
    "### Hyperparameter tuning"
   ]
  },
  {
   "cell_type": "markdown",
   "metadata": {},
   "source": [
    "**ATTENTION** This paramgrid takes 3 hours to complete"
   ]
  },
  {
   "cell_type": "code",
   "execution_count": 90,
   "metadata": {},
   "outputs": [],
   "source": [
    "paramsBoost = {\n",
    "        'learning_rate': [0.001, 0.01, 0.1],\n",
    "        'n_estimators': [100, 200, 500],\n",
    "        'max_depth': [1, 3, 5],\n",
    "        'min_samples_split': [2],\n",
    "        'min_samples_leaf': [1],\n",
    "        'max_features': [None, 'auto']\n",
    "        }"
   ]
  },
  {
   "cell_type": "code",
   "execution_count": 91,
   "metadata": {},
   "outputs": [
    {
     "name": "stdout",
     "output_type": "stream",
     "text": [
      "Fitting 10 folds for each of 54 candidates, totalling 540 fits\n"
     ]
    },
    {
     "name": "stderr",
     "output_type": "stream",
     "text": [
      "[Parallel(n_jobs=-1)]: Done  34 tasks      | elapsed:  2.2min\n",
      "[Parallel(n_jobs=-1)]: Done 184 tasks      | elapsed: 55.1min\n",
      "[Parallel(n_jobs=-1)]: Done 434 tasks      | elapsed: 119.5min\n",
      "[Parallel(n_jobs=-1)]: Done 540 out of 540 | elapsed: 165.1min finished\n"
     ]
    }
   ],
   "source": [
    "cvBoost = GridSearchCV(\n",
    "        estimator=GradientBoostingRegressor(),\n",
    "        param_grid=paramsBoost,\n",
    "        n_jobs=-1,\n",
    "        cv=10,\n",
    "        verbose=1,\n",
    "        return_train_score=True).fit(X_train, y_train)"
   ]
  },
  {
   "cell_type": "code",
   "execution_count": 92,
   "metadata": {},
   "outputs": [
    {
     "data": {
      "text/plain": [
       "{'learning_rate': 0.1,\n",
       " 'max_depth': 5,\n",
       " 'max_features': None,\n",
       " 'min_samples_leaf': 1,\n",
       " 'min_samples_split': 2,\n",
       " 'n_estimators': 500}"
      ]
     },
     "execution_count": 92,
     "metadata": {},
     "output_type": "execute_result"
    }
   ],
   "source": [
    "cvBoost.best_params_"
   ]
  },
  {
   "cell_type": "code",
   "execution_count": 93,
   "metadata": {},
   "outputs": [],
   "source": [
    "bestBoost = GradientBoostingRegressor(learning_rate=cvBoost.best_params_['learning_rate'],\n",
    "                                      max_depth=cvBoost.best_params_['max_depth'],\n",
    "                                      max_features=cvBoost.best_params_['max_features'],\n",
    "                                      min_samples_leaf=cvBoost.best_params_['min_samples_leaf'],\n",
    "                                      min_samples_split=cvBoost.best_params_['min_samples_split'],\n",
    "                                      n_estimators=cvBoost.best_params_['n_estimators']).fit(X_train, y_train)"
   ]
  },
  {
   "cell_type": "code",
   "execution_count": 94,
   "metadata": {},
   "outputs": [],
   "source": [
    "predBestBoostTrain = bestBoost.predict(X_train)\n",
    "predBestBoostTest = bestBoost.predict(X_test)"
   ]
  },
  {
   "cell_type": "markdown",
   "metadata": {},
   "source": [
    "* $R^2$ Score:"
   ]
  },
  {
   "cell_type": "code",
   "execution_count": 149,
   "metadata": {
    "scrolled": true
   },
   "outputs": [
    {
     "name": "stdout",
     "output_type": "stream",
     "text": [
      "R2 Train: 0.932 \n",
      "R2 Test: 0.908\n"
     ]
    }
   ],
   "source": [
    "R2BestBoostTrain = r2_score(y_train, predBestBoostTrain)\n",
    "R2BestBoostTest = r2_score(y_test, predBestBoostTest)\n",
    "print('R2 Train: %.3f' % R2BestBoostTrain, '\\nR2 Test: %.3f' % R2BestBoostTest)"
   ]
  },
  {
   "cell_type": "markdown",
   "metadata": {},
   "source": [
    "* MAE Score:"
   ]
  },
  {
   "cell_type": "code",
   "execution_count": 150,
   "metadata": {
    "scrolled": false
   },
   "outputs": [
    {
     "name": "stdout",
     "output_type": "stream",
     "text": [
      "MAE Train: 1,104.575121 \n",
      "MAE Test: 1,175.264070\n"
     ]
    }
   ],
   "source": [
    "MAEBestBoostTrain = mean_absolute_error(y_train, predBestBoostTrain)\n",
    "MAEBestBoostTest = mean_absolute_error(y_test, predBestBoostTest)\n",
    "print('MAE Train:', format(MAEBestBoostTrain, ',f'), '\\nMAE Test:', format(MAEBestBoostTest, ',f'))"
   ]
  },
  {
   "cell_type": "code",
   "execution_count": 151,
   "metadata": {
    "scrolled": true
   },
   "outputs": [
    {
     "data": {
      "text/html": [
       "<div>\n",
       "<style scoped>\n",
       "    .dataframe tbody tr th:only-of-type {\n",
       "        vertical-align: middle;\n",
       "    }\n",
       "\n",
       "    .dataframe tbody tr th {\n",
       "        vertical-align: top;\n",
       "    }\n",
       "\n",
       "    .dataframe thead th {\n",
       "        text-align: right;\n",
       "    }\n",
       "</style>\n",
       "<table border=\"1\" class=\"dataframe\">\n",
       "  <thead>\n",
       "    <tr style=\"text-align: right;\">\n",
       "      <th></th>\n",
       "      <th>Algorithm</th>\n",
       "      <th>Fine_Tuning</th>\n",
       "      <th>R2_Train</th>\n",
       "      <th>R2_Test</th>\n",
       "      <th>MAE_Train</th>\n",
       "      <th>MAE_Test</th>\n",
       "    </tr>\n",
       "  </thead>\n",
       "  <tbody>\n",
       "    <tr>\n",
       "      <th>0</th>\n",
       "      <td>Gradient Boosting</td>\n",
       "      <td>True</td>\n",
       "      <td>0.932</td>\n",
       "      <td>0.908</td>\n",
       "      <td>1105.0</td>\n",
       "      <td>1175.0</td>\n",
       "    </tr>\n",
       "  </tbody>\n",
       "</table>\n",
       "</div>"
      ],
      "text/plain": [
       "           Algorithm  Fine_Tuning  R2_Train  R2_Test  MAE_Train  MAE_Test\n",
       "0  Gradient Boosting         True     0.932    0.908     1105.0    1175.0"
      ]
     },
     "execution_count": 151,
     "metadata": {},
     "output_type": "execute_result"
    }
   ],
   "source": [
    "BoostBestResults = rowOfResults('Gradient Boosting', True, R2BestBoostTrain, R2BestBoostTest, MAEBestBoostTrain, MAEBestBoostTest)\n",
    "BoostBestResults"
   ]
  },
  {
   "cell_type": "code",
   "execution_count": 152,
   "metadata": {},
   "outputs": [
    {
     "data": {
      "text/html": [
       "<div>\n",
       "<style scoped>\n",
       "    .dataframe tbody tr th:only-of-type {\n",
       "        vertical-align: middle;\n",
       "    }\n",
       "\n",
       "    .dataframe tbody tr th {\n",
       "        vertical-align: top;\n",
       "    }\n",
       "\n",
       "    .dataframe thead th {\n",
       "        text-align: right;\n",
       "    }\n",
       "</style>\n",
       "<table border=\"1\" class=\"dataframe\">\n",
       "  <thead>\n",
       "    <tr style=\"text-align: right;\">\n",
       "      <th></th>\n",
       "      <th>Algorithm</th>\n",
       "      <th>Fine_Tuning</th>\n",
       "      <th>R2_Train</th>\n",
       "      <th>R2_Test</th>\n",
       "      <th>MAE_Train</th>\n",
       "      <th>MAE_Test</th>\n",
       "    </tr>\n",
       "  </thead>\n",
       "  <tbody>\n",
       "    <tr>\n",
       "      <th>0</th>\n",
       "      <td>Decision trees</td>\n",
       "      <td>0.0</td>\n",
       "      <td>0.990</td>\n",
       "      <td>0.840</td>\n",
       "      <td>269.0</td>\n",
       "      <td>1307.0</td>\n",
       "    </tr>\n",
       "    <tr>\n",
       "      <th>0</th>\n",
       "      <td>Decision trees</td>\n",
       "      <td>1.0</td>\n",
       "      <td>0.943</td>\n",
       "      <td>0.875</td>\n",
       "      <td>938.0</td>\n",
       "      <td>1267.0</td>\n",
       "    </tr>\n",
       "    <tr>\n",
       "      <th>0</th>\n",
       "      <td>Random Forest</td>\n",
       "      <td>0.0</td>\n",
       "      <td>0.975</td>\n",
       "      <td>0.893</td>\n",
       "      <td>576.0</td>\n",
       "      <td>1154.0</td>\n",
       "    </tr>\n",
       "    <tr>\n",
       "      <th>0</th>\n",
       "      <td>Random Forest</td>\n",
       "      <td>1.0</td>\n",
       "      <td>0.897</td>\n",
       "      <td>0.878</td>\n",
       "      <td>1363.0</td>\n",
       "      <td>1415.0</td>\n",
       "    </tr>\n",
       "    <tr>\n",
       "      <th>0</th>\n",
       "      <td>K-nearest neighbours</td>\n",
       "      <td>0.0</td>\n",
       "      <td>0.900</td>\n",
       "      <td>0.837</td>\n",
       "      <td>1138.0</td>\n",
       "      <td>1425.0</td>\n",
       "    </tr>\n",
       "    <tr>\n",
       "      <th>0</th>\n",
       "      <td>K-nearest neighbours</td>\n",
       "      <td>1.0</td>\n",
       "      <td>0.990</td>\n",
       "      <td>0.850</td>\n",
       "      <td>272.0</td>\n",
       "      <td>1279.0</td>\n",
       "    </tr>\n",
       "    <tr>\n",
       "      <th>0</th>\n",
       "      <td>Gradient Boosting</td>\n",
       "      <td>0.0</td>\n",
       "      <td>0.847</td>\n",
       "      <td>0.847</td>\n",
       "      <td>1520.0</td>\n",
       "      <td>1528.0</td>\n",
       "    </tr>\n",
       "    <tr>\n",
       "      <th>0</th>\n",
       "      <td>Gradient Boosting</td>\n",
       "      <td>1.0</td>\n",
       "      <td>0.932</td>\n",
       "      <td>0.908</td>\n",
       "      <td>1105.0</td>\n",
       "      <td>1175.0</td>\n",
       "    </tr>\n",
       "  </tbody>\n",
       "</table>\n",
       "</div>"
      ],
      "text/plain": [
       "              Algorithm  Fine_Tuning  R2_Train  R2_Test  MAE_Train  MAE_Test\n",
       "0        Decision trees          0.0     0.990    0.840      269.0    1307.0\n",
       "0        Decision trees          1.0     0.943    0.875      938.0    1267.0\n",
       "0         Random Forest          0.0     0.975    0.893      576.0    1154.0\n",
       "0         Random Forest          1.0     0.897    0.878     1363.0    1415.0\n",
       "0  K-nearest neighbours          0.0     0.900    0.837     1138.0    1425.0\n",
       "0  K-nearest neighbours          1.0     0.990    0.850      272.0    1279.0\n",
       "0     Gradient Boosting          0.0     0.847    0.847     1520.0    1528.0\n",
       "0     Gradient Boosting          1.0     0.932    0.908     1105.0    1175.0"
      ]
     },
     "execution_count": 152,
     "metadata": {},
     "output_type": "execute_result"
    }
   ],
   "source": [
    "modelizationResults = modelizationResults.append(BoostBestResults)\n",
    "modelizationResults"
   ]
  },
  {
   "cell_type": "code",
   "execution_count": 99,
   "metadata": {
    "scrolled": true
   },
   "outputs": [
    {
     "data": {
      "text/plain": [
       "<BarContainer object of 9 artists>"
      ]
     },
     "execution_count": 99,
     "metadata": {},
     "output_type": "execute_result"
    },
    {
     "data": {
      "image/png": "[encoded data removed]",
      "text/plain": [
       "<Figure size 432x288 with 1 Axes>"
      ]
     },
     "metadata": {},
     "output_type": "display_data"
    }
   ],
   "source": [
    "plt.barh(X_train.columns, bestBoost.feature_importances_)"
   ]
  },
  {
   "cell_type": "code",
   "execution_count": 100,
   "metadata": {
    "scrolled": false
   },
   "outputs": [
    {
     "data": {
      "image/png": "[encoded data removed]",
      "text/plain": [
       "<Figure size 864x288 with 2 Axes>"
      ]
     },
     "metadata": {},
     "output_type": "display_data"
    }
   ],
   "source": [
    "histResults(predBestBoostTrain, predBestBoostTest)"
   ]
  },
  {
   "cell_type": "markdown",
   "metadata": {},
   "source": [
    "## Charting results"
   ]
  },
  {
   "cell_type": "code",
   "execution_count": 101,
   "metadata": {
    "scrolled": true
   },
   "outputs": [
    {
     "data": {
      "image/png": "[encoded data removed]",
      "text/plain": [
       "<Figure size 432x288 with 1 Axes>"
      ]
     },
     "metadata": {},
     "output_type": "display_data"
    }
   ],
   "source": [
    "chartResults(y=y_train, predBest=predBestBoostTrain, trainTest='Train', model='Gradient boosting')"
   ]
  },
  {
   "cell_type": "code",
   "execution_count": 102,
   "metadata": {
    "scrolled": false
   },
   "outputs": [
    {
     "data": {
      "image/png": "[encoded data removed]",
      "text/plain": [
       "<Figure size 432x288 with 1 Axes>"
      ]
     },
     "metadata": {},
     "output_type": "display_data"
    }
   ],
   "source": [
    "chartResults(y=y_test, predBest=predBestBoostTest, trainTest='Test', model='Gradient boosting')"
   ]
  },
  {
   "cell_type": "markdown",
   "metadata": {},
   "source": [
    "### Saving the model for later use"
   ]
  },
  {
   "cell_type": "code",
   "execution_count": 104,
   "metadata": {
    "scrolled": false
   },
   "outputs": [
    {
     "data": {
      "text/plain": [
       "['../output/bestBoost.pkl']"
      ]
     },
     "execution_count": 104,
     "metadata": {},
     "output_type": "execute_result"
    }
   ],
   "source": [
    "joblib.dump(bestBoost, filename='../output/bestBoost.pkl')"
   ]
  },
  {
   "cell_type": "markdown",
   "metadata": {},
   "source": [
    "***"
   ]
  },
  {
   "cell_type": "markdown",
   "metadata": {},
   "source": [
    "### Saving the results data frame"
   ]
  },
  {
   "cell_type": "code",
   "execution_count": 105,
   "metadata": {},
   "outputs": [],
   "source": [
    "joblib.dump(modelizationResults, filename='../output/modelizationResults.pkl')\n",
    "modelizationResults.to_csv(path_or_buf='../output/modelizationResults.csv')"
   ]
  },
  {
   "cell_type": "markdown",
   "metadata": {},
   "source": [
    "# Testing things"
   ]
  },
  {
   "cell_type": "code",
   "execution_count": 106,
   "metadata": {},
   "outputs": [],
   "source": [
    "bestDecisionTree = joblib.load('../output/bestDecisionTree.pkl')\n",
    "bestRandomForest = joblib.load('../output/bestRandomForest.pkl')\n",
    "bestKNN = joblib.load('../output/bestKNN.pkl')\n",
    "bestBoost = joblib.load('../output/bestBoost.pkl')"
   ]
  },
  {
   "cell_type": "code",
   "execution_count": 107,
   "metadata": {},
   "outputs": [
    {
     "data": {
      "text/plain": [
       "(array([  4.07520000e+04,   7.15800000e+03,   1.87500000e+03,\n",
       "          4.63000000e+02,   1.61000000e+02,   5.30000000e+01,\n",
       "          2.90000000e+01,   1.50000000e+01,   7.00000000e+00,\n",
       "          1.00000000e+00]),\n",
       " array([   299.66666667,  10169.7       ,  20039.73333333,  29909.76666667,\n",
       "         39779.8       ,  49649.83333333,  59519.86666667,  69389.9       ,\n",
       "         79259.93333333,  89129.96666667,  99000.        ]),\n",
       " <a list of 10 Patch objects>)"
      ]
     },
     "execution_count": 107,
     "metadata": {},
     "output_type": "execute_result"
    },
    {
     "data": {
      "image/png": "[encoded data removed]",
      "text/plain": [
       "<Figure size 432x288 with 1 Axes>"
      ]
     },
     "metadata": {},
     "output_type": "display_data"
    }
   ],
   "source": [
    "y_DT = bestDecisionTree.predict(X_test)\n",
    "y_DT\n",
    "plt.hist(y_DT)"
   ]
  },
  {
   "cell_type": "code",
   "execution_count": 108,
   "metadata": {},
   "outputs": [
    {
     "data": {
      "text/plain": [
       "(array([  2.02510000e+04,   9.07800000e+03,   5.96400000e+03,\n",
       "          4.12700000e+03,   2.86700000e+03,   2.03600000e+03,\n",
       "          1.64500000e+03,   1.22400000e+03,   9.42000000e+02,\n",
       "          6.47000000e+02,   4.53000000e+02,   3.80000000e+02,\n",
       "          2.54000000e+02,   1.77000000e+02,   9.00000000e+01,\n",
       "          8.70000000e+01,   5.10000000e+01,   5.30000000e+01,\n",
       "          4.40000000e+01,   2.90000000e+01,   3.20000000e+01,\n",
       "          1.10000000e+01,   1.70000000e+01,   9.00000000e+00,\n",
       "          7.00000000e+00,   6.00000000e+00,   4.00000000e+00,\n",
       "          7.00000000e+00,   5.00000000e+00,   3.00000000e+00,\n",
       "          3.00000000e+00,   4.00000000e+00,   0.00000000e+00,\n",
       "          1.00000000e+00,   2.00000000e+00,   0.00000000e+00,\n",
       "          1.00000000e+00,   1.00000000e+00,   1.00000000e+00,\n",
       "          1.00000000e+00]),\n",
       " array([   822.78875515,   2934.59826583,   5046.40777651,   7158.21728718,\n",
       "          9270.02679786,  11381.83630854,  13493.64581921,  15605.45532989,\n",
       "         17717.26484057,  19829.07435124,  21940.88386192,  24052.6933726 ,\n",
       "         26164.50288328,  28276.31239395,  30388.12190463,  32499.93141531,\n",
       "         34611.74092598,  36723.55043666,  38835.35994734,  40947.16945801,\n",
       "         43058.97896869,  45170.78847937,  47282.59799005,  49394.40750072,\n",
       "         51506.2170114 ,  53618.02652208,  55729.83603275,  57841.64554343,\n",
       "         59953.45505411,  62065.26456478,  64177.07407546,  66288.88358614,\n",
       "         68400.69309681,  70512.50260749,  72624.31211817,  74736.12162885,\n",
       "         76847.93113952,  78959.7406502 ,  81071.55016088,  83183.35967155,\n",
       "         85295.16918223]),\n",
       " <a list of 40 Patch objects>)"
      ]
     },
     "execution_count": 108,
     "metadata": {},
     "output_type": "execute_result"
    },
    {
     "data": {
      "image/png": "[encoded data removed]",
      "text/plain": [
       "<Figure size 432x288 with 1 Axes>"
      ]
     },
     "metadata": {},
     "output_type": "display_data"
    }
   ],
   "source": [
    "y_RF = bestRandomForest.predict(X_test)\n",
    "y_RF\n",
    "plt.hist(y_RF, bins=40)"
   ]
  },
  {
   "cell_type": "code",
   "execution_count": 109,
   "metadata": {
    "scrolled": true
   },
   "outputs": [
    {
     "data": {
      "text/plain": [
       "(array([  1.94950000e+04,   1.03550000e+04,   6.42900000e+03,\n",
       "          4.44400000e+03,   2.70400000e+03,   2.13900000e+03,\n",
       "          1.40700000e+03,   1.04400000e+03,   6.63000000e+02,\n",
       "          5.09000000e+02,   3.77000000e+02,   2.86000000e+02,\n",
       "          1.66000000e+02,   1.49000000e+02,   6.60000000e+01,\n",
       "          6.80000000e+01,   5.20000000e+01,   3.10000000e+01,\n",
       "          4.00000000e+01,   1.90000000e+01,   1.10000000e+01,\n",
       "          1.30000000e+01,   9.00000000e+00,   5.00000000e+00,\n",
       "          1.10000000e+01,   2.00000000e+00,   3.00000000e+00,\n",
       "          3.00000000e+00,   3.00000000e+00,   2.00000000e+00,\n",
       "          1.00000000e+00,   4.00000000e+00,   2.00000000e+00,\n",
       "          0.00000000e+00,   0.00000000e+00,   0.00000000e+00,\n",
       "          0.00000000e+00,   0.00000000e+00,   1.00000000e+00,\n",
       "          1.00000000e+00]),\n",
       " array([   219. ,   2713.5,   5208. ,   7702.5,  10197. ,  12691.5,\n",
       "         15186. ,  17680.5,  20175. ,  22669.5,  25164. ,  27658.5,\n",
       "         30153. ,  32647.5,  35142. ,  37636.5,  40131. ,  42625.5,\n",
       "         45120. ,  47614.5,  50109. ,  52603.5,  55098. ,  57592.5,\n",
       "         60087. ,  62581.5,  65076. ,  67570.5,  70065. ,  72559.5,\n",
       "         75054. ,  77548.5,  80043. ,  82537.5,  85032. ,  87526.5,\n",
       "         90021. ,  92515.5,  95010. ,  97504.5,  99999. ]),\n",
       " <a list of 40 Patch objects>)"
      ]
     },
     "execution_count": 109,
     "metadata": {},
     "output_type": "execute_result"
    },
    {
     "data": {
      "image/png": "[encoded data removed]",
      "text/plain": [
       "<Figure size 432x288 with 1 Axes>"
      ]
     },
     "metadata": {},
     "output_type": "display_data"
    }
   ],
   "source": [
    "y_KNN = bestKNN.predict(X_test)\n",
    "y_KNN\n",
    "plt.hist(y_KNN, bins=40)"
   ]
  },
  {
   "cell_type": "code",
   "execution_count": 110,
   "metadata": {
    "scrolled": false
   },
   "outputs": [
    {
     "data": {
      "text/plain": [
       "(array([  1.00000000e+00,   1.94200000e+03,   2.01930000e+04,\n",
       "          9.64100000e+03,   6.03600000e+03,   3.92700000e+03,\n",
       "          2.50400000e+03,   1.90800000e+03,   1.31000000e+03,\n",
       "          9.24000000e+02,   6.24000000e+02,   4.25000000e+02,\n",
       "          2.87000000e+02,   2.14000000e+02,   1.62000000e+02,\n",
       "          9.80000000e+01,   6.50000000e+01,   5.60000000e+01,\n",
       "          4.80000000e+01,   3.20000000e+01,   1.90000000e+01,\n",
       "          1.80000000e+01,   1.40000000e+01,   1.80000000e+01,\n",
       "          6.00000000e+00,   8.00000000e+00,   6.00000000e+00,\n",
       "          9.00000000e+00,   5.00000000e+00,   4.00000000e+00,\n",
       "          2.00000000e+00,   1.00000000e+00,   1.00000000e+00,\n",
       "          0.00000000e+00,   2.00000000e+00,   1.00000000e+00,\n",
       "          1.00000000e+00,   1.00000000e+00,   0.00000000e+00,\n",
       "          1.00000000e+00]),\n",
       " array([ -4469.80939485,  -1897.80537496,    674.19864492,   3246.20266481,\n",
       "          5818.2066847 ,   8390.21070458,  10962.21472447,  13534.21874436,\n",
       "         16106.22276424,  18678.22678413,  21250.23080402,  23822.2348239 ,\n",
       "         26394.23884379,  28966.24286368,  31538.24688356,  34110.25090345,\n",
       "         36682.25492334,  39254.25894322,  41826.26296311,  44398.266983  ,\n",
       "         46970.27100288,  49542.27502277,  52114.27904266,  54686.28306254,\n",
       "         57258.28708243,  59830.29110232,  62402.2951222 ,  64974.29914209,\n",
       "         67546.30316198,  70118.30718186,  72690.31120175,  75262.31522164,\n",
       "         77834.31924152,  80406.32326141,  82978.3272813 ,  85550.33130118,\n",
       "         88122.33532107,  90694.33934096,  93266.34336084,  95838.34738073,\n",
       "         98410.35140062]),\n",
       " <a list of 40 Patch objects>)"
      ]
     },
     "execution_count": 110,
     "metadata": {},
     "output_type": "execute_result"
    },
    {
     "data": {
      "image/png": "[encoded data removed]",
      "text/plain": [
       "<Figure size 432x288 with 1 Axes>"
      ]
     },
     "metadata": {},
     "output_type": "display_data"
    }
   ],
   "source": [
    "y_Boost = bestBoost.predict(X_test)\n",
    "y_Boost\n",
    "plt.hist(y_Boost, bins=40)"
   ]
  },
  {
   "cell_type": "code",
   "execution_count": 111,
   "metadata": {},
   "outputs": [
    {
     "data": {
      "text/plain": [
       "(array([  1.97440000e+04,   1.03430000e+04,   6.36700000e+03,\n",
       "          4.37800000e+03,   2.53800000e+03,   2.18500000e+03,\n",
       "          1.39800000e+03,   1.04600000e+03,   5.89000000e+02,\n",
       "          5.42000000e+02,   3.62000000e+02,   3.02000000e+02,\n",
       "          1.45000000e+02,   1.58000000e+02,   8.00000000e+01,\n",
       "          8.70000000e+01,   4.20000000e+01,   3.90000000e+01,\n",
       "          2.00000000e+01,   3.50000000e+01,   1.30000000e+01,\n",
       "          1.20000000e+01,   1.40000000e+01,   1.70000000e+01,\n",
       "          1.20000000e+01,   8.00000000e+00,   6.00000000e+00,\n",
       "          7.00000000e+00,   1.00000000e+00,   6.00000000e+00,\n",
       "          0.00000000e+00,   3.00000000e+00,   2.00000000e+00,\n",
       "          3.00000000e+00,   1.00000000e+00,   2.00000000e+00,\n",
       "          0.00000000e+00,   3.00000000e+00,   1.00000000e+00,\n",
       "          3.00000000e+00]),\n",
       " array([   202.   ,   2696.925,   5191.85 ,   7686.775,  10181.7  ,\n",
       "         12676.625,  15171.55 ,  17666.475,  20161.4  ,  22656.325,\n",
       "         25151.25 ,  27646.175,  30141.1  ,  32636.025,  35130.95 ,\n",
       "         37625.875,  40120.8  ,  42615.725,  45110.65 ,  47605.575,\n",
       "         50100.5  ,  52595.425,  55090.35 ,  57585.275,  60080.2  ,\n",
       "         62575.125,  65070.05 ,  67564.975,  70059.9  ,  72554.825,\n",
       "         75049.75 ,  77544.675,  80039.6  ,  82534.525,  85029.45 ,\n",
       "         87524.375,  90019.3  ,  92514.225,  95009.15 ,  97504.075,  99999.   ]),\n",
       " <a list of 40 Patch objects>)"
      ]
     },
     "execution_count": 111,
     "metadata": {},
     "output_type": "execute_result"
    },
    {
     "data": {
      "image/png": "[encoded data removed]",
      "text/plain": [
       "<Figure size 432x288 with 1 Axes>"
      ]
     },
     "metadata": {},
     "output_type": "display_data"
    }
   ],
   "source": [
    "plt.hist(y_test, bins=40)"
   ]
  },
  {
   "cell_type": "code",
   "execution_count": 158,
   "metadata": {
    "scrolled": true
   },
   "outputs": [
    {
     "data": {
      "text/html": [
       "<div>\n",
       "<style scoped>\n",
       "    .dataframe tbody tr th:only-of-type {\n",
       "        vertical-align: middle;\n",
       "    }\n",
       "\n",
       "    .dataframe tbody tr th {\n",
       "        vertical-align: top;\n",
       "    }\n",
       "\n",
       "    .dataframe thead th {\n",
       "        text-align: right;\n",
       "    }\n",
       "</style>\n",
       "<table border=\"1\" class=\"dataframe\">\n",
       "  <thead>\n",
       "    <tr style=\"text-align: right;\">\n",
       "      <th></th>\n",
       "      <th>Algorithm</th>\n",
       "      <th>Fine_Tuning</th>\n",
       "      <th>R2_Train</th>\n",
       "      <th>R2_Test</th>\n",
       "      <th>MSE_Train</th>\n",
       "      <th>MSE_Test</th>\n",
       "    </tr>\n",
       "  </thead>\n",
       "  <tbody>\n",
       "    <tr>\n",
       "      <th>0</th>\n",
       "      <td>Decision trees</td>\n",
       "      <td>0.0</td>\n",
       "      <td>0.990</td>\n",
       "      <td>0.840</td>\n",
       "      <td>534558.0</td>\n",
       "      <td>8498234.0</td>\n",
       "    </tr>\n",
       "    <tr>\n",
       "      <th>0</th>\n",
       "      <td>Decision trees</td>\n",
       "      <td>1.0</td>\n",
       "      <td>0.943</td>\n",
       "      <td>0.875</td>\n",
       "      <td>3057304.0</td>\n",
       "      <td>6666141.0</td>\n",
       "    </tr>\n",
       "    <tr>\n",
       "      <th>0</th>\n",
       "      <td>Random Forest</td>\n",
       "      <td>0.0</td>\n",
       "      <td>0.975</td>\n",
       "      <td>0.893</td>\n",
       "      <td>1324239.0</td>\n",
       "      <td>5705410.0</td>\n",
       "    </tr>\n",
       "    <tr>\n",
       "      <th>0</th>\n",
       "      <td>Random Forest</td>\n",
       "      <td>1.0</td>\n",
       "      <td>0.897</td>\n",
       "      <td>0.878</td>\n",
       "      <td>5515666.0</td>\n",
       "      <td>6525125.0</td>\n",
       "    </tr>\n",
       "    <tr>\n",
       "      <th>0</th>\n",
       "      <td>K-nearest neighbours</td>\n",
       "      <td>0.0</td>\n",
       "      <td>0.900</td>\n",
       "      <td>0.837</td>\n",
       "      <td>5339438.0</td>\n",
       "      <td>8683116.0</td>\n",
       "    </tr>\n",
       "    <tr>\n",
       "      <th>0</th>\n",
       "      <td>K-nearest neighbours</td>\n",
       "      <td>1.0</td>\n",
       "      <td>0.990</td>\n",
       "      <td>0.850</td>\n",
       "      <td>548192.0</td>\n",
       "      <td>7967688.0</td>\n",
       "    </tr>\n",
       "    <tr>\n",
       "      <th>0</th>\n",
       "      <td>Gradient Boosting</td>\n",
       "      <td>0.0</td>\n",
       "      <td>0.847</td>\n",
       "      <td>0.847</td>\n",
       "      <td>8178388.0</td>\n",
       "      <td>8139290.0</td>\n",
       "    </tr>\n",
       "    <tr>\n",
       "      <th>0</th>\n",
       "      <td>Gradient Boosting</td>\n",
       "      <td>1.0</td>\n",
       "      <td>0.932</td>\n",
       "      <td>0.908</td>\n",
       "      <td>3630293.0</td>\n",
       "      <td>4894695.0</td>\n",
       "    </tr>\n",
       "  </tbody>\n",
       "</table>\n",
       "</div>"
      ],
      "text/plain": [
       "              Algorithm  Fine_Tuning  R2_Train  R2_Test  MSE_Train   MSE_Test\n",
       "0        Decision trees          0.0     0.990    0.840   534558.0  8498234.0\n",
       "0        Decision trees          1.0     0.943    0.875  3057304.0  6666141.0\n",
       "0         Random Forest          0.0     0.975    0.893  1324239.0  5705410.0\n",
       "0         Random Forest          1.0     0.897    0.878  5515666.0  6525125.0\n",
       "0  K-nearest neighbours          0.0     0.900    0.837  5339438.0  8683116.0\n",
       "0  K-nearest neighbours          1.0     0.990    0.850   548192.0  7967688.0\n",
       "0     Gradient Boosting          0.0     0.847    0.847  8178388.0  8139290.0\n",
       "0     Gradient Boosting          1.0     0.932    0.908  3630293.0  4894695.0"
      ]
     },
     "execution_count": 158,
     "metadata": {},
     "output_type": "execute_result"
    }
   ],
   "source": [
    "res = joblib.load('../output/modelizationResults.pkl')\n",
    "res"
   ]
  },
  {
   "cell_type": "code",
   "execution_count": 113,
   "metadata": {},
   "outputs": [
    {
     "data": {
      "text/html": [
       "<div>\n",
       "<style scoped>\n",
       "    .dataframe tbody tr th:only-of-type {\n",
       "        vertical-align: middle;\n",
       "    }\n",
       "\n",
       "    .dataframe tbody tr th {\n",
       "        vertical-align: top;\n",
       "    }\n",
       "\n",
       "    .dataframe thead th {\n",
       "        text-align: right;\n",
       "    }\n",
       "</style>\n",
       "<table border=\"1\" class=\"dataframe\">\n",
       "  <thead>\n",
       "    <tr style=\"text-align: right;\">\n",
       "      <th></th>\n",
       "      <th>Real prices</th>\n",
       "      <th>PredPrices</th>\n",
       "    </tr>\n",
       "  </thead>\n",
       "  <tbody>\n",
       "    <tr>\n",
       "      <th>104366</th>\n",
       "      <td>2750</td>\n",
       "      <td>2795.556904</td>\n",
       "    </tr>\n",
       "    <tr>\n",
       "      <th>235879</th>\n",
       "      <td>595</td>\n",
       "      <td>893.683194</td>\n",
       "    </tr>\n",
       "    <tr>\n",
       "      <th>166299</th>\n",
       "      <td>4400</td>\n",
       "      <td>3240.455801</td>\n",
       "    </tr>\n",
       "    <tr>\n",
       "      <th>49392</th>\n",
       "      <td>10900</td>\n",
       "      <td>12510.585478</td>\n",
       "    </tr>\n",
       "    <tr>\n",
       "      <th>123067</th>\n",
       "      <td>700</td>\n",
       "      <td>1236.123223</td>\n",
       "    </tr>\n",
       "    <tr>\n",
       "      <th>210452</th>\n",
       "      <td>10900</td>\n",
       "      <td>11556.451351</td>\n",
       "    </tr>\n",
       "    <tr>\n",
       "      <th>114971</th>\n",
       "      <td>500</td>\n",
       "      <td>1746.421849</td>\n",
       "    </tr>\n",
       "    <tr>\n",
       "      <th>15393</th>\n",
       "      <td>10950</td>\n",
       "      <td>9498.455580</td>\n",
       "    </tr>\n",
       "    <tr>\n",
       "      <th>112543</th>\n",
       "      <td>1690</td>\n",
       "      <td>2758.787648</td>\n",
       "    </tr>\n",
       "    <tr>\n",
       "      <th>83674</th>\n",
       "      <td>7890</td>\n",
       "      <td>6108.674534</td>\n",
       "    </tr>\n",
       "    <tr>\n",
       "      <th>209564</th>\n",
       "      <td>19999</td>\n",
       "      <td>16232.393542</td>\n",
       "    </tr>\n",
       "    <tr>\n",
       "      <th>90271</th>\n",
       "      <td>2900</td>\n",
       "      <td>2785.060119</td>\n",
       "    </tr>\n",
       "    <tr>\n",
       "      <th>29936</th>\n",
       "      <td>12990</td>\n",
       "      <td>12775.614509</td>\n",
       "    </tr>\n",
       "    <tr>\n",
       "      <th>153378</th>\n",
       "      <td>2490</td>\n",
       "      <td>2014.650739</td>\n",
       "    </tr>\n",
       "    <tr>\n",
       "      <th>51090</th>\n",
       "      <td>2300</td>\n",
       "      <td>1531.078669</td>\n",
       "    </tr>\n",
       "    <tr>\n",
       "      <th>230369</th>\n",
       "      <td>550</td>\n",
       "      <td>918.088088</td>\n",
       "    </tr>\n",
       "    <tr>\n",
       "      <th>55191</th>\n",
       "      <td>4300</td>\n",
       "      <td>4143.990057</td>\n",
       "    </tr>\n",
       "    <tr>\n",
       "      <th>143743</th>\n",
       "      <td>650</td>\n",
       "      <td>614.543165</td>\n",
       "    </tr>\n",
       "    <tr>\n",
       "      <th>32285</th>\n",
       "      <td>9250</td>\n",
       "      <td>6373.728304</td>\n",
       "    </tr>\n",
       "    <tr>\n",
       "      <th>1572</th>\n",
       "      <td>3950</td>\n",
       "      <td>3963.088753</td>\n",
       "    </tr>\n",
       "  </tbody>\n",
       "</table>\n",
       "</div>"
      ],
      "text/plain": [
       "        Real prices    PredPrices\n",
       "104366         2750   2795.556904\n",
       "235879          595    893.683194\n",
       "166299         4400   3240.455801\n",
       "49392         10900  12510.585478\n",
       "123067          700   1236.123223\n",
       "210452        10900  11556.451351\n",
       "114971          500   1746.421849\n",
       "15393         10950   9498.455580\n",
       "112543         1690   2758.787648\n",
       "83674          7890   6108.674534\n",
       "209564        19999  16232.393542\n",
       "90271          2900   2785.060119\n",
       "29936         12990  12775.614509\n",
       "153378         2490   2014.650739\n",
       "51090          2300   1531.078669\n",
       "230369          550    918.088088\n",
       "55191          4300   4143.990057\n",
       "143743          650    614.543165\n",
       "32285          9250   6373.728304\n",
       "1572           3950   3963.088753"
      ]
     },
     "execution_count": 113,
     "metadata": {},
     "output_type": "execute_result"
    }
   ],
   "source": [
    "boostPrices = pd.DataFrame({'Real prices': y_test,\n",
    "                           'PredPrices': y_Boost})\n",
    "boostPrices.head(20)"
   ]
  },
  {
   "cell_type": "code",
   "execution_count": null,
   "metadata": {},
   "outputs": [],
   "source": []
  }
 ],
 "metadata": {
  "kernelspec": {
   "display_name": "Python 3",
   "language": "python",
   "name": "python3"
  },
  "language_info": {
   "codemirror_mode": {
    "name": "ipython",
    "version": 3
   },
   "file_extension": ".py",
   "mimetype": "text/x-python",
   "name": "python",
   "nbconvert_exporter": "python",
   "pygments_lexer": "ipython3",
   "version": "3.6.5"
  }
 },
 "nbformat": 4,
 "nbformat_minor": 2
}
