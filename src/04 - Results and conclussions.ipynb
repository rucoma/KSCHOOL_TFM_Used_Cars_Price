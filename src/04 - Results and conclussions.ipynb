{
 "cells": [
  {
   "cell_type": "markdown",
   "metadata": {},
   "source": [
    "# Main results"
   ]
  },
  {
   "cell_type": "code",
   "execution_count": 15,
   "metadata": {},
   "outputs": [],
   "source": [
    "from sklearn.externals import joblib\n",
    "import pandas as pd\n",
    "import matplotlib.pyplot as plt\n",
    "%matplotlib notebook"
   ]
  },
  {
   "cell_type": "code",
   "execution_count": 5,
   "metadata": {},
   "outputs": [],
   "source": [
    "final_results = joblib.load('../output/modelizationResults.pkl')\n",
    "final_results['Fine_Tuning'] = final_results['Fine_Tuning'].astype('bool')"
   ]
  },
  {
   "cell_type": "markdown",
   "metadata": {},
   "source": [
    "These are the populated results of the different algorithms applied to the dataset. As you can see, for each algorithm we provide scores for a prediction with default settings and scores with hyperparameters tuned:"
   ]
  },
  {
   "cell_type": "code",
   "execution_count": 13,
   "metadata": {},
   "outputs": [
    {
     "data": {
      "text/html": [
       "<div>\n",
       "<style scoped>\n",
       "    .dataframe tbody tr th:only-of-type {\n",
       "        vertical-align: middle;\n",
       "    }\n",
       "\n",
       "    .dataframe tbody tr th {\n",
       "        vertical-align: top;\n",
       "    }\n",
       "\n",
       "    .dataframe thead th {\n",
       "        text-align: right;\n",
       "    }\n",
       "</style>\n",
       "<table border=\"1\" class=\"dataframe\">\n",
       "  <thead>\n",
       "    <tr style=\"text-align: right;\">\n",
       "      <th></th>\n",
       "      <th>Algorithm</th>\n",
       "      <th>Fine_Tuning</th>\n",
       "      <th>R2_Train</th>\n",
       "      <th>R2_Test</th>\n",
       "      <th>MAE_Train</th>\n",
       "      <th>MAE_Test</th>\n",
       "    </tr>\n",
       "  </thead>\n",
       "  <tbody>\n",
       "    <tr>\n",
       "      <th>0</th>\n",
       "      <td>Decision trees</td>\n",
       "      <td>False</td>\n",
       "      <td>0.989</td>\n",
       "      <td>0.863</td>\n",
       "      <td>269.0</td>\n",
       "      <td>1278.0</td>\n",
       "    </tr>\n",
       "    <tr>\n",
       "      <th>0</th>\n",
       "      <td>Decision trees</td>\n",
       "      <td>True</td>\n",
       "      <td>0.943</td>\n",
       "      <td>0.883</td>\n",
       "      <td>926.0</td>\n",
       "      <td>1263.0</td>\n",
       "    </tr>\n",
       "    <tr>\n",
       "      <th>0</th>\n",
       "      <td>Random Forest</td>\n",
       "      <td>False</td>\n",
       "      <td>0.975</td>\n",
       "      <td>0.907</td>\n",
       "      <td>572.0</td>\n",
       "      <td>1132.0</td>\n",
       "    </tr>\n",
       "    <tr>\n",
       "      <th>0</th>\n",
       "      <td>Random Forest</td>\n",
       "      <td>True</td>\n",
       "      <td>0.897</td>\n",
       "      <td>0.881</td>\n",
       "      <td>1382.0</td>\n",
       "      <td>1445.0</td>\n",
       "    </tr>\n",
       "    <tr>\n",
       "      <th>0</th>\n",
       "      <td>K-nearest neighbours</td>\n",
       "      <td>False</td>\n",
       "      <td>0.900</td>\n",
       "      <td>0.839</td>\n",
       "      <td>1131.0</td>\n",
       "      <td>1445.0</td>\n",
       "    </tr>\n",
       "    <tr>\n",
       "      <th>0</th>\n",
       "      <td>K-nearest neighbours</td>\n",
       "      <td>True</td>\n",
       "      <td>0.989</td>\n",
       "      <td>0.860</td>\n",
       "      <td>273.0</td>\n",
       "      <td>1276.0</td>\n",
       "    </tr>\n",
       "    <tr>\n",
       "      <th>0</th>\n",
       "      <td>Gradient Boosting</td>\n",
       "      <td>False</td>\n",
       "      <td>0.847</td>\n",
       "      <td>0.836</td>\n",
       "      <td>1519.0</td>\n",
       "      <td>1556.0</td>\n",
       "    </tr>\n",
       "    <tr>\n",
       "      <th>0</th>\n",
       "      <td>Gradient Boosting</td>\n",
       "      <td>True</td>\n",
       "      <td>0.931</td>\n",
       "      <td>0.911</td>\n",
       "      <td>1108.0</td>\n",
       "      <td>1172.0</td>\n",
       "    </tr>\n",
       "  </tbody>\n",
       "</table>\n",
       "</div>"
      ],
      "text/plain": [
       "              Algorithm  Fine_Tuning  R2_Train  R2_Test  MAE_Train  MAE_Test\n",
       "0        Decision trees        False     0.989    0.863      269.0    1278.0\n",
       "0        Decision trees         True     0.943    0.883      926.0    1263.0\n",
       "0         Random Forest        False     0.975    0.907      572.0    1132.0\n",
       "0         Random Forest         True     0.897    0.881     1382.0    1445.0\n",
       "0  K-nearest neighbours        False     0.900    0.839     1131.0    1445.0\n",
       "0  K-nearest neighbours         True     0.989    0.860      273.0    1276.0\n",
       "0     Gradient Boosting        False     0.847    0.836     1519.0    1556.0\n",
       "0     Gradient Boosting         True     0.931    0.911     1108.0    1172.0"
      ]
     },
     "execution_count": 13,
     "metadata": {},
     "output_type": "execute_result"
    }
   ],
   "source": [
    "final_results"
   ]
  },
  {
   "cell_type": "markdown",
   "metadata": {},
   "source": [
    "As you can observe, results are not exactly the same amongst different algorithms, so we have to examinate carefully which one could provide better results."
   ]
  },
  {
   "cell_type": "markdown",
   "metadata": {},
   "source": [
    "Decission trees, despite of getting good scores with train data is not so good with test data. There is a substantial gap between scores. Same happens with KNN. This is probably a signal of overfitting, so we will discard them as a solution for our issue."
   ]
  },
  {
   "cell_type": "markdown",
   "metadata": {},
   "source": []
  },
  {
   "cell_type": "markdown",
   "metadata": {},
   "source": [
    "<img src=\"../output/DTTest.png\"\n",
    "     alt=\"Markdown Monster icon\"\n",
    "     style=\"float: left; margin-right: 10px;\" />"
   ]
  }
 ],
 "metadata": {
  "kernelspec": {
   "display_name": "Python 3",
   "language": "python",
   "name": "python3"
  },
  "language_info": {
   "codemirror_mode": {
    "name": "ipython",
    "version": 3
   },
   "file_extension": ".py",
   "mimetype": "text/x-python",
   "name": "python",
   "nbconvert_exporter": "python",
   "pygments_lexer": "ipython3",
   "version": "3.6.6"
  }
 },
 "nbformat": 4,
 "nbformat_minor": 2
}
