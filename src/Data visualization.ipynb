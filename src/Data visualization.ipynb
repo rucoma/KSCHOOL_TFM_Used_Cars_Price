{
 "cells": [
  {
   "cell_type": "markdown",
   "metadata": {},
   "source": [
    "# Data visualization\n",
    "\n",
    "### Loading required libraries\n"
   ]
  },
  {
   "cell_type": "code",
   "execution_count": 1,
   "metadata": {},
   "outputs": [
    {
     "name": "stderr",
     "output_type": "stream",
     "text": [
      "── Attaching packages ─────────────────────────────────────── tidyverse 1.2.1 ──\n",
      "✔ ggplot2 2.2.1     ✔ purrr   0.2.5\n",
      "✔ tibble  1.4.2     ✔ dplyr   0.7.5\n",
      "✔ tidyr   0.8.1     ✔ stringr 1.3.1\n",
      "✔ readr   1.1.1     ✔ forcats 0.3.0\n",
      "── Conflicts ────────────────────────────────────────── tidyverse_conflicts() ──\n",
      "✖ dplyr::between()   masks data.table::between()\n",
      "✖ dplyr::filter()    masks stats::filter()\n",
      "✖ dplyr::first()     masks data.table::first()\n",
      "✖ dplyr::lag()       masks stats::lag()\n",
      "✖ dplyr::last()      masks data.table::last()\n",
      "✖ purrr::transpose() masks data.table::transpose()\n",
      "Loading required package: sp\n",
      "rgdal: version: 1.3-3, (SVN revision 759)\n",
      " Geospatial Data Abstraction Library extensions to R successfully loaded\n",
      " Loaded GDAL runtime: GDAL 2.2.3, released 2017/11/20\n",
      " Path to GDAL shared files: /usr/share/gdal/2.2\n",
      " GDAL binary built with GEOS: TRUE \n",
      " Loaded PROJ.4 runtime: Rel. 4.9.3, 15 August 2016, [PJ_VERSION: 493]\n",
      " Path to PROJ.4 shared files: (autodetected)\n",
      " Linking to sp version: 1.3-1 \n",
      "\n",
      "Attaching package: ‘scales’\n",
      "\n",
      "The following object is masked from ‘package:purrr’:\n",
      "\n",
      "    discard\n",
      "\n",
      "The following object is masked from ‘package:readr’:\n",
      "\n",
      "    col_factor\n",
      "\n",
      "corrplot 0.84 loaded\n",
      "\n",
      "Attaching package: ‘gridExtra’\n",
      "\n",
      "The following object is masked from ‘package:dplyr’:\n",
      "\n",
      "    combine\n",
      "\n"
     ]
    }
   ],
   "source": [
    "listPackages <- c('rgdal', 'ggplot2', 'ggmap', 'tidyverse', 'data.table', \n",
    "                  'scales', 'corrplot', 'gridExtra', 'treemap', 'RColorBrewer',\n",
    "                 'rgdal')\n",
    "newPackages <- listPackages[!(listPackages %in% installed.packages()[,'Package'])]\n",
    "if(length(newPackages)) install.packages(newPackages)\n",
    "\n",
    "rm(list = c('listPackages', 'newPackages'))\n",
    "\n",
    "library(data.table)\n",
    "library(tidyverse)\n",
    "library(ggmap)\n",
    "library(rgdal)\n",
    "library(kableExtra)\n",
    "library(scales)\n",
    "library(corrplot)\n",
    "library(gridExtra)\n",
    "library(treemap)\n",
    "library(RColorBrewer)"
   ]
  },
  {
   "cell_type": "markdown",
   "metadata": {},
   "source": [
    "### Loading the data\n",
    "We are going to load the clean dataset to visualize data structure.\n",
    "As data is at state / lander level, it would be interesting to visualize it using maps. For that, it will be necessary download shapefile file with polygon configuration."
   ]
  },
  {
   "cell_type": "code",
   "execution_count": 2,
   "metadata": {
    "scrolled": false
   },
   "outputs": [],
   "source": [
    "# Dataset\n",
    "load(file = '../data/datasetCarsFinal')\n",
    "# Download dataset from Dropbox\n",
    "download.file(url = 'https://www.dropbox.com/s/xuupzr8rfpeekyc/VG250_1Jan2011_WGS84.zip?dl=1',\n",
    "              destfile = './data/VG250_1Jan2011_WGS84.zip')\n",
    "unzip(zipfile = '../data/VG250_1Jan2011_WGS84.zip', exdir = '../data/Germany_shapefile/')\n",
    "shapefileLander <- readOGR('../data/Germany_shapefile/', layer = 'VG250_Bundeslaender', encoding = 'ISO-8859-15')"
   ]
  },
  {
   "cell_type": "markdown",
   "metadata": {},
   "source": [
    "### Setting up chart themes\n",
    "\n",
    "In order to maintain the look and feel amongst charts, is very useful to create themes. With themes we can set up every part of the chart."
   ]
  },
  {
   "cell_type": "code",
   "execution_count": 11,
   "metadata": {},
   "outputs": [],
   "source": [
    "themeCharts <- ggplot2::theme(\n",
    "  axis.title = element_text(colour = '#2D4471', size = 14),\n",
    "  axis.text.x = element_text(colour = '#2D4471', size = 12, angle = 90, vjust = .5),\n",
    "  axis.text.y = element_text(colour = '#2D4471', size = 12),\n",
    "  axis.ticks = element_line(colour = '#2D4471'),\n",
    "  axis.line = element_line(colour = '#2D4471'),\n",
    "  legend.text = element_text(colour = '#2D4471', size = 14),\n",
    "  legend.title = element_text(colour = '#2D4471', size = 16),\n",
    "  panel.grid.major = element_line(colour = 'gray95', linetype = 1), #'#2D4471'\n",
    "  plot.title = element_text(colour = '#2D4471', size = 22, face = 'bold'),\n",
    "  plot.subtitle = element_text(colour = '#2D4471', size = 16),\n",
    "  panel.background = element_rect(fill = '#FFFFFF'),\n",
    "  legend.box.background = element_blank(),\n",
    "  legend.key = element_blank()\n",
    "  )\n",
    "\n",
    "themeMaps <- theme(\n",
    "  axis.title = element_blank(),\n",
    "  axis.text.x = element_blank(),\n",
    "  axis.text.y = element_blank(),\n",
    "  axis.ticks = element_blank(),\n",
    "  axis.line = element_blank(),\n",
    "  legend.text = element_text(colour = '#2D4471', size = 10),\n",
    "  legend.title = element_text(colour = '#2D4471', size = 12),\n",
    "  plot.title = element_text(colour = '#2D4471', size = 18, face = 'bold'),\n",
    "  plot.subtitle = element_text(colour = '#2D4471', size = 14),\n",
    "  panel.background = element_rect(fill = '#FFFFFF'),\n",
    "  legend.box.background = element_blank(),\n",
    "  legend.key = element_blank(),\n",
    "  panel.grid.major = element_blank(), \n",
    "  panel.grid.minor = element_blank()\n",
    ")"
   ]
  },
  {
   "cell_type": "markdown",
   "metadata": {},
   "source": [
    "### Charting numerical variables\n",
    "\n",
    "Numerical and categorical variables require a different type of visualization"
   ]
  },
  {
   "cell_type": "code",
   "execution_count": null,
   "metadata": {},
   "outputs": [],
   "source": [
    "## Numerical variables ---------------------------------------------------------\n",
    "\n",
    "## Using data frame variables as arguments in custom function\n",
    "plotNumerical <- function(df, xvar, yvar, xName, yName, tit, subtit = NULL) {\n",
    "  ggplot(df,\n",
    "         aes_string(x = xvar, \n",
    "                    y= yvar)) +\n",
    "    geom_point(alpha = 0.2, \n",
    "               color = '#D16666') +\n",
    "    scale_x_continuous(name = xName) +\n",
    "    scale_y_continuous(name = yName, \n",
    "                       labels = scales::dollar_format(prefix = '€')) +\n",
    "    labs(title = tit,\n",
    "         subtitle = subtit) +\n",
    "    themeCharts\n",
    "}\n",
    "\n",
    "g1 <- plotNumerical(df = datasetCarsFinal, xvar = 'yearOfRegistration', yvar = 'price', xName = 'Year', yName = 'Price', tit = 'Price by Year')\n",
    "g2 <- plotNumerical(df = datasetCarsFinal, xvar = 'powerPS', yvar = 'price', xName = 'Power PS', yName = 'Price', tit = 'Price by Power PS')\n",
    "g3 <- plotNumerical(df = datasetCarsFinal, xvar = 'kilometer', yvar = 'price', xName = 'Kilometer', yName = 'Price', tit = 'Price by Kilometer')\n",
    "\n",
    "grid.arrange(g1, g2, g3, nrow = 1)"
   ]
  },
  {
   "cell_type": "code",
   "execution_count": null,
   "metadata": {},
   "outputs": [],
   "source": [
    "gBoxplot1 <- ggplot(data = datasetCarsFinal,\n",
    "                    mapping = aes(x = yearOfRegistration,\n",
    "                                  y = price,\n",
    "                                  group = yearOfRegistration)) +\n",
    "  geom_boxplot(alpha = 0.1, color = '#D16666') +\n",
    "  labs(title = 'Price boxplot by year', subtitle = NULL) +\n",
    "  scale_x_continuous(name = 'Year', breaks = seq(1950, 2020, by = 10)) +\n",
    "  scale_y_continuous(name = 'Price', labels = scales::dollar_format(prefix = '€')) +\n",
    "  themeCharts\n",
    "gBoxplot1"
   ]
  },
  {
   "cell_type": "code",
   "execution_count": null,
   "metadata": {},
   "outputs": [],
   "source": [
    "numericalCol <- c('yearOfRegistration', 'powerPS', 'kilometer', 'price')\n",
    "datasetNumerical <- datasetCarsFinal[, ..numericalCol]\n",
    "\n",
    "plot(datasetNumerical)"
   ]
  },
  {
   "cell_type": "markdown",
   "metadata": {},
   "source": [
    "### Correlation chart"
   ]
  },
  {
   "cell_type": "code",
   "execution_count": null,
   "metadata": {},
   "outputs": [],
   "source": [
    "corrplot(cor(datasetNumerical), \n",
    "         method = 'number', \n",
    "         addCoef.col = T, \n",
    "         type = 'lower', \n",
    "         title = 'Correlation coefficients', \n",
    "         outline = T,\n",
    "         tl.pos = 'ld',\n",
    "         number.cex = 1.25)"
   ]
  },
  {
   "cell_type": "markdown",
   "metadata": {},
   "source": [
    "### Charting categorical variables"
   ]
  },
  {
   "cell_type": "code",
   "execution_count": null,
   "metadata": {},
   "outputs": [],
   "source": [
    "## Categorical variables\n",
    "gBoxplot2 <- \n",
    "  ggplot(data = datasetCarsFinal,\n",
    "                    mapping = aes(x = brand,\n",
    "                                  y = price)) +\n",
    "  geom_boxplot(alpha = 0.1, color = '#D16666') +\n",
    "  geom_hline(yintercept = mean(datasetNumerical$price), linetype=\"dashed\") +\n",
    "  annotate(geom = 'text', x = 3, y = mean(datasetNumerical$price), label = paste0('Average price: ', sprintf('%4.0f €', round(mean(datasetNumerical$price), 0))), vjust = -.5) +\n",
    "  labs(title = 'Price boxplot by brand', subtitle = NULL) +\n",
    "  scale_x_discrete(name = 'Brand') +\n",
    "  scale_y_log10(name = 'Price (log scale)', labels = scales::dollar_format(prefix = '€')) +\n",
    "  \n",
    "  themeCharts\n",
    "gBoxplot2"
   ]
  },
  {
   "cell_type": "code",
   "execution_count": null,
   "metadata": {},
   "outputs": [],
   "source": [
    "gCountBrand <- \n",
    "  ggplot(data = datasetCarsFinal[, .(N = .N), by = brand][order(-N)],\n",
    "       mapping = aes(x = reorder(brand, N),\n",
    "                     y = N)) +\n",
    "  geom_col(fill = '#D16666') +\n",
    "  coord_flip() +\n",
    "  labs(title = 'Brand count', subtitle = NULL) +\n",
    "  scale_x_discrete(name = 'Brand') +\n",
    "  scale_y_continuous(name = 'Count', labels = comma) +\n",
    "  themeCharts\n",
    "gCountBrand"
   ]
  },
  {
   "cell_type": "code",
   "execution_count": null,
   "metadata": {},
   "outputs": [],
   "source": [
    "vehicleTypeEvol <- \n",
    "  ggplot(datasetCarsFinal[yearOfRegistration > 1980 & yearOfRegistration < 2016, .(N = .N), by =.(yearOfRegistration, vehicleType)],\n",
    "         aes(x = yearOfRegistration,\n",
    "             y = N,\n",
    "             color = vehicleType)) +\n",
    "  geom_line(size = 1) +\n",
    "  scale_color_brewer(palette = 'Set1', name = 'Vehicle type') +\n",
    "  scale_x_continuous(name = 'Year', breaks = seq(1980, 2020, by = 10)) +\n",
    "  scale_y_continuous(name = 'Count', labels = comma) +\n",
    "  labs(title = 'Vehicle type evolution', subtitle = NULL) +\n",
    "  themeCharts\n",
    "vehicleTypeEvol"
   ]
  },
  {
   "cell_type": "code",
   "execution_count": null,
   "metadata": {},
   "outputs": [],
   "source": [
    "gearboxEvol <- \n",
    "  ggplot(datasetCarsFinal[yearOfRegistration > 1980 & yearOfRegistration < 2016, .(N = .N), by =.(yearOfRegistration, gearbox)],\n",
    "         aes(x = yearOfRegistration,\n",
    "             y = N,\n",
    "             color = gearbox)) +\n",
    "  geom_line(size = 1) +\n",
    "  scale_color_brewer(palette = 'Set1', name = 'Gearbox') +\n",
    "  scale_x_continuous(name = 'Year', breaks = seq(1980, 2020, by = 10)) +\n",
    "  scale_y_continuous(name = 'Count', labels = comma) +\n",
    "  labs(title = 'Gearbox type evolution', subtitle = NULL) +\n",
    "  themeCharts\n",
    "gearboxEvol"
   ]
  },
  {
   "cell_type": "code",
   "execution_count": null,
   "metadata": {},
   "outputs": [],
   "source": [
    "fuelTypeEvol <- \n",
    "  ggplot(datasetCarsFinal[yearOfRegistration > 1980 & yearOfRegistration < 2016, .(N = .N), by =.(yearOfRegistration, fuelType)],\n",
    "         aes(x = yearOfRegistration,\n",
    "             y = N,\n",
    "             color = fuelType)) +\n",
    "  geom_line(size = 1) +\n",
    "  scale_color_brewer(palette = 'Set1', name = 'Fuel type') +\n",
    "  scale_x_continuous(name = 'Year', breaks = seq(1980, 2020, by = 10)) +\n",
    "  scale_y_continuous(name = 'Count', labels = comma) +\n",
    "  labs(title = 'Fuel type evolution', subtitle = NULL) +\n",
    "  themeCharts\n",
    "fuelTypeEvol"
   ]
  },
  {
   "cell_type": "code",
   "execution_count": null,
   "metadata": {},
   "outputs": [],
   "source": [
    "grid.arrange(vehicleTypeEvol, gearboxEvol, fuelTypeEvol, nrow = 1)"
   ]
  },
  {
   "cell_type": "markdown",
   "metadata": {},
   "source": [
    "### Treemap"
   ]
  },
  {
   "cell_type": "code",
   "execution_count": null,
   "metadata": {},
   "outputs": [],
   "source": [
    "brandPrice <- datasetCarsFinal[, .(N = .N, meanPrice = mean(price)), by = brand]\n",
    "brandPrice$label <- paste(brandPrice$brand, format(round(brandPrice$meanPrice, 0), big.mark = '.', decimal.mark = ','), sep = ':')\n",
    "treeMapBrands <- \n",
    "  treemap(dtf = brandPrice,\n",
    "        index = c('label'),\n",
    "        vSize = 'N',\n",
    "        vColor = 'meanPrice',\n",
    "        type = 'value',\n",
    "        fontsize.title = 10,\n",
    "        fontsize.labels = 10,\n",
    "        title = 'Brands distribution \\n Square size: number of cars \\n Value: average price',\n",
    "        border.lwds = 1,\n",
    "        aspRatio = 3)"
   ]
  },
  {
   "cell_type": "markdown",
   "metadata": {},
   "source": [
    "## Mapping data"
   ]
  },
  {
   "cell_type": "code",
   "execution_count": null,
   "metadata": {},
   "outputs": [],
   "source": [
    "# Data for filling maps --------------------------------------------------------\n",
    "avPriceLander <- datasetCarsFinal[, .(avPrice = mean(price)), by = state]\n",
    "nCarsLander <- datasetCarsFinal[, .(N = .N), by = state]"
   ]
  },
  {
   "cell_type": "code",
   "execution_count": null,
   "metadata": {},
   "outputs": [],
   "source": [
    "# Manipulate shapefile to create a data frame with all necessary data ----------\n",
    "mapDataFortifiedLander <- fortify(shapefileLander) %>% \n",
    "  mutate(id = as.numeric(id)) %>% \n",
    "  setDT()\n",
    "dfLander <- data.frame(state = shapefileLander@data$GEN,\n",
    "                      id = 0:20)"
   ]
  },
  {
   "cell_type": "code",
   "execution_count": null,
   "metadata": {},
   "outputs": [],
   "source": [
    "# Determining the centroid of every polygon\n",
    "centroids <- as.data.frame(coordinates(shapefileLander)) %>% \n",
    "  rename(long = V1, lat = V2) %>% \n",
    "  mutate(id = seq(0, nrow(centroids) - 1)) %>% \n",
    "  left_join(., dfLander, by ='id') %>% \n",
    "  setDT()"
   ]
  },
  {
   "cell_type": "code",
   "execution_count": null,
   "metadata": {},
   "outputs": [],
   "source": [
    "mapDataMergedLander <- left_join(mapDataFortifiedLander, dfLander, by = 'id') %>% \n",
    "  left_join(., avPriceLander, by = 'state') %>% \n",
    "  left_join(., nCarsLander, by = 'state') %>%\n",
    "  setDT()"
   ]
  },
  {
   "cell_type": "code",
   "execution_count": null,
   "metadata": {},
   "outputs": [],
   "source": [
    "notNecessaryIds <- c(14, 4, 11, 6, 13)"
   ]
  },
  {
   "cell_type": "code",
   "execution_count": null,
   "metadata": {},
   "outputs": [],
   "source": [
    "## Maps ------------------------------------------------------------------------\n",
    "ggplot() +\n",
    "  geom_path(data = mapDataMergedLander,\n",
    "            mapping = aes(x = long, y = lat, group = group),\n",
    "            color = 'black',\n",
    "            size = .1) +\n",
    "  geom_polygon(data = mapDataMergedLander,\n",
    "               mapping = aes(x = long, y = lat, group = group, fill = avPrice)) +\n",
    "  scale_fill_gradient(low = \"white\",\n",
    "                      high = \"#ff702f\",\n",
    "                      na.value = \"grey\",\n",
    "                      space = \"Lab\",\n",
    "                      name = 'Average \\nprice') +\n",
    "  geom_point(data = centroids[!(id %in% notNecessaryIds)],\n",
    "             mapping = aes(x = long,\n",
    "                           y = lat),\n",
    "             colour ='#2D4471') +\n",
    "  coord_map(projection = 'mercator') +\n",
    "  geom_text(data = centroids[!(id %in% notNecessaryIds)],\n",
    "            mapping = aes(x = long,\n",
    "                          y = lat,\n",
    "                          label = as.character(state)),\n",
    "            size = 3,\n",
    "            colour ='#2D4471',\n",
    "            nudge_y = -0.15) +\n",
    "  labs(title = 'Average price of cars on sale', subtitle = 'By Lander') +\n",
    "  themeMaps"
   ]
  },
  {
   "cell_type": "code",
   "execution_count": null,
   "metadata": {},
   "outputs": [],
   "source": [
    "ggplot() +\n",
    "  geom_path(data = mapDataMergedLander,\n",
    "            mapping = aes(x = long, y = lat, group = group),\n",
    "            color = 'black',\n",
    "            size = .1) +\n",
    "  geom_polygon(data = mapDataMergedLander,\n",
    "               mapping = aes(x = long, y = lat, group = group, fill = N)) +\n",
    "  scale_fill_gradient(low = \"white\",\n",
    "                      high = \"#ff702f\",\n",
    "                      na.value = \"grey\",\n",
    "                      space = \"Lab\",\n",
    "                      name = 'Number \\nof cars') +\n",
    "  geom_point(data = centroids[!(id %in% notNecessaryIds)],\n",
    "             mapping = aes(x = long,\n",
    "                           y = lat),\n",
    "             colour ='#2D4471') +\n",
    "  coord_map(projection = 'mercator') +\n",
    "  geom_text(data = centroids[!(id %in% notNecessaryIds)],\n",
    "            mapping = aes(x = long,\n",
    "                          y = lat,\n",
    "                          label = as.character(state)),\n",
    "            size = 3,\n",
    "            colour ='#2D4471',\n",
    "            nudge_y = -0.15) +\n",
    "  labs(title = 'Number of cars on sale', subtitle = 'By Lander') +\n",
    "  themeMaps\n"
   ]
  }
 ],
 "metadata": {
  "kernelspec": {
   "display_name": "R",
   "language": "R",
   "name": "ir"
  },
  "language_info": {
   "codemirror_mode": "r",
   "file_extension": ".r",
   "mimetype": "text/x-r-source",
   "name": "R",
   "pygments_lexer": "r",
   "version": "3.4.4"
  }
 },
 "nbformat": 4,
 "nbformat_minor": 2
}
