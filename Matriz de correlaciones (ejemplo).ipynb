{
 "cells": [
  {
   "cell_type": "markdown",
   "metadata": {},
   "source": [
    "### Matriz de correlaciones\n",
    "[Ejemplo](https://seaborn.pydata.org/examples/many_pairwise_correlations.html)"
   ]
  },
  {
   "cell_type": "code",
   "execution_count": 1,
   "metadata": {},
   "outputs": [
    {
     "data": {
      "text/html": [
       "<div>\n",
       "<style scoped>\n",
       "    .dataframe tbody tr th:only-of-type {\n",
       "        vertical-align: middle;\n",
       "    }\n",
       "\n",
       "    .dataframe tbody tr th {\n",
       "        vertical-align: top;\n",
       "    }\n",
       "\n",
       "    .dataframe thead th {\n",
       "        text-align: right;\n",
       "    }\n",
       "</style>\n",
       "<table border=\"1\" class=\"dataframe\">\n",
       "  <thead>\n",
       "    <tr style=\"text-align: right;\">\n",
       "      <th></th>\n",
       "      <th>postalCode</th>\n",
       "      <th>state</th>\n",
       "      <th>community</th>\n",
       "      <th>price</th>\n",
       "      <th>vehicleType</th>\n",
       "      <th>yearOfRegistration</th>\n",
       "      <th>gearbox</th>\n",
       "      <th>powerPS</th>\n",
       "      <th>kilometerCategorical</th>\n",
       "      <th>fuelType</th>\n",
       "      <th>brand</th>\n",
       "      <th>model</th>\n",
       "      <th>notRepairedDamage</th>\n",
       "      <th>kilometer</th>\n",
       "    </tr>\n",
       "  </thead>\n",
       "  <tbody>\n",
       "    <tr>\n",
       "      <th>0</th>\n",
       "      <td>90480</td>\n",
       "      <td>Bayern</td>\n",
       "      <td>Nürnberg</td>\n",
       "      <td>9800</td>\n",
       "      <td>suv</td>\n",
       "      <td>2004</td>\n",
       "      <td>automatik</td>\n",
       "      <td>163</td>\n",
       "      <td>km&gt;100000</td>\n",
       "      <td>diesel</td>\n",
       "      <td>jeep</td>\n",
       "      <td>grand</td>\n",
       "      <td>Not applicable</td>\n",
       "      <td>125000</td>\n",
       "    </tr>\n",
       "    <tr>\n",
       "      <th>1</th>\n",
       "      <td>91074</td>\n",
       "      <td>Bayern</td>\n",
       "      <td>Landkreis Erlangen-Höchstadt</td>\n",
       "      <td>1500</td>\n",
       "      <td>kleinwagen</td>\n",
       "      <td>2001</td>\n",
       "      <td>manuell</td>\n",
       "      <td>75</td>\n",
       "      <td>km&gt;100000</td>\n",
       "      <td>benzin</td>\n",
       "      <td>volkswagen</td>\n",
       "      <td>golf</td>\n",
       "      <td>nein</td>\n",
       "      <td>150000</td>\n",
       "    </tr>\n",
       "    <tr>\n",
       "      <th>2</th>\n",
       "      <td>60437</td>\n",
       "      <td>Hessen</td>\n",
       "      <td>Frankfurt am Main, Stadt</td>\n",
       "      <td>3600</td>\n",
       "      <td>kleinwagen</td>\n",
       "      <td>2008</td>\n",
       "      <td>manuell</td>\n",
       "      <td>69</td>\n",
       "      <td>50000&gt;km&lt;100000</td>\n",
       "      <td>diesel</td>\n",
       "      <td>skoda</td>\n",
       "      <td>fabia</td>\n",
       "      <td>nein</td>\n",
       "      <td>90000</td>\n",
       "    </tr>\n",
       "    <tr>\n",
       "      <th>3</th>\n",
       "      <td>33775</td>\n",
       "      <td>Nordrhein-Westfalen</td>\n",
       "      <td>Gütersloh</td>\n",
       "      <td>650</td>\n",
       "      <td>limousine</td>\n",
       "      <td>1995</td>\n",
       "      <td>manuell</td>\n",
       "      <td>102</td>\n",
       "      <td>km&gt;100000</td>\n",
       "      <td>benzin</td>\n",
       "      <td>bmw</td>\n",
       "      <td>3er</td>\n",
       "      <td>ja</td>\n",
       "      <td>150000</td>\n",
       "    </tr>\n",
       "    <tr>\n",
       "      <th>4</th>\n",
       "      <td>67112</td>\n",
       "      <td>Rheinland-Pfalz</td>\n",
       "      <td>Rhein-Pfalz-Kreis</td>\n",
       "      <td>2200</td>\n",
       "      <td>cabrio</td>\n",
       "      <td>2004</td>\n",
       "      <td>manuell</td>\n",
       "      <td>109</td>\n",
       "      <td>km&gt;100000</td>\n",
       "      <td>benzin</td>\n",
       "      <td>peugeot</td>\n",
       "      <td>2_reihe</td>\n",
       "      <td>nein</td>\n",
       "      <td>150000</td>\n",
       "    </tr>\n",
       "  </tbody>\n",
       "</table>\n",
       "</div>"
      ],
      "text/plain": [
       "  postalCode                state                     community  price  \\\n",
       "0      90480               Bayern                      Nürnberg   9800   \n",
       "1      91074               Bayern  Landkreis Erlangen-Höchstadt   1500   \n",
       "2      60437               Hessen      Frankfurt am Main, Stadt   3600   \n",
       "3      33775  Nordrhein-Westfalen                     Gütersloh    650   \n",
       "4      67112      Rheinland-Pfalz             Rhein-Pfalz-Kreis   2200   \n",
       "\n",
       "  vehicleType  yearOfRegistration    gearbox  powerPS kilometerCategorical  \\\n",
       "0         suv                2004  automatik      163            km>100000   \n",
       "1  kleinwagen                2001    manuell       75            km>100000   \n",
       "2  kleinwagen                2008    manuell       69      50000>km<100000   \n",
       "3   limousine                1995    manuell      102            km>100000   \n",
       "4      cabrio                2004    manuell      109            km>100000   \n",
       "\n",
       "  fuelType       brand    model notRepairedDamage  kilometer  \n",
       "0   diesel        jeep    grand    Not applicable     125000  \n",
       "1   benzin  volkswagen     golf              nein     150000  \n",
       "2   diesel       skoda    fabia              nein      90000  \n",
       "3   benzin         bmw      3er                ja     150000  \n",
       "4   benzin     peugeot  2_reihe              nein     150000  "
      ]
     },
     "execution_count": 1,
     "metadata": {},
     "output_type": "execute_result"
    }
   ],
   "source": [
    "import numpy as np\n",
    "import pandas as pd\n",
    "import matplotlib.pyplot as plt\n",
    "% matplotlib inline\n",
    "import seaborn as sns\n",
    "from subprocess import check_output\n",
    "#print(check_output(['ls', './data']).decode('utf-8'))\n",
    "from sklearn.model_selection import train_test_split\n",
    "from sklearn.linear_model import LinearRegression\n",
    "from sklearn.preprocessing import PolynomialFeatures\n",
    "from sklearn.metrics import r2_score\n",
    "\n",
    "datasetCarsFinal = pd.read_csv('./data/autosFinal.csv',\n",
    "                               dtype={'brand': 'str', \n",
    "                                      'model': 'str', \n",
    "                                      'vehicleType': 'str', \n",
    "                                      'gearbox': 'str', \n",
    "                                      'yearOfRegistration': np.int64,\n",
    "                                      'fuelType': 'str',\n",
    "                                      'powerPS': np.int64,\n",
    "                                      'kilometer': np.int64,\n",
    "                                      'kilometerCategorical': 'str',\n",
    "                                      #'kilometer000': np.int64,\n",
    "                                      'notRepairedDamage': 'str',\n",
    "                                      'postalCode': 'str',\n",
    "                                      'state': 'str',\n",
    "                                      'community': 'str',\n",
    "                                      'price': np.int64})\n",
    "datasetCarsFinal.columns\n",
    "datasetCarsFinal.head()"
   ]
  },
  {
   "cell_type": "code",
   "execution_count": 3,
   "metadata": {
    "scrolled": true
   },
   "outputs": [
    {
     "data": {
      "image/png": "[encoded data removed]",
      "text/plain": [
       "<Figure size 720x720 with 2 Axes>"
      ]
     },
     "metadata": {},
     "output_type": "display_data"
    },
    {
     "data": {
      "image/png": "[encoded data removed]",
      "text/plain": [
       "<Figure size 288x288 with 1 Axes>"
      ]
     },
     "metadata": {},
     "output_type": "display_data"
    }
   ],
   "source": [
    "'''\n",
    "Correlation matrix\n",
    "'''\n",
    "datasetCarsFinal[['price', 'yearOfRegistration', 'powerPS', 'kilometer']].corr()\n",
    "\n",
    "labels = ['price', 'yearOfRegistration', 'powerPS', 'kilometer']\n",
    "fig = plt.figure(figsize=(10, 10))\n",
    "ax = fig.add_subplot(111)\n",
    "cax = plt.matshow(datasetCarsFinal[['price', 'yearOfRegistration', 'powerPS', 'kilometer']].corr())\n",
    "fig.colorbar(cax)\n",
    "ax.set_xticklabels([''] + labels)\n",
    "ax.set_yticklabels([''] + labels)\n",
    "plt.show()\n"
   ]
  },
  {
   "cell_type": "code",
   "execution_count": 5,
   "metadata": {},
   "outputs": [],
   "source": [
    "import seaborn as sns\n",
    "sns.set(style=\"white\")"
   ]
  },
  {
   "cell_type": "code",
   "execution_count": 7,
   "metadata": {
    "scrolled": true
   },
   "outputs": [
    {
     "data": {
      "text/html": [
       "<div>\n",
       "<style scoped>\n",
       "    .dataframe tbody tr th:only-of-type {\n",
       "        vertical-align: middle;\n",
       "    }\n",
       "\n",
       "    .dataframe tbody tr th {\n",
       "        vertical-align: top;\n",
       "    }\n",
       "\n",
       "    .dataframe thead th {\n",
       "        text-align: right;\n",
       "    }\n",
       "</style>\n",
       "<table border=\"1\" class=\"dataframe\">\n",
       "  <thead>\n",
       "    <tr style=\"text-align: right;\">\n",
       "      <th></th>\n",
       "      <th>price</th>\n",
       "      <th>yearOfRegistration</th>\n",
       "      <th>powerPS</th>\n",
       "      <th>kilometer</th>\n",
       "    </tr>\n",
       "  </thead>\n",
       "  <tbody>\n",
       "    <tr>\n",
       "      <th>price</th>\n",
       "      <td>1.000000</td>\n",
       "      <td>0.439887</td>\n",
       "      <td>0.563985</td>\n",
       "      <td>-0.450173</td>\n",
       "    </tr>\n",
       "    <tr>\n",
       "      <th>yearOfRegistration</th>\n",
       "      <td>0.439887</td>\n",
       "      <td>1.000000</td>\n",
       "      <td>0.212275</td>\n",
       "      <td>-0.406698</td>\n",
       "    </tr>\n",
       "    <tr>\n",
       "      <th>powerPS</th>\n",
       "      <td>0.563985</td>\n",
       "      <td>0.212275</td>\n",
       "      <td>1.000000</td>\n",
       "      <td>-0.012549</td>\n",
       "    </tr>\n",
       "    <tr>\n",
       "      <th>kilometer</th>\n",
       "      <td>-0.450173</td>\n",
       "      <td>-0.406698</td>\n",
       "      <td>-0.012549</td>\n",
       "      <td>1.000000</td>\n",
       "    </tr>\n",
       "  </tbody>\n",
       "</table>\n",
       "</div>"
      ],
      "text/plain": [
       "                       price  yearOfRegistration   powerPS  kilometer\n",
       "price               1.000000            0.439887  0.563985  -0.450173\n",
       "yearOfRegistration  0.439887            1.000000  0.212275  -0.406698\n",
       "powerPS             0.563985            0.212275  1.000000  -0.012549\n",
       "kilometer          -0.450173           -0.406698 -0.012549   1.000000"
      ]
     },
     "execution_count": 7,
     "metadata": {},
     "output_type": "execute_result"
    }
   ],
   "source": [
    "# Compute the correlation matrix\n",
    "corr = datasetCarsFinal[['price', 'yearOfRegistration', 'powerPS', 'kilometer']].corr()\n",
    "corr"
   ]
  },
  {
   "cell_type": "code",
   "execution_count": 8,
   "metadata": {},
   "outputs": [
    {
     "data": {
      "text/plain": [
       "<matplotlib.axes._subplots.AxesSubplot at 0x7fa43c51c8d0>"
      ]
     },
     "execution_count": 8,
     "metadata": {},
     "output_type": "execute_result"
    },
    {
     "data": {
      "image/png": "[encoded data removed]",
      "text/plain": [
       "<Figure size 792x648 with 2 Axes>"
      ]
     },
     "metadata": {},
     "output_type": "display_data"
    }
   ],
   "source": [
    "# Generate a mask for the upper triangle\n",
    "mask = np.zeros_like(corr, dtype=np.bool)\n",
    "mask[np.triu_indices_from(mask)] = True\n",
    "\n",
    "# Set up the matplotlib figure\n",
    "f, ax = plt.subplots(figsize=(11, 9))\n",
    "\n",
    "# Generate a custom diverging colormap\n",
    "cmap = sns.diverging_palette(220, 10, as_cmap=True)\n",
    "\n",
    "# Draw the heatmap with the mask and correct aspect ratio\n",
    "sns.heatmap(corr, mask=mask, cmap=cmap, vmax=.3, center=0,\n",
    "            square=True, linewidths=.5, cbar_kws={\"shrink\": .5})"
   ]
  }
 ],
 "metadata": {
  "kernelspec": {
   "display_name": "Python 3",
   "language": "python",
   "name": "python3"
  },
  "language_info": {
   "codemirror_mode": {
    "name": "ipython",
    "version": 3
   },
   "file_extension": ".py",
   "mimetype": "text/x-python",
   "name": "python",
   "nbconvert_exporter": "python",
   "pygments_lexer": "ipython3",
   "version": "3.6.5"
  }
 },
 "nbformat": 4,
 "nbformat_minor": 2
}
